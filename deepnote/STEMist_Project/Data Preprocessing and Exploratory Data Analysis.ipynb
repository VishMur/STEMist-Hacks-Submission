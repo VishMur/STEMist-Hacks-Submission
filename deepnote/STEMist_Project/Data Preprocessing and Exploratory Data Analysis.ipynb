{
  "cells": [
    {
      "cell_type": "code",
      "source": "! pip install chembl_webresource_client\n! pip install rdkit-pypi",
      "metadata": {
        "source_hash": "df02af72",
        "execution_start": 1690096701529,
        "execution_millis": 8912,
        "deepnote_to_be_reexecuted": false,
        "cell_id": "1fd2b452e46d47ec9e24c1337d5c10ff",
        "deepnote_cell_type": "code"
      },
      "outputs": [
        {
          "name": "stdout",
          "text": "Collecting chembl_webresource_client\n  Downloading chembl_webresource_client-0.10.8-py3-none-any.whl (55 kB)\n\u001b[2K     \u001b[90m━━━━━━━━━━━━━━━━━━━━━━━━━━━━━━━━━━━━━━━━\u001b[0m \u001b[32m55.2/55.2 KB\u001b[0m \u001b[31m10.8 MB/s\u001b[0m eta \u001b[36m0:00:00\u001b[0m\n\u001b[?25hCollecting requests-cache~=0.7.0\n  Downloading requests_cache-0.7.5-py3-none-any.whl (39 kB)\nRequirement already satisfied: urllib3 in /shared-libs/python3.9/py/lib/python3.9/site-packages (from chembl_webresource_client) (1.26.12)\nCollecting easydict\n  Downloading easydict-1.10.tar.gz (6.4 kB)\n  Preparing metadata (setup.py) ... \u001b[?25ldone\n\u001b[?25hRequirement already satisfied: requests>=2.18.4 in /shared-libs/python3.9/py/lib/python3.9/site-packages (from chembl_webresource_client) (2.28.1)\nRequirement already satisfied: idna<4,>=2.5 in /shared-libs/python3.9/py-core/lib/python3.9/site-packages (from requests>=2.18.4->chembl_webresource_client) (3.4)\nRequirement already satisfied: certifi>=2017.4.17 in /shared-libs/python3.9/py/lib/python3.9/site-packages (from requests>=2.18.4->chembl_webresource_client) (2022.9.24)\nRequirement already satisfied: charset-normalizer<3,>=2 in /shared-libs/python3.9/py-core/lib/python3.9/site-packages (from requests>=2.18.4->chembl_webresource_client) (2.1.1)\nCollecting pyyaml>=5.4\n  Downloading PyYAML-6.0.1-cp39-cp39-manylinux_2_17_x86_64.manylinux2014_x86_64.whl (738 kB)\n\u001b[2K     \u001b[90m━━━━━━━━━━━━━━━━━━━━━━━━━━━━━━━━━━━━━━\u001b[0m \u001b[32m738.9/738.9 KB\u001b[0m \u001b[31m59.8 MB/s\u001b[0m eta \u001b[36m0:00:00\u001b[0m\n\u001b[?25hCollecting attrs<22.0,>=21.2\n  Downloading attrs-21.4.0-py2.py3-none-any.whl (60 kB)\n\u001b[2K     \u001b[90m━━━━━━━━━━━━━━━━━━━━━━━━━━━━━━━━━━━━━━━━\u001b[0m \u001b[32m60.6/60.6 KB\u001b[0m \u001b[31m15.9 MB/s\u001b[0m eta \u001b[36m0:00:00\u001b[0m\n\u001b[?25hCollecting url-normalize<2.0,>=1.4\n  Downloading url_normalize-1.4.3-py2.py3-none-any.whl (6.8 kB)\nCollecting itsdangerous>=2.0.1\n  Downloading itsdangerous-2.1.2-py3-none-any.whl (15 kB)\nRequirement already satisfied: six in /shared-libs/python3.9/py-core/lib/python3.9/site-packages (from url-normalize<2.0,>=1.4->requests-cache~=0.7.0->chembl_webresource_client) (1.16.0)\nBuilding wheels for collected packages: easydict\n  Building wheel for easydict (setup.py) ... \u001b[?25ldone\n\u001b[?25h  Created wheel for easydict: filename=easydict-1.10-py3-none-any.whl size=6506 sha256=110a017fcc484b327e4964ad8261275c706ae5501429c7489b0eb03eeb28ef3a\n  Stored in directory: /root/.cache/pip/wheels/0d/9a/a9/02f3a5f0c6b2c57184661770360c58db8166f5c877780e98f2\nSuccessfully built easydict\nInstalling collected packages: easydict, url-normalize, pyyaml, itsdangerous, attrs, requests-cache, chembl_webresource_client\n  Attempting uninstall: attrs\n    Found existing installation: attrs 22.1.0\n    Not uninstalling attrs at /shared-libs/python3.9/py-core/lib/python3.9/site-packages, outside environment /root/venv\n    Can't uninstall 'attrs'. No files were found to uninstall.\nSuccessfully installed attrs-21.4.0 chembl_webresource_client-0.10.8 easydict-1.10 itsdangerous-2.1.2 pyyaml-6.0.1 requests-cache-0.7.5 url-normalize-1.4.3\n\u001b[33mWARNING: You are using pip version 22.0.4; however, version 23.2.1 is available.\nYou should consider upgrading via the '/root/venv/bin/python -m pip install --upgrade pip' command.\u001b[0m\u001b[33m\n\u001b[0mRequirement already satisfied: rdkit-pypi in /root/venv/lib/python3.9/site-packages (2022.9.5)\nRequirement already satisfied: Pillow in /shared-libs/python3.9/py/lib/python3.9/site-packages (from rdkit-pypi) (9.2.0)\nRequirement already satisfied: numpy in /shared-libs/python3.9/py/lib/python3.9/site-packages (from rdkit-pypi) (1.23.4)\n\u001b[33mWARNING: You are using pip version 22.0.4; however, version 23.2.1 is available.\nYou should consider upgrading via the '/root/venv/bin/python -m pip install --upgrade pip' command.\u001b[0m\u001b[33m\n\u001b[0m",
          "output_type": "stream"
        }
      ],
      "execution_count": 5
    },
    {
      "cell_type": "markdown",
      "source": "## Planning\n\n- Acquire HIV Targets Data from ChEMBL Database\n- This project will adress single proteins only (protein complexes would require much more code than is possible in this weekend to process -> express this in the video)\n- We had to filter out all non-single protein targets from the database in order to prevent complex organisms or proteins to appear in the list.",
      "metadata": {
        "cell_id": "6b70bd0a5b4d43c2a71227a868618619",
        "deepnote_cell_type": "markdown"
      }
    },
    {
      "cell_type": "markdown",
      "source": "## Imports",
      "metadata": {
        "formattedRanges": [],
        "cell_id": "e837936551f64121aab9dacffb58b1bf",
        "deepnote_cell_type": "text-cell-h2"
      }
    },
    {
      "cell_type": "code",
      "source": "# Import necessary libraries\nimport pandas as pd\nfrom chembl_webresource_client.new_client import new_client\nimport numpy as np\nimport matplotlib.pyplot as plt\nfrom rdkit import Chem\nfrom rdkit.Chem import Descriptors, Lipinski",
      "metadata": {
        "source_hash": "246f7fe8",
        "execution_start": 1690096712484,
        "execution_millis": 1588,
        "deepnote_to_be_reexecuted": false,
        "cell_id": "53ee981a0fc34a16a5d9ec4c75b8e074",
        "deepnote_cell_type": "code"
      },
      "outputs": [],
      "execution_count": 6
    },
    {
      "cell_type": "markdown",
      "source": "## Finding HIV Target Proteins and Assays",
      "metadata": {
        "cell_id": "a319210d0edc414295816af81eeba096",
        "deepnote_cell_type": "markdown"
      }
    },
    {
      "cell_type": "code",
      "source": "# Target search for HIV\ntarget = new_client.target\ntarget_query = target.search('HIV')\ntargets = pd.DataFrame.from_dict(target_query)\ntargets",
      "metadata": {
        "source_hash": "3526f872",
        "execution_start": 1690090426999,
        "execution_millis": 2230,
        "deepnote_to_be_reexecuted": false,
        "cell_id": "f5f61909d97a46c9baec7d9c4d2d08d5",
        "deepnote_cell_type": "code"
      },
      "outputs": [
        {
          "output_type": "execute_result",
          "execution_count": 5,
          "data": {
            "application/vnd.deepnote.dataframe.v3+json": {
              "column_count": 9,
              "row_count": 10,
              "columns": [
                {
                  "name": "cross_references",
                  "dtype": "object",
                  "stats": {
                    "unique_count": 10,
                    "nan_count": 0,
                    "categories": [
                      {
                        "name": "[]",
                        "count": 7
                      },
                      {
                        "name": "[{'xref_id': 'P51681', 'xref_name': None, 'xref_src': 'canSAR-Target'}, {'xref_id': 'CCR5', 'xref_name': None, 'xref_src': 'Wikipedia'}]",
                        "count": 1
                      },
                      {
                        "name": "2 others",
                        "count": 2
                      }
                    ]
                  }
                },
                {
                  "name": "organism",
                  "dtype": "object",
                  "stats": {
                    "unique_count": 3,
                    "nan_count": 0,
                    "categories": [
                      {
                        "name": "Homo sapiens",
                        "count": 8
                      },
                      {
                        "name": "Human immunodeficiency virus",
                        "count": 1
                      },
                      {
                        "name": "HIV-1 M:B_Lai",
                        "count": 1
                      }
                    ]
                  }
                },
                {
                  "name": "pref_name",
                  "dtype": "object",
                  "stats": {
                    "unique_count": 10,
                    "nan_count": 0,
                    "categories": [
                      {
                        "name": "HIV protease",
                        "count": 1
                      },
                      {
                        "name": "HIV-1 M:B_Lai",
                        "count": 1
                      },
                      {
                        "name": "8 others",
                        "count": 8
                      }
                    ]
                  }
                },
                {
                  "name": "score",
                  "dtype": "float64",
                  "stats": {
                    "unique_count": 7,
                    "nan_count": 0,
                    "min": "0.0",
                    "max": "19.0",
                    "histogram": [
                      {
                        "bin_start": 0,
                        "bin_end": 1.9,
                        "count": 1
                      },
                      {
                        "bin_start": 1.9,
                        "bin_end": 3.8,
                        "count": 0
                      },
                      {
                        "bin_start": 3.8,
                        "bin_end": 5.699999999999999,
                        "count": 0
                      },
                      {
                        "bin_start": 5.699999999999999,
                        "bin_end": 7.6,
                        "count": 1
                      },
                      {
                        "bin_start": 7.6,
                        "bin_end": 9.5,
                        "count": 3
                      },
                      {
                        "bin_start": 9.5,
                        "bin_end": 11.399999999999999,
                        "count": 1
                      },
                      {
                        "bin_start": 11.399999999999999,
                        "bin_end": 13.299999999999999,
                        "count": 2
                      },
                      {
                        "bin_start": 13.299999999999999,
                        "bin_end": 15.2,
                        "count": 1
                      },
                      {
                        "bin_start": 15.2,
                        "bin_end": 17.099999999999998,
                        "count": 0
                      },
                      {
                        "bin_start": 17.099999999999998,
                        "bin_end": 19,
                        "count": 1
                      }
                    ]
                  }
                },
                {
                  "name": "species_group_flag",
                  "dtype": "bool",
                  "stats": {
                    "unique_count": 1,
                    "nan_count": 0,
                    "categories": [
                      {
                        "name": "False",
                        "count": 10
                      }
                    ]
                  }
                },
                {
                  "name": "target_chembl_id",
                  "dtype": "object",
                  "stats": {
                    "unique_count": 10,
                    "nan_count": 0,
                    "categories": [
                      {
                        "name": "CHEMBL3638323",
                        "count": 1
                      },
                      {
                        "name": "CHEMBL612775",
                        "count": 1
                      },
                      {
                        "name": "8 others",
                        "count": 8
                      }
                    ]
                  }
                },
                {
                  "name": "target_components",
                  "dtype": "object",
                  "stats": {
                    "unique_count": 10,
                    "nan_count": 0,
                    "categories": [
                      {
                        "name": "[{'accession': 'Q9YQ30', 'component_description': 'HIV-1 protease', 'component_id': 10100, 'component_type': 'PROTEIN', 'relationship': 'SINGLE PROTEIN', 'target_component_synonyms': [{'component_synonym': 'HIV-1', 'syn_type': 'GENE_SYMBOL'}, {'component_synonym': 'protease', 'syn_type': 'GENE_SYMBOL'}, {'component_synonym': 'HIV-1 protease', 'syn_type': 'UNIPROT'}], 'target_component_xrefs': [{'xref_id': 'GO:0004190', 'xref_name': 'aspartic-type endopeptidase activity', 'xref_src_db': 'GoFunction'}, {'xref_id': 'GO:0008233', 'xref_name': 'peptidase activity', 'xref_src_db': 'GoFunction'}, {'xref_id': 'GO:0016787', 'xref_name': 'hydrolase activity', 'xref_src_db': 'GoFunction'}, {'xref_id': 'GO:0006508', 'xref_name': 'proteolysis', 'xref_src_db': 'GoProcess'}, {'xref_id': 'IPR001969', 'xref_name': 'Aspartic_peptidase_AS.', 'xref_src_db': 'InterPro'}, {'xref_id': 'IPR001995', 'xref_name': 'Peptidase_A2_cat.', 'xref_src_db': 'InterPro'}, {'xref_id': 'IPR018061', 'xref_name': 'Retropepsins.', 'xref_src_db': 'InterPro'}, {'xref_id': 'IPR021109', 'xref_name': 'Peptidase_aspartic_dom_sf.', 'xref_src_db': 'InterPro'}, {'xref_id': 'IPR034170', 'xref_name': 'Retropepsin-like_cat_dom.', 'xref_src_db': 'InterPro'}, {'xref_id': 'PF00077', 'xref_name': 'RVP', 'xref_src_db': 'Pfam'}, {'xref_id': 'Q9YQ30', 'xref_name': None, 'xref_src_db': 'UniProt'}]}]",
                        "count": 1
                      },
                      {
                        "name": "[]",
                        "count": 1
                      },
                      {
                        "name": "8 others",
                        "count": 8
                      }
                    ]
                  }
                },
                {
                  "name": "target_type",
                  "dtype": "object",
                  "stats": {
                    "unique_count": 4,
                    "nan_count": 0,
                    "categories": [
                      {
                        "name": "SINGLE PROTEIN",
                        "count": 7
                      },
                      {
                        "name": "ORGANISM",
                        "count": 1
                      },
                      {
                        "name": "2 others",
                        "count": 2
                      }
                    ]
                  }
                },
                {
                  "name": "tax_id",
                  "dtype": "int64",
                  "stats": {
                    "unique_count": 3,
                    "nan_count": 0,
                    "min": "9606",
                    "max": "290579",
                    "histogram": [
                      {
                        "bin_start": 9606,
                        "bin_end": 37703.3,
                        "count": 9
                      },
                      {
                        "bin_start": 37703.3,
                        "bin_end": 65800.6,
                        "count": 0
                      },
                      {
                        "bin_start": 65800.6,
                        "bin_end": 93897.9,
                        "count": 0
                      },
                      {
                        "bin_start": 93897.9,
                        "bin_end": 121995.2,
                        "count": 0
                      },
                      {
                        "bin_start": 121995.2,
                        "bin_end": 150092.5,
                        "count": 0
                      },
                      {
                        "bin_start": 150092.5,
                        "bin_end": 178189.8,
                        "count": 0
                      },
                      {
                        "bin_start": 178189.8,
                        "bin_end": 206287.1,
                        "count": 0
                      },
                      {
                        "bin_start": 206287.1,
                        "bin_end": 234384.4,
                        "count": 0
                      },
                      {
                        "bin_start": 234384.4,
                        "bin_end": 262481.69999999995,
                        "count": 0
                      },
                      {
                        "bin_start": 262481.69999999995,
                        "bin_end": 290579,
                        "count": 1
                      }
                    ]
                  }
                },
                {
                  "name": "_deepnote_index_column",
                  "dtype": "int64"
                }
              ],
              "rows": [
                {
                  "cross_references": "[]",
                  "organism": "Human immunodeficiency virus",
                  "pref_name": "HIV protease",
                  "score": 19,
                  "species_group_flag": "False",
                  "target_chembl_id": "CHEMBL3638323",
                  "target_components": "[{'accession': 'Q9YQ30', 'component_description': 'HIV-1 protease', 'component_id': 10100, 'component_type': 'PROTEIN', 'relationship': 'SINGLE PROTEIN', 'target_component_synonyms': [{'component_synonym': 'HIV-1', 'syn_type': 'GENE_SYMBOL'}, {'component_synonym': 'protease', 'syn_type': 'GENE_SYMBOL'}, {'component_synonym': 'HIV-1 protease', 'syn_type': 'UNIPROT'}], 'target_component_xrefs': [{'xref_id': 'GO:0004190', 'xref_name': 'aspartic-type endopeptidase activity', 'xref_src_db': 'GoFunction'}, {'xref_id': 'GO:0008233', 'xref_name': 'peptidase activity', 'xref_src_db': 'GoFunction'}, {'xref_id': 'GO:0016787', 'xref_name': 'hydrolase activity', 'xref_src_db': 'GoFunction'}, {'xref_id': 'GO:0006508', 'xref_name': 'proteolysis', 'xref_src_db': 'GoProcess'}, {'xref_id': 'IPR001969', 'xref_name': 'Aspartic_peptidase_AS.', 'xref_src_db': 'InterPro'}, {'xref_id': 'IPR001995', 'xref_name': 'Peptidase_A2_cat.', 'xref_src_db': 'InterPro'}, {'xref_id': 'IPR018061', 'xref_name': 'Retropepsi…",
                  "target_type": "SINGLE PROTEIN",
                  "tax_id": 12721,
                  "_deepnote_index_column": 0
                },
                {
                  "cross_references": "[]",
                  "organism": "HIV-1 M:B_Lai",
                  "pref_name": "HIV-1 M:B_Lai",
                  "score": 15,
                  "species_group_flag": "False",
                  "target_chembl_id": "CHEMBL612775",
                  "target_components": "[]",
                  "target_type": "ORGANISM",
                  "tax_id": 290579,
                  "_deepnote_index_column": 1
                },
                {
                  "cross_references": "[]",
                  "organism": "Homo sapiens",
                  "pref_name": "Transcription factor HIVEP2",
                  "score": 12,
                  "species_group_flag": "False",
                  "target_chembl_id": "CHEMBL4523214",
                  "target_components": "[{'accession': 'P31629', 'component_description': 'Transcription factor HIVEP2', 'component_id': 18714, 'component_type': 'PROTEIN', 'relationship': 'SINGLE PROTEIN', 'target_component_synonyms': [{'component_synonym': 'HIVEP2', 'syn_type': 'GENE_SYMBOL'}, {'component_synonym': 'Transcription factor HIVEP2', 'syn_type': 'UNIPROT'}, {'component_synonym': 'Human immunodeficiency virus type I enhancer-binding protein 2', 'syn_type': 'UNIPROT'}, {'component_synonym': 'MHC-binding protein 2', 'syn_type': 'UNIPROT'}, {'component_synonym': 'HIV-EP2', 'syn_type': 'UNIPROT'}, {'component_synonym': 'MBP-2', 'syn_type': 'UNIPROT'}], 'target_component_xrefs': [{'xref_id': 'GO:0005634', 'xref_name': 'nucleus', 'xref_src_db': 'GoComponent'}, {'xref_id': 'GO:0005654', 'xref_name': 'nucleoplasm', 'xref_src_db': 'GoComponent'}, {'xref_id': 'GO:0000978', 'xref_name': 'RNA polymerase II cis-regulatory region sequence-specific DNA binding', 'xref_src_db': 'GoFunction'}, {'xref_id': 'GO:0000981', 'xref_na…",
                  "target_type": "SINGLE PROTEIN",
                  "tax_id": 9606,
                  "_deepnote_index_column": 2
                },
                {
                  "cross_references": "[]",
                  "organism": "Homo sapiens",
                  "pref_name": "Ubiquitin thioesterase OTU1",
                  "score": 12,
                  "species_group_flag": "False",
                  "target_chembl_id": "CHEMBL4630833",
                  "target_components": "[{'accession': 'Q5VVQ6', 'component_description': 'Ubiquitin thioesterase OTU1', 'component_id': 19447, 'component_type': 'PROTEIN', 'relationship': 'SINGLE PROTEIN', 'target_component_synonyms': [{'component_synonym': 'DUBA8', 'syn_type': 'GENE_SYMBOL_OTHER'}, {'component_synonym': 'HIN7', 'syn_type': 'GENE_SYMBOL_OTHER'}, {'component_synonym': 'OTUD2 ', 'syn_type': 'GENE_SYMBOL_OTHER'}, {'component_synonym': 'YOD1', 'syn_type': 'GENE_SYMBOL'}, {'component_synonym': 'Ubiquitin thioesterase OTU1', 'syn_type': 'UNIPROT'}, {'component_synonym': 'DUBA-8', 'syn_type': 'UNIPROT'}, {'component_synonym': 'HIV-1-induced protease 7', 'syn_type': 'UNIPROT'}, {'component_synonym': 'OTU domain-containing protein 2', 'syn_type': 'UNIPROT'}, {'component_synonym': 'HIN-7', 'syn_type': 'UNIPROT'}, {'component_synonym': 'HsHIN7', 'syn_type': 'UNIPROT'}, {'component_synonym': '3.4.19.12', 'syn_type': 'EC_NUMBER'}], 'target_component_xrefs': [{'xref_id': 'GO:0005737', 'xref_name': 'cytoplasm', 'xref_src…",
                  "target_type": "SINGLE PROTEIN",
                  "tax_id": 9606,
                  "_deepnote_index_column": 3
                },
                {
                  "cross_references": "[{'xref_id': 'P51681', 'xref_name': None, 'xref_src': 'canSAR-Target'}, {'xref_id': 'CCR5', 'xref_name': None, 'xref_src': 'Wikipedia'}]",
                  "organism": "Homo sapiens",
                  "pref_name": "C-C chemokine receptor type 5",
                  "score": 11,
                  "species_group_flag": "False",
                  "target_chembl_id": "CHEMBL274",
                  "target_components": "[{'accession': 'P51681', 'component_description': 'C-C chemokine receptor type 5', 'component_id': 256, 'component_type': 'PROTEIN', 'relationship': 'SINGLE PROTEIN', 'target_component_synonyms': [{'component_synonym': 'CMKBR5', 'syn_type': 'GENE_SYMBOL_OTHER'}, {'component_synonym': 'CCR5', 'syn_type': 'GENE_SYMBOL'}, {'component_synonym': 'C-C chemokine receptor type 5', 'syn_type': 'UNIPROT'}, {'component_synonym': 'CHEMR13', 'syn_type': 'UNIPROT'}, {'component_synonym': 'HIV-1 fusion coreceptor', 'syn_type': 'UNIPROT'}, {'component_synonym': 'CD_antigen=CD195', 'syn_type': 'UNIPROT'}, {'component_synonym': 'C-C CKR-5', 'syn_type': 'UNIPROT'}, {'component_synonym': 'CC-CKR-5', 'syn_type': 'UNIPROT'}, {'component_synonym': 'CCR-5', 'syn_type': 'UNIPROT'}, {'component_synonym': 'CCR5', 'syn_type': 'UNIPROT'}], 'target_component_xrefs': [{'xref_id': 'P51681', 'xref_name': None, 'xref_src_db': 'ExpressionAtlas'}, {'xref_id': 'GO:0005737', 'xref_name': 'cytoplasm', 'xref_src_db': 'GoCom…",
                  "target_type": "SINGLE PROTEIN",
                  "tax_id": 9606,
                  "_deepnote_index_column": 4
                },
                {
                  "cross_references": "[{'xref_id': 'P15822', 'xref_name': None, 'xref_src': 'canSAR-Target'}, {'xref_id': 'HIVEP1', 'xref_name': None, 'xref_src': 'Wikipedia'}]",
                  "organism": "Homo sapiens",
                  "pref_name": "Human immunodeficiency virus type I enhancer-binding protein 1",
                  "score": 9,
                  "species_group_flag": "False",
                  "target_chembl_id": "CHEMBL2909",
                  "target_components": "[{'accession': 'P15822', 'component_description': 'Zinc finger protein 40', 'component_id': 1239, 'component_type': 'PROTEIN', 'relationship': 'SINGLE PROTEIN', 'target_component_synonyms': [{'component_synonym': 'ZNF40', 'syn_type': 'GENE_SYMBOL_OTHER'}, {'component_synonym': 'HIVEP1', 'syn_type': 'GENE_SYMBOL'}, {'component_synonym': 'Zinc finger protein 40', 'syn_type': 'UNIPROT'}, {'component_synonym': 'Cirhin interaction protein', 'syn_type': 'UNIPROT'}, {'component_synonym': 'Gate keeper of apoptosis-activating protein', 'syn_type': 'UNIPROT'}, {'component_synonym': 'Human immunodeficiency virus type I enhancer-binding protein 1', 'syn_type': 'UNIPROT'}, {'component_synonym': 'Major histocompatibility complex-binding protein 1', 'syn_type': 'UNIPROT'}, {'component_synonym': 'Positive regulatory domain II-binding factor 1', 'syn_type': 'UNIPROT'}, {'component_synonym': 'CIRIP', 'syn_type': 'UNIPROT'}, {'component_synonym': 'GAAP', 'syn_type': 'UNIPROT'}, {'component_synonym': 'HI…",
                  "target_type": "SINGLE PROTEIN",
                  "tax_id": 9606,
                  "_deepnote_index_column": 5
                },
                {
                  "cross_references": "[{'xref_id': 'Q92993', 'xref_name': None, 'xref_src': 'canSAR-Target'}, {'xref_id': 'KAT5', 'xref_name': None, 'xref_src': 'Wikipedia'}]",
                  "organism": "Homo sapiens",
                  "pref_name": "Histone acetyltransferase KAT5",
                  "score": 9,
                  "species_group_flag": "False",
                  "target_chembl_id": "CHEMBL5750",
                  "target_components": "[{'accession': 'Q92993', 'component_description': 'Histone acetyltransferase KAT5', 'component_id': 4134, 'component_type': 'PROTEIN', 'relationship': 'SINGLE PROTEIN', 'target_component_synonyms': [{'component_synonym': 'HTATIP', 'syn_type': 'GENE_SYMBOL_OTHER'}, {'component_synonym': 'TIP60', 'syn_type': 'GENE_SYMBOL_OTHER'}, {'component_synonym': 'Synonyms=HTATIP', 'syn_type': 'GENE_SYMBOL_OTHER'}, {'component_synonym': 'KAT5', 'syn_type': 'GENE_SYMBOL'}, {'component_synonym': 'Histone acetyltransferase KAT5', 'syn_type': 'UNIPROT'}, {'component_synonym': '60 kDa Tat-interactive protein', 'syn_type': 'UNIPROT'}, {'component_synonym': 'Histone acetyltransferase HTATIP', 'syn_type': 'UNIPROT'}, {'component_synonym': 'Lysine acetyltransferase 5', 'syn_type': 'UNIPROT'}, {'component_synonym': 'Protein 2-hydroxyisobutyryltransferase KAT5', 'syn_type': 'UNIPROT'}, {'component_synonym': 'Protein acetyltransferase KAT5', 'syn_type': 'UNIPROT'}, {'component_synonym': 'Protein crotonyltransf…",
                  "target_type": "SINGLE PROTEIN",
                  "tax_id": 9606,
                  "_deepnote_index_column": 6
                },
                {
                  "cross_references": "[]",
                  "organism": "Homo sapiens",
                  "pref_name": "CCR5/mu opioid receptor complex",
                  "score": 9,
                  "species_group_flag": "False",
                  "target_chembl_id": "CHEMBL3301384",
                  "target_components": "[{'accession': 'P51681', 'component_description': 'C-C chemokine receptor type 5', 'component_id': 256, 'component_type': 'PROTEIN', 'relationship': 'PROTEIN SUBUNIT', 'target_component_synonyms': [{'component_synonym': 'CMKBR5', 'syn_type': 'GENE_SYMBOL_OTHER'}, {'component_synonym': 'CCR5', 'syn_type': 'GENE_SYMBOL'}, {'component_synonym': 'C-C chemokine receptor type 5', 'syn_type': 'UNIPROT'}, {'component_synonym': 'CHEMR13', 'syn_type': 'UNIPROT'}, {'component_synonym': 'HIV-1 fusion coreceptor', 'syn_type': 'UNIPROT'}, {'component_synonym': 'CD_antigen=CD195', 'syn_type': 'UNIPROT'}, {'component_synonym': 'C-C CKR-5', 'syn_type': 'UNIPROT'}, {'component_synonym': 'CC-CKR-5', 'syn_type': 'UNIPROT'}, {'component_synonym': 'CCR-5', 'syn_type': 'UNIPROT'}, {'component_synonym': 'CCR5', 'syn_type': 'UNIPROT'}], 'target_component_xrefs': [{'xref_id': 'P51681', 'xref_name': None, 'xref_src_db': 'ExpressionAtlas'}, {'xref_id': 'GO:0005737', 'xref_name': 'cytoplasm', 'xref_src_db': 'GoCo…",
                  "target_type": "PROTEIN COMPLEX",
                  "tax_id": 9606,
                  "_deepnote_index_column": 7
                },
                {
                  "cross_references": "[]",
                  "organism": "Homo sapiens",
                  "pref_name": "Zinc finger and BTB domain-containing protein 7A",
                  "score": 7,
                  "species_group_flag": "False",
                  "target_chembl_id": "CHEMBL5069375",
                  "target_components": "[{'accession': 'O95365', 'component_description': 'Zinc finger and BTB domain-containing protein 7A', 'component_id': 19962, 'component_type': 'PROTEIN', 'relationship': 'SINGLE PROTEIN', 'target_component_synonyms': [{'component_synonym': 'Synonyms=FBI1', 'syn_type': 'GENE_SYMBOL_OTHER'}, {'component_synonym': 'LRF', 'syn_type': 'GENE_SYMBOL_OTHER'}, {'component_synonym': 'ZBTB7 GN  ', 'syn_type': 'GENE_SYMBOL_OTHER'}, {'component_synonym': 'ZNF857A', 'syn_type': 'GENE_SYMBOL_OTHER'}, {'component_synonym': 'ZBTB7A', 'syn_type': 'GENE_SYMBOL'}, {'component_synonym': 'Zinc finger and BTB domain-containing protein 7A', 'syn_type': 'UNIPROT'}, {'component_synonym': 'Factor binding IST protein 1', 'syn_type': 'UNIPROT'}, {'component_synonym': 'Factor that binds to inducer of short transcripts protein 1', 'syn_type': 'UNIPROT'}, {'component_synonym': 'HIV-1 1st-binding protein 1', 'syn_type': 'UNIPROT'}, {'component_synonym': 'Leukemia/lymphoma-related factor', 'syn_type': 'UNIPROT'}, {'co…",
                  "target_type": "SINGLE PROTEIN",
                  "tax_id": 9606,
                  "_deepnote_index_column": 8
                },
                {
                  "cross_references": "[]",
                  "organism": "Homo sapiens",
                  "pref_name": "80S Ribosome",
                  "score": 0,
                  "species_group_flag": "False",
                  "target_chembl_id": "CHEMBL3987582",
                  "target_components": "[{'accession': 'P08865', 'component_description': '40S ribosomal protein SA', 'component_id': 4670, 'component_type': 'PROTEIN', 'relationship': 'PROTEIN SUBUNIT', 'target_component_synonyms': [{'component_synonym': 'LAMBR', 'syn_type': 'GENE_SYMBOL_OTHER'}, {'component_synonym': 'LAMR1', 'syn_type': 'GENE_SYMBOL_OTHER'}, {'component_synonym': 'RPSA', 'syn_type': 'GENE_SYMBOL'}, {'component_synonym': '40S ribosomal protein SA', 'syn_type': 'UNIPROT'}, {'component_synonym': '37 kDa laminin receptor precursor', 'syn_type': 'UNIPROT'}, {'component_synonym': '37/67 kDa laminin receptor', 'syn_type': 'UNIPROT'}, {'component_synonym': '67 kDa laminin receptor', 'syn_type': 'UNIPROT'}, {'component_synonym': 'Colon carcinoma laminin-binding protein', 'syn_type': 'UNIPROT'}, {'component_synonym': 'Laminin receptor 1', 'syn_type': 'UNIPROT'}, {'component_synonym': 'Laminin-binding protein precursor p40', 'syn_type': 'UNIPROT'}, {'component_synonym': 'Multidrug resistance-associated protein MGr1…",
                  "target_type": "PROTEIN NUCLEIC-ACID COMPLEX",
                  "tax_id": 9606,
                  "_deepnote_index_column": 9
                }
              ]
            },
            "text/plain": "                                    cross_references  \\\n0                                                 []   \n1                                                 []   \n2                                                 []   \n3                                                 []   \n4  [{'xref_id': 'P51681', 'xref_name': None, 'xre...   \n5  [{'xref_id': 'P15822', 'xref_name': None, 'xre...   \n6  [{'xref_id': 'Q92993', 'xref_name': None, 'xre...   \n7                                                 []   \n8                                                 []   \n9                                                 []   \n\n                       organism  \\\n0  Human immunodeficiency virus   \n1                 HIV-1 M:B_Lai   \n2                  Homo sapiens   \n3                  Homo sapiens   \n4                  Homo sapiens   \n5                  Homo sapiens   \n6                  Homo sapiens   \n7                  Homo sapiens   \n8                  Homo sapiens   \n9                  Homo sapiens   \n\n                                           pref_name  score  \\\n0                                       HIV protease   19.0   \n1                                      HIV-1 M:B_Lai   15.0   \n2                        Transcription factor HIVEP2   12.0   \n3                        Ubiquitin thioesterase OTU1   12.0   \n4                      C-C chemokine receptor type 5   11.0   \n5  Human immunodeficiency virus type I enhancer-b...    9.0   \n6                     Histone acetyltransferase KAT5    9.0   \n7                    CCR5/mu opioid receptor complex    9.0   \n8   Zinc finger and BTB domain-containing protein 7A    7.0   \n9                                       80S Ribosome    0.0   \n\n   species_group_flag target_chembl_id  \\\n0               False    CHEMBL3638323   \n1               False     CHEMBL612775   \n2               False    CHEMBL4523214   \n3               False    CHEMBL4630833   \n4               False        CHEMBL274   \n5               False       CHEMBL2909   \n6               False       CHEMBL5750   \n7               False    CHEMBL3301384   \n8               False    CHEMBL5069375   \n9               False    CHEMBL3987582   \n\n                                   target_components  \\\n0  [{'accession': 'Q9YQ30', 'component_descriptio...   \n1                                                 []   \n2  [{'accession': 'P31629', 'component_descriptio...   \n3  [{'accession': 'Q5VVQ6', 'component_descriptio...   \n4  [{'accession': 'P51681', 'component_descriptio...   \n5  [{'accession': 'P15822', 'component_descriptio...   \n6  [{'accession': 'Q92993', 'component_descriptio...   \n7  [{'accession': 'P51681', 'component_descriptio...   \n8  [{'accession': 'O95365', 'component_descriptio...   \n9  [{'accession': 'P08865', 'component_descriptio...   \n\n                    target_type  tax_id  \n0                SINGLE PROTEIN   12721  \n1                      ORGANISM  290579  \n2                SINGLE PROTEIN    9606  \n3                SINGLE PROTEIN    9606  \n4                SINGLE PROTEIN    9606  \n5                SINGLE PROTEIN    9606  \n6                SINGLE PROTEIN    9606  \n7               PROTEIN COMPLEX    9606  \n8                SINGLE PROTEIN    9606  \n9  PROTEIN NUCLEIC-ACID COMPLEX    9606  ",
            "text/html": "<div>\n<style scoped>\n    .dataframe tbody tr th:only-of-type {\n        vertical-align: middle;\n    }\n\n    .dataframe tbody tr th {\n        vertical-align: top;\n    }\n\n    .dataframe thead th {\n        text-align: right;\n    }\n</style>\n<table border=\"1\" class=\"dataframe\">\n  <thead>\n    <tr style=\"text-align: right;\">\n      <th></th>\n      <th>cross_references</th>\n      <th>organism</th>\n      <th>pref_name</th>\n      <th>score</th>\n      <th>species_group_flag</th>\n      <th>target_chembl_id</th>\n      <th>target_components</th>\n      <th>target_type</th>\n      <th>tax_id</th>\n    </tr>\n  </thead>\n  <tbody>\n    <tr>\n      <th>0</th>\n      <td>[]</td>\n      <td>Human immunodeficiency virus</td>\n      <td>HIV protease</td>\n      <td>19.0</td>\n      <td>False</td>\n      <td>CHEMBL3638323</td>\n      <td>[{'accession': 'Q9YQ30', 'component_descriptio...</td>\n      <td>SINGLE PROTEIN</td>\n      <td>12721</td>\n    </tr>\n    <tr>\n      <th>1</th>\n      <td>[]</td>\n      <td>HIV-1 M:B_Lai</td>\n      <td>HIV-1 M:B_Lai</td>\n      <td>15.0</td>\n      <td>False</td>\n      <td>CHEMBL612775</td>\n      <td>[]</td>\n      <td>ORGANISM</td>\n      <td>290579</td>\n    </tr>\n    <tr>\n      <th>2</th>\n      <td>[]</td>\n      <td>Homo sapiens</td>\n      <td>Transcription factor HIVEP2</td>\n      <td>12.0</td>\n      <td>False</td>\n      <td>CHEMBL4523214</td>\n      <td>[{'accession': 'P31629', 'component_descriptio...</td>\n      <td>SINGLE PROTEIN</td>\n      <td>9606</td>\n    </tr>\n    <tr>\n      <th>3</th>\n      <td>[]</td>\n      <td>Homo sapiens</td>\n      <td>Ubiquitin thioesterase OTU1</td>\n      <td>12.0</td>\n      <td>False</td>\n      <td>CHEMBL4630833</td>\n      <td>[{'accession': 'Q5VVQ6', 'component_descriptio...</td>\n      <td>SINGLE PROTEIN</td>\n      <td>9606</td>\n    </tr>\n    <tr>\n      <th>4</th>\n      <td>[{'xref_id': 'P51681', 'xref_name': None, 'xre...</td>\n      <td>Homo sapiens</td>\n      <td>C-C chemokine receptor type 5</td>\n      <td>11.0</td>\n      <td>False</td>\n      <td>CHEMBL274</td>\n      <td>[{'accession': 'P51681', 'component_descriptio...</td>\n      <td>SINGLE PROTEIN</td>\n      <td>9606</td>\n    </tr>\n    <tr>\n      <th>5</th>\n      <td>[{'xref_id': 'P15822', 'xref_name': None, 'xre...</td>\n      <td>Homo sapiens</td>\n      <td>Human immunodeficiency virus type I enhancer-b...</td>\n      <td>9.0</td>\n      <td>False</td>\n      <td>CHEMBL2909</td>\n      <td>[{'accession': 'P15822', 'component_descriptio...</td>\n      <td>SINGLE PROTEIN</td>\n      <td>9606</td>\n    </tr>\n    <tr>\n      <th>6</th>\n      <td>[{'xref_id': 'Q92993', 'xref_name': None, 'xre...</td>\n      <td>Homo sapiens</td>\n      <td>Histone acetyltransferase KAT5</td>\n      <td>9.0</td>\n      <td>False</td>\n      <td>CHEMBL5750</td>\n      <td>[{'accession': 'Q92993', 'component_descriptio...</td>\n      <td>SINGLE PROTEIN</td>\n      <td>9606</td>\n    </tr>\n    <tr>\n      <th>7</th>\n      <td>[]</td>\n      <td>Homo sapiens</td>\n      <td>CCR5/mu opioid receptor complex</td>\n      <td>9.0</td>\n      <td>False</td>\n      <td>CHEMBL3301384</td>\n      <td>[{'accession': 'P51681', 'component_descriptio...</td>\n      <td>PROTEIN COMPLEX</td>\n      <td>9606</td>\n    </tr>\n    <tr>\n      <th>8</th>\n      <td>[]</td>\n      <td>Homo sapiens</td>\n      <td>Zinc finger and BTB domain-containing protein 7A</td>\n      <td>7.0</td>\n      <td>False</td>\n      <td>CHEMBL5069375</td>\n      <td>[{'accession': 'O95365', 'component_descriptio...</td>\n      <td>SINGLE PROTEIN</td>\n      <td>9606</td>\n    </tr>\n    <tr>\n      <th>9</th>\n      <td>[]</td>\n      <td>Homo sapiens</td>\n      <td>80S Ribosome</td>\n      <td>0.0</td>\n      <td>False</td>\n      <td>CHEMBL3987582</td>\n      <td>[{'accession': 'P08865', 'component_descriptio...</td>\n      <td>PROTEIN NUCLEIC-ACID COMPLEX</td>\n      <td>9606</td>\n    </tr>\n  </tbody>\n</table>\n</div>"
          },
          "metadata": {}
        }
      ],
      "execution_count": 5
    },
    {
      "cell_type": "markdown",
      "source": "We chose target 0, 4, and 6 (HIV protease, C-C chemokine receptor type 5, and Histone acetyltransferase KAT5) due to the diverse ways they cause HIV proliferation. HIV Protease helps cut large viral precursor polypeptides into smaller functional proteins necessary for HIV to mature and increase its infectiveness. C-C chemokine receptor type 5 (CCR5) is a co-receptor used by the HIV virus to gain entry into cells. Histone acetyltransferase KAT5 has the role of gene expression regulation and is able to enhance viral gene expression (by binding to the promoter regions of viruses), contributing to viral replication and the production of new infectious virions for HIV.\n\nPicking a standard bioactivity unit type (IC50, here) makes it so that the drugs that address each target behave in a standardized way, allowing them to be compared easily and evaluated in the same ML algorithms. In each dataframe, the standard value property shows how potent an assay is at adressing/eliminating a target (the lower the standard value, more potent the assay). IC50 refers to there being 50% of a virus uninhibited, so the standard value thus shows how much of an assay is needed to kill 50% of a given amount of HIV viral load.",
      "metadata": {
        "cell_id": "9b805dc1a514405b886159ccf6651984",
        "deepnote_cell_type": "markdown"
      }
    },
    {
      "cell_type": "code",
      "source": "# Target Id 0: HIV Protease\nselected_target = targets.target_chembl_id[0]\nselected_target\nactivity = new_client.activity\nres = activity.filter(target_chembl_id=selected_target).filter(standard_type=\"IC50\")\ndf_protease = pd.DataFrame.from_dict(res)\ndf_protease",
      "metadata": {
        "source_hash": "9d0d8b42",
        "execution_start": 1690090429080,
        "execution_millis": 2117,
        "deepnote_table_state": {
          "sortBy": [],
          "filters": [],
          "pageSize": 10,
          "pageIndex": 1
        },
        "deepnote_table_loading": false,
        "deepnote_to_be_reexecuted": false,
        "cell_id": "e469cc2618404dc7b6aeb4702b49f573",
        "deepnote_cell_type": "code"
      },
      "outputs": [
        {
          "output_type": "execute_result",
          "execution_count": 6,
          "data": {
            "application/vnd.deepnote.dataframe.v3+json": {
              "column_count": 46,
              "row_count": 44,
              "columns": [
                {
                  "name": "action_type",
                  "dtype": "object",
                  "stats": {
                    "unique_count": 0,
                    "nan_count": 44,
                    "categories": [
                      {
                        "name": "Missing",
                        "count": 44
                      }
                    ]
                  }
                },
                {
                  "name": "activity_comment",
                  "dtype": "object",
                  "stats": {
                    "unique_count": 44,
                    "nan_count": 0,
                    "categories": [
                      {
                        "name": "251760",
                        "count": 1
                      },
                      {
                        "name": "251761",
                        "count": 1
                      },
                      {
                        "name": "42 others",
                        "count": 42
                      }
                    ]
                  }
                },
                {
                  "name": "activity_id",
                  "dtype": "int64",
                  "stats": {
                    "unique_count": 44,
                    "nan_count": 0,
                    "min": "17634991",
                    "max": "17635034",
                    "histogram": [
                      {
                        "bin_start": 17634991,
                        "bin_end": 17634995.3,
                        "count": 5
                      },
                      {
                        "bin_start": 17634995.3,
                        "bin_end": 17634999.6,
                        "count": 4
                      },
                      {
                        "bin_start": 17634999.6,
                        "bin_end": 17635003.9,
                        "count": 4
                      },
                      {
                        "bin_start": 17635003.9,
                        "bin_end": 17635008.2,
                        "count": 5
                      },
                      {
                        "bin_start": 17635008.2,
                        "bin_end": 17635012.5,
                        "count": 4
                      },
                      {
                        "bin_start": 17635012.5,
                        "bin_end": 17635016.8,
                        "count": 4
                      },
                      {
                        "bin_start": 17635016.8,
                        "bin_end": 17635021.1,
                        "count": 5
                      },
                      {
                        "bin_start": 17635021.1,
                        "bin_end": 17635025.4,
                        "count": 4
                      },
                      {
                        "bin_start": 17635025.4,
                        "bin_end": 17635029.7,
                        "count": 4
                      },
                      {
                        "bin_start": 17635029.7,
                        "bin_end": 17635034,
                        "count": 5
                      }
                    ]
                  }
                },
                {
                  "name": "activity_properties",
                  "dtype": "object",
                  "stats": {
                    "unique_count": 44,
                    "nan_count": 0,
                    "categories": [
                      {
                        "name": "[]",
                        "count": 44
                      }
                    ]
                  }
                },
                {
                  "name": "assay_chembl_id",
                  "dtype": "object",
                  "stats": {
                    "unique_count": 1,
                    "nan_count": 0,
                    "categories": [
                      {
                        "name": "CHEMBL3705170",
                        "count": 44
                      }
                    ]
                  }
                },
                {
                  "name": "assay_description",
                  "dtype": "object",
                  "stats": {
                    "unique_count": 1,
                    "nan_count": 0,
                    "categories": [
                      {
                        "name": "Enzymatic Assay : This is a fluorometric assay based on the cleavage by protease of a substrate carrying a donor group (EDANS) and an acceptor group (DABCYL) on each side of the cleavage site, interacting together through fluorescence resonance energy transfer (FRET) as described by Matayoshi et al. (Science 247:954-954, 1990).",
                        "count": 44
                      }
                    ]
                  }
                },
                {
                  "name": "assay_type",
                  "dtype": "object",
                  "stats": {
                    "unique_count": 1,
                    "nan_count": 0,
                    "categories": [
                      {
                        "name": "B",
                        "count": 44
                      }
                    ]
                  }
                },
                {
                  "name": "assay_variant_accession",
                  "dtype": "object",
                  "stats": {
                    "unique_count": 0,
                    "nan_count": 44,
                    "categories": [
                      {
                        "name": "Missing",
                        "count": 44
                      }
                    ]
                  }
                },
                {
                  "name": "assay_variant_mutation",
                  "dtype": "object",
                  "stats": {
                    "unique_count": 0,
                    "nan_count": 44,
                    "categories": [
                      {
                        "name": "Missing",
                        "count": 44
                      }
                    ]
                  }
                },
                {
                  "name": "bao_endpoint",
                  "dtype": "object",
                  "stats": {
                    "unique_count": 1,
                    "nan_count": 0,
                    "categories": [
                      {
                        "name": "BAO_0000190",
                        "count": 44
                      }
                    ]
                  }
                },
                {
                  "name": "bao_format",
                  "dtype": "object",
                  "stats": {
                    "unique_count": 1,
                    "nan_count": 0,
                    "categories": [
                      {
                        "name": "BAO_0000357",
                        "count": 44
                      }
                    ]
                  }
                },
                {
                  "name": "bao_label",
                  "dtype": "object",
                  "stats": {
                    "unique_count": 1,
                    "nan_count": 0,
                    "categories": [
                      {
                        "name": "single protein format",
                        "count": 44
                      }
                    ]
                  }
                },
                {
                  "name": "canonical_smiles",
                  "dtype": "object",
                  "stats": {
                    "unique_count": 43,
                    "nan_count": 0,
                    "categories": [
                      {
                        "name": "COC(=O)N[C@H](C(=O)NCCCC[C@H](C(N)=O)N(CC(C)C)S(=O)(=O)c1ccc(N)cc1)C(c1ccccc1)c1ccccc1",
                        "count": 2
                      },
                      {
                        "name": "CC(C)CN(Sc1ccc2c(c1)CCO2)[C@H](CO)CCCCNC(=O)[C@@H](Cc1cccc2ccccc12)NC(=O)N1CCOCC1",
                        "count": 1
                      },
                      {
                        "name": "41 others",
                        "count": 41
                      }
                    ]
                  }
                },
                {
                  "name": "data_validity_comment",
                  "dtype": "object",
                  "stats": {
                    "unique_count": 0,
                    "nan_count": 44,
                    "categories": [
                      {
                        "name": "Missing",
                        "count": 44
                      }
                    ]
                  }
                },
                {
                  "name": "data_validity_description",
                  "dtype": "object",
                  "stats": {
                    "unique_count": 0,
                    "nan_count": 44,
                    "categories": [
                      {
                        "name": "Missing",
                        "count": 44
                      }
                    ]
                  }
                },
                {
                  "name": "document_chembl_id",
                  "dtype": "object",
                  "stats": {
                    "unique_count": 1,
                    "nan_count": 0,
                    "categories": [
                      {
                        "name": "CHEMBL3638505",
                        "count": 44
                      }
                    ]
                  }
                },
                {
                  "name": "document_journal",
                  "dtype": "object",
                  "stats": {
                    "unique_count": 0,
                    "nan_count": 44,
                    "categories": [
                      {
                        "name": "Missing",
                        "count": 44
                      }
                    ]
                  }
                },
                {
                  "name": "document_year",
                  "dtype": "int64",
                  "stats": {
                    "unique_count": 1,
                    "nan_count": 0,
                    "min": "2014",
                    "max": "2014",
                    "histogram": [
                      {
                        "bin_start": 2013.5,
                        "bin_end": 2013.6,
                        "count": 0
                      },
                      {
                        "bin_start": 2013.6,
                        "bin_end": 2013.7,
                        "count": 0
                      },
                      {
                        "bin_start": 2013.7,
                        "bin_end": 2013.8,
                        "count": 0
                      },
                      {
                        "bin_start": 2013.8,
                        "bin_end": 2013.9,
                        "count": 0
                      },
                      {
                        "bin_start": 2013.9,
                        "bin_end": 2014,
                        "count": 0
                      },
                      {
                        "bin_start": 2014,
                        "bin_end": 2014.1,
                        "count": 44
                      },
                      {
                        "bin_start": 2014.1,
                        "bin_end": 2014.2,
                        "count": 0
                      },
                      {
                        "bin_start": 2014.2,
                        "bin_end": 2014.3,
                        "count": 0
                      },
                      {
                        "bin_start": 2014.3,
                        "bin_end": 2014.4,
                        "count": 0
                      },
                      {
                        "bin_start": 2014.4,
                        "bin_end": 2014.5,
                        "count": 0
                      }
                    ]
                  }
                },
                {
                  "name": "ligand_efficiency",
                  "dtype": "object",
                  "stats": {
                    "unique_count": 44,
                    "nan_count": 0,
                    "categories": [
                      {
                        "name": "{'bei': '13.65', 'le': '0.29', 'lle': '5.45', 'sei': '5.95'}",
                        "count": 2
                      },
                      {
                        "name": "{'bei': '13.87', 'le': '0.27', 'lle': '3.96', 'sei': '8.71'}",
                        "count": 1
                      },
                      {
                        "name": "41 others",
                        "count": 41
                      }
                    ]
                  }
                },
                {
                  "name": "molecule_chembl_id",
                  "dtype": "object",
                  "stats": {
                    "unique_count": 43,
                    "nan_count": 0,
                    "categories": [
                      {
                        "name": "CHEMBL3670870",
                        "count": 2
                      },
                      {
                        "name": "CHEMBL3670888",
                        "count": 1
                      },
                      {
                        "name": "41 others",
                        "count": 41
                      }
                    ]
                  }
                },
                {
                  "name": "molecule_pref_name",
                  "dtype": "object",
                  "stats": {
                    "unique_count": 0,
                    "nan_count": 44,
                    "categories": [
                      {
                        "name": "Missing",
                        "count": 44
                      }
                    ]
                  }
                },
                {
                  "name": "parent_molecule_chembl_id",
                  "dtype": "object",
                  "stats": {
                    "unique_count": 43,
                    "nan_count": 0,
                    "categories": [
                      {
                        "name": "CHEMBL3670870",
                        "count": 2
                      },
                      {
                        "name": "CHEMBL3670888",
                        "count": 1
                      },
                      {
                        "name": "41 others",
                        "count": 41
                      }
                    ]
                  }
                },
                {
                  "name": "pchembl_value",
                  "dtype": "object",
                  "stats": {
                    "unique_count": 36,
                    "nan_count": 0,
                    "categories": [
                      {
                        "name": "9.22",
                        "count": 3
                      },
                      {
                        "name": "9.00",
                        "count": 2
                      },
                      {
                        "name": "34 others",
                        "count": 39
                      }
                    ]
                  }
                },
                {
                  "name": "potential_duplicate",
                  "dtype": "int64",
                  "stats": {
                    "unique_count": 1,
                    "nan_count": 0,
                    "min": "0",
                    "max": "0",
                    "histogram": [
                      {
                        "bin_start": -0.5,
                        "bin_end": -0.4,
                        "count": 0
                      },
                      {
                        "bin_start": -0.4,
                        "bin_end": -0.3,
                        "count": 0
                      },
                      {
                        "bin_start": -0.3,
                        "bin_end": -0.19999999999999996,
                        "count": 0
                      },
                      {
                        "bin_start": -0.19999999999999996,
                        "bin_end": -0.09999999999999998,
                        "count": 0
                      },
                      {
                        "bin_start": -0.09999999999999998,
                        "bin_end": 0,
                        "count": 0
                      },
                      {
                        "bin_start": 0,
                        "bin_end": 0.10000000000000009,
                        "count": 44
                      },
                      {
                        "bin_start": 0.10000000000000009,
                        "bin_end": 0.20000000000000007,
                        "count": 0
                      },
                      {
                        "bin_start": 0.20000000000000007,
                        "bin_end": 0.30000000000000004,
                        "count": 0
                      },
                      {
                        "bin_start": 0.30000000000000004,
                        "bin_end": 0.4,
                        "count": 0
                      },
                      {
                        "bin_start": 0.4,
                        "bin_end": 0.5,
                        "count": 0
                      }
                    ]
                  }
                },
                {
                  "name": "qudt_units",
                  "dtype": "object",
                  "stats": {
                    "unique_count": 1,
                    "nan_count": 0,
                    "categories": [
                      {
                        "name": "http://www.openphacts.org/units/Nanomolar",
                        "count": 44
                      }
                    ]
                  }
                },
                {
                  "name": "record_id",
                  "dtype": "int64",
                  "stats": {
                    "unique_count": 43,
                    "nan_count": 0,
                    "min": "2546187",
                    "max": "2546229",
                    "histogram": [
                      {
                        "bin_start": 2546187,
                        "bin_end": 2546191.2,
                        "count": 5
                      },
                      {
                        "bin_start": 2546191.2,
                        "bin_end": 2546195.4,
                        "count": 5
                      },
                      {
                        "bin_start": 2546195.4,
                        "bin_end": 2546199.6,
                        "count": 4
                      },
                      {
                        "bin_start": 2546199.6,
                        "bin_end": 2546203.8,
                        "count": 4
                      },
                      {
                        "bin_start": 2546203.8,
                        "bin_end": 2546208,
                        "count": 4
                      },
                      {
                        "bin_start": 2546208,
                        "bin_end": 2546212.2,
                        "count": 5
                      },
                      {
                        "bin_start": 2546212.2,
                        "bin_end": 2546216.4,
                        "count": 4
                      },
                      {
                        "bin_start": 2546216.4,
                        "bin_end": 2546220.6,
                        "count": 4
                      },
                      {
                        "bin_start": 2546220.6,
                        "bin_end": 2546224.8,
                        "count": 4
                      },
                      {
                        "bin_start": 2546224.8,
                        "bin_end": 2546229,
                        "count": 5
                      }
                    ]
                  }
                },
                {
                  "name": "relation",
                  "dtype": "object",
                  "stats": {
                    "unique_count": 1,
                    "nan_count": 0,
                    "categories": [
                      {
                        "name": "=",
                        "count": 44
                      }
                    ]
                  }
                },
                {
                  "name": "src_id",
                  "dtype": "int64",
                  "stats": {
                    "unique_count": 1,
                    "nan_count": 0,
                    "min": "37",
                    "max": "37",
                    "histogram": [
                      {
                        "bin_start": 36.5,
                        "bin_end": 36.6,
                        "count": 0
                      },
                      {
                        "bin_start": 36.6,
                        "bin_end": 36.7,
                        "count": 0
                      },
                      {
                        "bin_start": 36.7,
                        "bin_end": 36.8,
                        "count": 0
                      },
                      {
                        "bin_start": 36.8,
                        "bin_end": 36.9,
                        "count": 0
                      },
                      {
                        "bin_start": 36.9,
                        "bin_end": 37,
                        "count": 0
                      },
                      {
                        "bin_start": 37,
                        "bin_end": 37.1,
                        "count": 44
                      },
                      {
                        "bin_start": 37.1,
                        "bin_end": 37.2,
                        "count": 0
                      },
                      {
                        "bin_start": 37.2,
                        "bin_end": 37.3,
                        "count": 0
                      },
                      {
                        "bin_start": 37.3,
                        "bin_end": 37.4,
                        "count": 0
                      },
                      {
                        "bin_start": 37.4,
                        "bin_end": 37.5,
                        "count": 0
                      }
                    ]
                  }
                },
                {
                  "name": "standard_flag",
                  "dtype": "int64",
                  "stats": {
                    "unique_count": 1,
                    "nan_count": 0,
                    "min": "1",
                    "max": "1",
                    "histogram": [
                      {
                        "bin_start": 0.5,
                        "bin_end": 0.6,
                        "count": 0
                      },
                      {
                        "bin_start": 0.6,
                        "bin_end": 0.7,
                        "count": 0
                      },
                      {
                        "bin_start": 0.7,
                        "bin_end": 0.8,
                        "count": 0
                      },
                      {
                        "bin_start": 0.8,
                        "bin_end": 0.9,
                        "count": 0
                      },
                      {
                        "bin_start": 0.9,
                        "bin_end": 1,
                        "count": 0
                      },
                      {
                        "bin_start": 1,
                        "bin_end": 1.1,
                        "count": 44
                      },
                      {
                        "bin_start": 1.1,
                        "bin_end": 1.2000000000000002,
                        "count": 0
                      },
                      {
                        "bin_start": 1.2000000000000002,
                        "bin_end": 1.3,
                        "count": 0
                      },
                      {
                        "bin_start": 1.3,
                        "bin_end": 1.4,
                        "count": 0
                      },
                      {
                        "bin_start": 1.4,
                        "bin_end": 1.5,
                        "count": 0
                      }
                    ]
                  }
                },
                {
                  "name": "standard_relation",
                  "dtype": "object",
                  "stats": {
                    "unique_count": 1,
                    "nan_count": 0,
                    "categories": [
                      {
                        "name": "=",
                        "count": 44
                      }
                    ]
                  }
                },
                {
                  "name": "standard_text_value",
                  "dtype": "object",
                  "stats": {
                    "unique_count": 0,
                    "nan_count": 44,
                    "categories": [
                      {
                        "name": "Missing",
                        "count": 44
                      }
                    ]
                  }
                },
                {
                  "name": "standard_type",
                  "dtype": "object",
                  "stats": {
                    "unique_count": 1,
                    "nan_count": 0,
                    "categories": [
                      {
                        "name": "IC50",
                        "count": 44
                      }
                    ]
                  }
                },
                {
                  "name": "standard_units",
                  "dtype": "object",
                  "stats": {
                    "unique_count": 1,
                    "nan_count": 0,
                    "categories": [
                      {
                        "name": "nM",
                        "count": 44
                      }
                    ]
                  }
                },
                {
                  "name": "standard_upper_value",
                  "dtype": "object",
                  "stats": {
                    "unique_count": 0,
                    "nan_count": 44,
                    "categories": [
                      {
                        "name": "Missing",
                        "count": 44
                      }
                    ]
                  }
                },
                {
                  "name": "standard_value",
                  "dtype": "object",
                  "stats": {
                    "unique_count": 43,
                    "nan_count": 0,
                    "categories": [
                      {
                        "name": "0.58",
                        "count": 2
                      },
                      {
                        "name": "0.995",
                        "count": 1
                      },
                      {
                        "name": "41 others",
                        "count": 41
                      }
                    ]
                  }
                },
                {
                  "name": "target_chembl_id",
                  "dtype": "object",
                  "stats": {
                    "unique_count": 1,
                    "nan_count": 0,
                    "categories": [
                      {
                        "name": "CHEMBL3638323",
                        "count": 44
                      }
                    ]
                  }
                },
                {
                  "name": "target_organism",
                  "dtype": "object",
                  "stats": {
                    "unique_count": 1,
                    "nan_count": 0,
                    "categories": [
                      {
                        "name": "Human immunodeficiency virus",
                        "count": 44
                      }
                    ]
                  }
                },
                {
                  "name": "target_pref_name",
                  "dtype": "object",
                  "stats": {
                    "unique_count": 1,
                    "nan_count": 0,
                    "categories": [
                      {
                        "name": "HIV protease",
                        "count": 44
                      }
                    ]
                  }
                },
                {
                  "name": "target_tax_id",
                  "dtype": "object",
                  "stats": {
                    "unique_count": 1,
                    "nan_count": 0,
                    "categories": [
                      {
                        "name": "12721",
                        "count": 44
                      }
                    ]
                  }
                },
                {
                  "name": "text_value",
                  "dtype": "object",
                  "stats": {
                    "unique_count": 0,
                    "nan_count": 44,
                    "categories": [
                      {
                        "name": "Missing",
                        "count": 44
                      }
                    ]
                  }
                },
                {
                  "name": "toid",
                  "dtype": "object",
                  "stats": {
                    "unique_count": 0,
                    "nan_count": 44,
                    "categories": [
                      {
                        "name": "Missing",
                        "count": 44
                      }
                    ]
                  }
                },
                {
                  "name": "type",
                  "dtype": "object",
                  "stats": {
                    "unique_count": 1,
                    "nan_count": 0,
                    "categories": [
                      {
                        "name": "IC50",
                        "count": 44
                      }
                    ]
                  }
                },
                {
                  "name": "units",
                  "dtype": "object",
                  "stats": {
                    "unique_count": 1,
                    "nan_count": 0,
                    "categories": [
                      {
                        "name": "nM",
                        "count": 44
                      }
                    ]
                  }
                },
                {
                  "name": "uo_units",
                  "dtype": "object",
                  "stats": {
                    "unique_count": 1,
                    "nan_count": 0,
                    "categories": [
                      {
                        "name": "UO_0000065",
                        "count": 44
                      }
                    ]
                  }
                },
                {
                  "name": "upper_value",
                  "dtype": "object",
                  "stats": {
                    "unique_count": 0,
                    "nan_count": 44,
                    "categories": [
                      {
                        "name": "Missing",
                        "count": 44
                      }
                    ]
                  }
                },
                {
                  "name": "value",
                  "dtype": "object",
                  "stats": {
                    "unique_count": 43,
                    "nan_count": 0,
                    "categories": [
                      {
                        "name": "0.58",
                        "count": 2
                      },
                      {
                        "name": "0.995",
                        "count": 1
                      },
                      {
                        "name": "41 others",
                        "count": 41
                      }
                    ]
                  }
                },
                {
                  "name": "_deepnote_index_column",
                  "dtype": "int64"
                }
              ],
              "rows": [
                {
                  "action_type": "None",
                  "activity_comment": "251770",
                  "activity_id": 17635001,
                  "activity_properties": "[]",
                  "assay_chembl_id": "CHEMBL3705170",
                  "assay_description": "Enzymatic Assay : This is a fluorometric assay based on the cleavage by protease of a substrate carrying a donor group (EDANS) and an acceptor group (DABCYL) on each side of the cleavage site, interacting together through fluorescence resonance energy transfer (FRET) as described by Matayoshi et al. (Science 247:954-954, 1990).",
                  "assay_type": "B",
                  "assay_variant_accession": "None",
                  "assay_variant_mutation": "None",
                  "bao_endpoint": "BAO_0000190",
                  "bao_format": "BAO_0000357",
                  "bao_label": "single protein format",
                  "canonical_smiles": "CC(C)CN([C@H](CO)CCCCNC(=O)[C@H](CC1CCCCC1)NC(=O)c1cccnc1)S(=O)(=O)c1ccc(N)cc1",
                  "data_validity_comment": "None",
                  "data_validity_description": "None",
                  "document_chembl_id": "CHEMBL3638505",
                  "document_journal": "None",
                  "document_year": 2014,
                  "ligand_efficiency": "{'bei': '14.19', 'le': '0.28', 'lle': '4.81', 'sei': '5.52'}",
                  "molecule_chembl_id": "CHEMBL3670902",
                  "molecule_pref_name": "None",
                  "parent_molecule_chembl_id": "CHEMBL3670902",
                  "pchembl_value": "8.54",
                  "potential_duplicate": 0,
                  "qudt_units": "http://www.openphacts.org/units/Nanomolar",
                  "record_id": 2546228,
                  "relation": "=",
                  "src_id": 37,
                  "standard_flag": 1,
                  "standard_relation": "=",
                  "standard_text_value": "None",
                  "standard_type": "IC50",
                  "standard_units": "nM",
                  "standard_upper_value": "None",
                  "standard_value": "2.876",
                  "target_chembl_id": "CHEMBL3638323",
                  "target_organism": "Human immunodeficiency virus",
                  "target_pref_name": "HIV protease",
                  "target_tax_id": "12721",
                  "text_value": "None",
                  "toid": "None",
                  "type": "IC50",
                  "units": "nM",
                  "uo_units": "UO_0000065",
                  "upper_value": "None",
                  "value": "2.876",
                  "_deepnote_index_column": 10
                },
                {
                  "action_type": "None",
                  "activity_comment": "251771",
                  "activity_id": 17635002,
                  "activity_properties": "[]",
                  "assay_chembl_id": "CHEMBL3705170",
                  "assay_description": "Enzymatic Assay : This is a fluorometric assay based on the cleavage by protease of a substrate carrying a donor group (EDANS) and an acceptor group (DABCYL) on each side of the cleavage site, interacting together through fluorescence resonance energy transfer (FRET) as described by Matayoshi et al. (Science 247:954-954, 1990).",
                  "assay_type": "B",
                  "assay_variant_accession": "None",
                  "assay_variant_mutation": "None",
                  "bao_endpoint": "BAO_0000190",
                  "bao_format": "BAO_0000357",
                  "bao_label": "single protein format",
                  "canonical_smiles": "Cc1ccc(C(=O)N[C@@H](CC2CCCCC2)C(=O)NCCCC[C@@H](CO)N(CC(C)C)S(=O)(=O)c2ccc(N)cc2)cn1",
                  "data_validity_comment": "None",
                  "data_validity_description": "None",
                  "document_chembl_id": "CHEMBL3638505",
                  "document_journal": "None",
                  "document_year": 2014,
                  "ligand_efficiency": "{'bei': '13.77', 'le': '0.27', 'lle': '4.44', 'sei': '5.48'}",
                  "molecule_chembl_id": "CHEMBL3670903",
                  "molecule_pref_name": "None",
                  "parent_molecule_chembl_id": "CHEMBL3670903",
                  "pchembl_value": "8.48",
                  "potential_duplicate": 0,
                  "qudt_units": "http://www.openphacts.org/units/Nanomolar",
                  "record_id": 2546229,
                  "relation": "=",
                  "src_id": 37,
                  "standard_flag": 1,
                  "standard_relation": "=",
                  "standard_text_value": "None",
                  "standard_type": "IC50",
                  "standard_units": "nM",
                  "standard_upper_value": "None",
                  "standard_value": "3.314",
                  "target_chembl_id": "CHEMBL3638323",
                  "target_organism": "Human immunodeficiency virus",
                  "target_pref_name": "HIV protease",
                  "target_tax_id": "12721",
                  "text_value": "None",
                  "toid": "None",
                  "type": "IC50",
                  "units": "nM",
                  "uo_units": "UO_0000065",
                  "upper_value": "None",
                  "value": "3.314",
                  "_deepnote_index_column": 11
                },
                {
                  "action_type": "None",
                  "activity_comment": "251772",
                  "activity_id": 17635003,
                  "activity_properties": "[]",
                  "assay_chembl_id": "CHEMBL3705170",
                  "assay_description": "Enzymatic Assay : This is a fluorometric assay based on the cleavage by protease of a substrate carrying a donor group (EDANS) and an acceptor group (DABCYL) on each side of the cleavage site, interacting together through fluorescence resonance energy transfer (FRET) as described by Matayoshi et al. (Science 247:954-954, 1990).",
                  "assay_type": "B",
                  "assay_variant_accession": "None",
                  "assay_variant_mutation": "None",
                  "bao_endpoint": "BAO_0000190",
                  "bao_format": "BAO_0000357",
                  "bao_label": "single protein format",
                  "canonical_smiles": "COC(=O)N[C@H](C(=O)NCCCC[C@H](CO)N(CC(C)C)S(=O)(=O)c1cccc2cccnc12)C(c1ccccc1)c1ccccc1",
                  "data_validity_comment": "None",
                  "data_validity_description": "None",
                  "document_chembl_id": "CHEMBL3638505",
                  "document_journal": "None",
                  "document_year": 2014,
                  "ligand_efficiency": "{'bei': '13.00', 'le': '0.25', 'lle': '3.50', 'sei': '6.23'}",
                  "molecule_chembl_id": "CHEMBL3639697",
                  "molecule_pref_name": "None",
                  "parent_molecule_chembl_id": "CHEMBL3639697",
                  "pchembl_value": "8.59",
                  "potential_duplicate": 0,
                  "qudt_units": "http://www.openphacts.org/units/Nanomolar",
                  "record_id": 2546219,
                  "relation": "=",
                  "src_id": 37,
                  "standard_flag": 1,
                  "standard_relation": "=",
                  "standard_text_value": "None",
                  "standard_type": "IC50",
                  "standard_units": "nM",
                  "standard_upper_value": "None",
                  "standard_value": "2.55",
                  "target_chembl_id": "CHEMBL3638323",
                  "target_organism": "Human immunodeficiency virus",
                  "target_pref_name": "HIV protease",
                  "target_tax_id": "12721",
                  "text_value": "None",
                  "toid": "None",
                  "type": "IC50",
                  "units": "nM",
                  "uo_units": "UO_0000065",
                  "upper_value": "None",
                  "value": "2.55",
                  "_deepnote_index_column": 12
                },
                {
                  "action_type": "None",
                  "activity_comment": "251773",
                  "activity_id": 17635004,
                  "activity_properties": "[]",
                  "assay_chembl_id": "CHEMBL3705170",
                  "assay_description": "Enzymatic Assay : This is a fluorometric assay based on the cleavage by protease of a substrate carrying a donor group (EDANS) and an acceptor group (DABCYL) on each side of the cleavage site, interacting together through fluorescence resonance energy transfer (FRET) as described by Matayoshi et al. (Science 247:954-954, 1990).",
                  "assay_type": "B",
                  "assay_variant_accession": "None",
                  "assay_variant_mutation": "None",
                  "bao_endpoint": "BAO_0000190",
                  "bao_format": "BAO_0000357",
                  "bao_label": "single protein format",
                  "canonical_smiles": "CC(C)CN([C@H](CO)CCCCNC(=O)[C@H](Cc1ccccc1Cl)NC(=O)c1ccncc1)S(=O)(=O)c1ccc(N)cc1",
                  "data_validity_comment": "None",
                  "data_validity_description": "None",
                  "document_chembl_id": "CHEMBL3638505",
                  "document_journal": "None",
                  "document_year": 2014,
                  "ligand_efficiency": "{'bei': '13.36', 'le': '0.27', 'lle': '4.77', 'sei': '5.44'}",
                  "molecule_chembl_id": "CHEMBL3670895",
                  "molecule_pref_name": "None",
                  "parent_molecule_chembl_id": "CHEMBL3670895",
                  "pchembl_value": "8.42",
                  "potential_duplicate": 0,
                  "qudt_units": "http://www.openphacts.org/units/Nanomolar",
                  "record_id": 2546220,
                  "relation": "=",
                  "src_id": 37,
                  "standard_flag": 1,
                  "standard_relation": "=",
                  "standard_text_value": "None",
                  "standard_type": "IC50",
                  "standard_units": "nM",
                  "standard_upper_value": "None",
                  "standard_value": "3.81",
                  "target_chembl_id": "CHEMBL3638323",
                  "target_organism": "Human immunodeficiency virus",
                  "target_pref_name": "HIV protease",
                  "target_tax_id": "12721",
                  "text_value": "None",
                  "toid": "None",
                  "type": "IC50",
                  "units": "nM",
                  "uo_units": "UO_0000065",
                  "upper_value": "None",
                  "value": "3.81",
                  "_deepnote_index_column": 13
                },
                {
                  "action_type": "None",
                  "activity_comment": "251774",
                  "activity_id": 17635005,
                  "activity_properties": "[]",
                  "assay_chembl_id": "CHEMBL3705170",
                  "assay_description": "Enzymatic Assay : This is a fluorometric assay based on the cleavage by protease of a substrate carrying a donor group (EDANS) and an acceptor group (DABCYL) on each side of the cleavage site, interacting together through fluorescence resonance energy transfer (FRET) as described by Matayoshi et al. (Science 247:954-954, 1990).",
                  "assay_type": "B",
                  "assay_variant_accession": "None",
                  "assay_variant_mutation": "None",
                  "bao_endpoint": "BAO_0000190",
                  "bao_format": "BAO_0000357",
                  "bao_label": "single protein format",
                  "canonical_smiles": "Cc1ncccc1C(=O)N[C@@H](Cc1ccccc1Cl)C(=O)NCCCC[C@@H](CO)N(CC(C)C)S(=O)(=O)c1ccc(N)cc1",
                  "data_validity_comment": "None",
                  "data_validity_description": "None",
                  "document_chembl_id": "CHEMBL3638505",
                  "document_journal": "None",
                  "document_year": 2014,
                  "ligand_efficiency": "{'bei': '13.45', 'le': '0.27', 'lle': '4.71', 'sei': '5.60'}",
                  "molecule_chembl_id": "CHEMBL3670896",
                  "molecule_pref_name": "None",
                  "parent_molecule_chembl_id": "CHEMBL3670896",
                  "pchembl_value": "8.67",
                  "potential_duplicate": 0,
                  "qudt_units": "http://www.openphacts.org/units/Nanomolar",
                  "record_id": 2546221,
                  "relation": "=",
                  "src_id": 37,
                  "standard_flag": 1,
                  "standard_relation": "=",
                  "standard_text_value": "None",
                  "standard_type": "IC50",
                  "standard_units": "nM",
                  "standard_upper_value": "None",
                  "standard_value": "2.15",
                  "target_chembl_id": "CHEMBL3638323",
                  "target_organism": "Human immunodeficiency virus",
                  "target_pref_name": "HIV protease",
                  "target_tax_id": "12721",
                  "text_value": "None",
                  "toid": "None",
                  "type": "IC50",
                  "units": "nM",
                  "uo_units": "UO_0000065",
                  "upper_value": "None",
                  "value": "2.15",
                  "_deepnote_index_column": 14
                },
                {
                  "action_type": "None",
                  "activity_comment": "251775",
                  "activity_id": 17635006,
                  "activity_properties": "[]",
                  "assay_chembl_id": "CHEMBL3705170",
                  "assay_description": "Enzymatic Assay : This is a fluorometric assay based on the cleavage by protease of a substrate carrying a donor group (EDANS) and an acceptor group (DABCYL) on each side of the cleavage site, interacting together through fluorescence resonance energy transfer (FRET) as described by Matayoshi et al. (Science 247:954-954, 1990).",
                  "assay_type": "B",
                  "assay_variant_accession": "None",
                  "assay_variant_mutation": "None",
                  "bao_endpoint": "BAO_0000190",
                  "bao_format": "BAO_0000357",
                  "bao_label": "single protein format",
                  "canonical_smiles": "CC(C)CN([C@H](CO)CCCCNC(=O)[C@H](CC1=C(Br)CCC=C1)NC(=O)N1CCOCC1)S(=O)(=O)c1ccc2c(c1)OCCO2",
                  "data_validity_comment": "None",
                  "data_validity_description": "None",
                  "document_chembl_id": "CHEMBL3638505",
                  "document_journal": "None",
                  "document_year": 2014,
                  "ligand_efficiency": "{'bei': '11.59', 'le': '0.25', 'lle': '4.89', 'sei': '5.75'}",
                  "molecule_chembl_id": "CHEMBL3670891",
                  "molecule_pref_name": "None",
                  "parent_molecule_chembl_id": "CHEMBL3670891",
                  "pchembl_value": "8.44",
                  "potential_duplicate": 0,
                  "qudt_units": "http://www.openphacts.org/units/Nanomolar",
                  "record_id": 2546215,
                  "relation": "=",
                  "src_id": 37,
                  "standard_flag": 1,
                  "standard_relation": "=",
                  "standard_text_value": "None",
                  "standard_type": "IC50",
                  "standard_units": "nM",
                  "standard_upper_value": "None",
                  "standard_value": "3.659",
                  "target_chembl_id": "CHEMBL3638323",
                  "target_organism": "Human immunodeficiency virus",
                  "target_pref_name": "HIV protease",
                  "target_tax_id": "12721",
                  "text_value": "None",
                  "toid": "None",
                  "type": "IC50",
                  "units": "nM",
                  "uo_units": "UO_0000065",
                  "upper_value": "None",
                  "value": "3.659",
                  "_deepnote_index_column": 15
                },
                {
                  "action_type": "None",
                  "activity_comment": "251776",
                  "activity_id": 17635007,
                  "activity_properties": "[]",
                  "assay_chembl_id": "CHEMBL3705170",
                  "assay_description": "Enzymatic Assay : This is a fluorometric assay based on the cleavage by protease of a substrate carrying a donor group (EDANS) and an acceptor group (DABCYL) on each side of the cleavage site, interacting together through fluorescence resonance energy transfer (FRET) as described by Matayoshi et al. (Science 247:954-954, 1990).",
                  "assay_type": "B",
                  "assay_variant_accession": "None",
                  "assay_variant_mutation": "None",
                  "bao_endpoint": "BAO_0000190",
                  "bao_format": "BAO_0000357",
                  "bao_label": "single protein format",
                  "canonical_smiles": "COC(=O)N[C@H](C(=O)NCCCC[C@@H](CO)N(CC(C)C)S(=O)(=O)c1ccc2c(c1)CCO2)C(C1=CC=CCC1)c1ccccc1",
                  "data_validity_comment": "None",
                  "data_validity_description": "None",
                  "document_chembl_id": "CHEMBL3638505",
                  "document_journal": "None",
                  "document_year": 2014,
                  "ligand_efficiency": "{'bei': '13.84', 'le': '0.27', 'lle': '4.35', 'sei': '6.74'}",
                  "molecule_chembl_id": "CHEMBL3670892",
                  "molecule_pref_name": "None",
                  "parent_molecule_chembl_id": "CHEMBL3670892",
                  "pchembl_value": "9.05",
                  "potential_duplicate": 0,
                  "qudt_units": "http://www.openphacts.org/units/Nanomolar",
                  "record_id": 2546216,
                  "relation": "=",
                  "src_id": 37,
                  "standard_flag": 1,
                  "standard_relation": "=",
                  "standard_text_value": "None",
                  "standard_type": "IC50",
                  "standard_units": "nM",
                  "standard_upper_value": "None",
                  "standard_value": "0.899",
                  "target_chembl_id": "CHEMBL3638323",
                  "target_organism": "Human immunodeficiency virus",
                  "target_pref_name": "HIV protease",
                  "target_tax_id": "12721",
                  "text_value": "None",
                  "toid": "None",
                  "type": "IC50",
                  "units": "nM",
                  "uo_units": "UO_0000065",
                  "upper_value": "None",
                  "value": "0.899",
                  "_deepnote_index_column": 16
                },
                {
                  "action_type": "None",
                  "activity_comment": "251777",
                  "activity_id": 17635008,
                  "activity_properties": "[]",
                  "assay_chembl_id": "CHEMBL3705170",
                  "assay_description": "Enzymatic Assay : This is a fluorometric assay based on the cleavage by protease of a substrate carrying a donor group (EDANS) and an acceptor group (DABCYL) on each side of the cleavage site, interacting together through fluorescence resonance energy transfer (FRET) as described by Matayoshi et al. (Science 247:954-954, 1990).",
                  "assay_type": "B",
                  "assay_variant_accession": "None",
                  "assay_variant_mutation": "None",
                  "bao_endpoint": "BAO_0000190",
                  "bao_format": "BAO_0000357",
                  "bao_label": "single protein format",
                  "canonical_smiles": "CC(C)CN([C@H](CO)CCCCNC(=O)[C@@H](NC(=O)N1CCOCC1)C(c1ccccc1)c1ccccc1)S(=O)(=O)c1ccc2c(c1)CCO2",
                  "data_validity_comment": "None",
                  "data_validity_description": "None",
                  "document_chembl_id": "CHEMBL3638505",
                  "document_journal": "None",
                  "document_year": 2014,
                  "ligand_efficiency": "{'bei': '12.75', 'le': '0.25', 'lle': '4.86', 'sei': '6.56'}",
                  "molecule_chembl_id": "CHEMBL3670893",
                  "molecule_pref_name": "None",
                  "parent_molecule_chembl_id": "CHEMBL3670893",
                  "pchembl_value": "9.02",
                  "potential_duplicate": 0,
                  "qudt_units": "http://www.openphacts.org/units/Nanomolar",
                  "record_id": 2546217,
                  "relation": "=",
                  "src_id": 37,
                  "standard_flag": 1,
                  "standard_relation": "=",
                  "standard_text_value": "None",
                  "standard_type": "IC50",
                  "standard_units": "nM",
                  "standard_upper_value": "None",
                  "standard_value": "0.963",
                  "target_chembl_id": "CHEMBL3638323",
                  "target_organism": "Human immunodeficiency virus",
                  "target_pref_name": "HIV protease",
                  "target_tax_id": "12721",
                  "text_value": "None",
                  "toid": "None",
                  "type": "IC50",
                  "units": "nM",
                  "uo_units": "UO_0000065",
                  "upper_value": "None",
                  "value": "0.963",
                  "_deepnote_index_column": 17
                },
                {
                  "action_type": "None",
                  "activity_comment": "251778",
                  "activity_id": 17635009,
                  "activity_properties": "[]",
                  "assay_chembl_id": "CHEMBL3705170",
                  "assay_description": "Enzymatic Assay : This is a fluorometric assay based on the cleavage by protease of a substrate carrying a donor group (EDANS) and an acceptor group (DABCYL) on each side of the cleavage site, interacting together through fluorescence resonance energy transfer (FRET) as described by Matayoshi et al. (Science 247:954-954, 1990).",
                  "assay_type": "B",
                  "assay_variant_accession": "None",
                  "assay_variant_mutation": "None",
                  "bao_endpoint": "BAO_0000190",
                  "bao_format": "BAO_0000357",
                  "bao_label": "single protein format",
                  "canonical_smiles": "COC(=O)N[C@H](C(=O)NCCCC[C@H](CO)N(CC(C)C)S(=O)(=O)c1ccc2c(c1)N(C)CCO2)C(c1ccccc1)c1ccccc1",
                  "data_validity_comment": "None",
                  "data_validity_description": "None",
                  "document_chembl_id": "CHEMBL3638505",
                  "document_journal": "None",
                  "document_year": 2014,
                  "ligand_efficiency": "{'bei': '12.52', 'le': '0.24', 'lle': '4.15', 'sei': '6.20'}",
                  "molecule_chembl_id": "CHEMBL3670894",
                  "molecule_pref_name": "None",
                  "parent_molecule_chembl_id": "CHEMBL3670894",
                  "pchembl_value": "8.52",
                  "potential_duplicate": 0,
                  "qudt_units": "http://www.openphacts.org/units/Nanomolar",
                  "record_id": 2546218,
                  "relation": "=",
                  "src_id": 37,
                  "standard_flag": 1,
                  "standard_relation": "=",
                  "standard_text_value": "None",
                  "standard_type": "IC50",
                  "standard_units": "nM",
                  "standard_upper_value": "None",
                  "standard_value": "3.011",
                  "target_chembl_id": "CHEMBL3638323",
                  "target_organism": "Human immunodeficiency virus",
                  "target_pref_name": "HIV protease",
                  "target_tax_id": "12721",
                  "text_value": "None",
                  "toid": "None",
                  "type": "IC50",
                  "units": "nM",
                  "uo_units": "UO_0000065",
                  "upper_value": "None",
                  "value": "3.011",
                  "_deepnote_index_column": 18
                },
                {
                  "action_type": "None",
                  "activity_comment": "251779",
                  "activity_id": 17635010,
                  "activity_properties": "[]",
                  "assay_chembl_id": "CHEMBL3705170",
                  "assay_description": "Enzymatic Assay : This is a fluorometric assay based on the cleavage by protease of a substrate carrying a donor group (EDANS) and an acceptor group (DABCYL) on each side of the cleavage site, interacting together through fluorescence resonance energy transfer (FRET) as described by Matayoshi et al. (Science 247:954-954, 1990).",
                  "assay_type": "B",
                  "assay_variant_accession": "None",
                  "assay_variant_mutation": "None",
                  "bao_endpoint": "BAO_0000190",
                  "bao_format": "BAO_0000357",
                  "bao_label": "single protein format",
                  "canonical_smiles": "Cc1cccnc1C(=O)N[C@@H](Cc1ccccc1Br)C(=O)NCCCC[C@@H](CO)N(CC(C)C)S(=O)(=O)c1ccc(N)cc1",
                  "data_validity_comment": "None",
                  "data_validity_description": "None",
                  "document_chembl_id": "CHEMBL3638505",
                  "document_journal": "None",
                  "document_year": 2014,
                  "ligand_efficiency": "{'bei': '13.50', 'le': '0.29', 'lle': '5.23', 'sei': '6.01'}",
                  "molecule_chembl_id": "CHEMBL3670883",
                  "molecule_pref_name": "None",
                  "parent_molecule_chembl_id": "CHEMBL3670883",
                  "pchembl_value": "9.30",
                  "potential_duplicate": 0,
                  "qudt_units": "http://www.openphacts.org/units/Nanomolar",
                  "record_id": 2546207,
                  "relation": "=",
                  "src_id": 37,
                  "standard_flag": 1,
                  "standard_relation": "=",
                  "standard_text_value": "None",
                  "standard_type": "IC50",
                  "standard_units": "nM",
                  "standard_upper_value": "None",
                  "standard_value": "0.503",
                  "target_chembl_id": "CHEMBL3638323",
                  "target_organism": "Human immunodeficiency virus",
                  "target_pref_name": "HIV protease",
                  "target_tax_id": "12721",
                  "text_value": "None",
                  "toid": "None",
                  "type": "IC50",
                  "units": "nM",
                  "uo_units": "UO_0000065",
                  "upper_value": "None",
                  "value": "0.503",
                  "_deepnote_index_column": 19
                }
              ]
            },
            "text/plain": "   action_type activity_comment  activity_id activity_properties  \\\n0         None           251760     17634991                  []   \n1         None           251761     17634992                  []   \n2         None           251762     17634993                  []   \n3         None           251763     17634994                  []   \n4         None           251764     17634995                  []   \n5         None           251765     17634996                  []   \n6         None           251766     17634997                  []   \n7         None           251767     17634998                  []   \n8         None           251768     17634999                  []   \n9         None           251769     17635000                  []   \n10        None           251770     17635001                  []   \n11        None           251771     17635002                  []   \n12        None           251772     17635003                  []   \n13        None           251773     17635004                  []   \n14        None           251774     17635005                  []   \n15        None           251775     17635006                  []   \n16        None           251776     17635007                  []   \n17        None           251777     17635008                  []   \n18        None           251778     17635009                  []   \n19        None           251779     17635010                  []   \n20        None           251780     17635011                  []   \n21        None           251781     17635012                  []   \n22        None           251782     17635013                  []   \n23        None           251783     17635014                  []   \n24        None           251784     17635015                  []   \n25        None           251785     17635016                  []   \n26        None           251786     17635017                  []   \n27        None           251787     17635018                  []   \n28        None           251788     17635019                  []   \n29        None           251789     17635020                  []   \n30        None           251790     17635021                  []   \n31        None           251791     17635022                  []   \n32        None           251792     17635023                  []   \n33        None           251793     17635024                  []   \n34        None           251794     17635025                  []   \n35        None           251795     17635026                  []   \n36        None           251796     17635027                  []   \n37        None           251797     17635028                  []   \n38        None           251798     17635029                  []   \n39        None           251799     17635030                  []   \n40        None           251800     17635031                  []   \n41        None           251801     17635032                  []   \n42        None           251802     17635033                  []   \n43        None           251803     17635034                  []   \n\n   assay_chembl_id                                  assay_description  \\\n0    CHEMBL3705170  Enzymatic Assay : This is a fluorometric assay...   \n1    CHEMBL3705170  Enzymatic Assay : This is a fluorometric assay...   \n2    CHEMBL3705170  Enzymatic Assay : This is a fluorometric assay...   \n3    CHEMBL3705170  Enzymatic Assay : This is a fluorometric assay...   \n4    CHEMBL3705170  Enzymatic Assay : This is a fluorometric assay...   \n5    CHEMBL3705170  Enzymatic Assay : This is a fluorometric assay...   \n6    CHEMBL3705170  Enzymatic Assay : This is a fluorometric assay...   \n7    CHEMBL3705170  Enzymatic Assay : This is a fluorometric assay...   \n8    CHEMBL3705170  Enzymatic Assay : This is a fluorometric assay...   \n9    CHEMBL3705170  Enzymatic Assay : This is a fluorometric assay...   \n10   CHEMBL3705170  Enzymatic Assay : This is a fluorometric assay...   \n11   CHEMBL3705170  Enzymatic Assay : This is a fluorometric assay...   \n12   CHEMBL3705170  Enzymatic Assay : This is a fluorometric assay...   \n13   CHEMBL3705170  Enzymatic Assay : This is a fluorometric assay...   \n14   CHEMBL3705170  Enzymatic Assay : This is a fluorometric assay...   \n15   CHEMBL3705170  Enzymatic Assay : This is a fluorometric assay...   \n16   CHEMBL3705170  Enzymatic Assay : This is a fluorometric assay...   \n17   CHEMBL3705170  Enzymatic Assay : This is a fluorometric assay...   \n18   CHEMBL3705170  Enzymatic Assay : This is a fluorometric assay...   \n19   CHEMBL3705170  Enzymatic Assay : This is a fluorometric assay...   \n20   CHEMBL3705170  Enzymatic Assay : This is a fluorometric assay...   \n21   CHEMBL3705170  Enzymatic Assay : This is a fluorometric assay...   \n22   CHEMBL3705170  Enzymatic Assay : This is a fluorometric assay...   \n23   CHEMBL3705170  Enzymatic Assay : This is a fluorometric assay...   \n24   CHEMBL3705170  Enzymatic Assay : This is a fluorometric assay...   \n25   CHEMBL3705170  Enzymatic Assay : This is a fluorometric assay...   \n26   CHEMBL3705170  Enzymatic Assay : This is a fluorometric assay...   \n27   CHEMBL3705170  Enzymatic Assay : This is a fluorometric assay...   \n28   CHEMBL3705170  Enzymatic Assay : This is a fluorometric assay...   \n29   CHEMBL3705170  Enzymatic Assay : This is a fluorometric assay...   \n30   CHEMBL3705170  Enzymatic Assay : This is a fluorometric assay...   \n31   CHEMBL3705170  Enzymatic Assay : This is a fluorometric assay...   \n32   CHEMBL3705170  Enzymatic Assay : This is a fluorometric assay...   \n33   CHEMBL3705170  Enzymatic Assay : This is a fluorometric assay...   \n34   CHEMBL3705170  Enzymatic Assay : This is a fluorometric assay...   \n35   CHEMBL3705170  Enzymatic Assay : This is a fluorometric assay...   \n36   CHEMBL3705170  Enzymatic Assay : This is a fluorometric assay...   \n37   CHEMBL3705170  Enzymatic Assay : This is a fluorometric assay...   \n38   CHEMBL3705170  Enzymatic Assay : This is a fluorometric assay...   \n39   CHEMBL3705170  Enzymatic Assay : This is a fluorometric assay...   \n40   CHEMBL3705170  Enzymatic Assay : This is a fluorometric assay...   \n41   CHEMBL3705170  Enzymatic Assay : This is a fluorometric assay...   \n42   CHEMBL3705170  Enzymatic Assay : This is a fluorometric assay...   \n43   CHEMBL3705170  Enzymatic Assay : This is a fluorometric assay...   \n\n   assay_type assay_variant_accession assay_variant_mutation bao_endpoint  \\\n0           B                    None                   None  BAO_0000190   \n1           B                    None                   None  BAO_0000190   \n2           B                    None                   None  BAO_0000190   \n3           B                    None                   None  BAO_0000190   \n4           B                    None                   None  BAO_0000190   \n5           B                    None                   None  BAO_0000190   \n6           B                    None                   None  BAO_0000190   \n7           B                    None                   None  BAO_0000190   \n8           B                    None                   None  BAO_0000190   \n9           B                    None                   None  BAO_0000190   \n10          B                    None                   None  BAO_0000190   \n11          B                    None                   None  BAO_0000190   \n12          B                    None                   None  BAO_0000190   \n13          B                    None                   None  BAO_0000190   \n14          B                    None                   None  BAO_0000190   \n15          B                    None                   None  BAO_0000190   \n16          B                    None                   None  BAO_0000190   \n17          B                    None                   None  BAO_0000190   \n18          B                    None                   None  BAO_0000190   \n19          B                    None                   None  BAO_0000190   \n20          B                    None                   None  BAO_0000190   \n21          B                    None                   None  BAO_0000190   \n22          B                    None                   None  BAO_0000190   \n23          B                    None                   None  BAO_0000190   \n24          B                    None                   None  BAO_0000190   \n25          B                    None                   None  BAO_0000190   \n26          B                    None                   None  BAO_0000190   \n27          B                    None                   None  BAO_0000190   \n28          B                    None                   None  BAO_0000190   \n29          B                    None                   None  BAO_0000190   \n30          B                    None                   None  BAO_0000190   \n31          B                    None                   None  BAO_0000190   \n32          B                    None                   None  BAO_0000190   \n33          B                    None                   None  BAO_0000190   \n34          B                    None                   None  BAO_0000190   \n35          B                    None                   None  BAO_0000190   \n36          B                    None                   None  BAO_0000190   \n37          B                    None                   None  BAO_0000190   \n38          B                    None                   None  BAO_0000190   \n39          B                    None                   None  BAO_0000190   \n40          B                    None                   None  BAO_0000190   \n41          B                    None                   None  BAO_0000190   \n42          B                    None                   None  BAO_0000190   \n43          B                    None                   None  BAO_0000190   \n\n    ...               target_organism target_pref_name target_tax_id  \\\n0   ...  Human immunodeficiency virus     HIV protease         12721   \n1   ...  Human immunodeficiency virus     HIV protease         12721   \n2   ...  Human immunodeficiency virus     HIV protease         12721   \n3   ...  Human immunodeficiency virus     HIV protease         12721   \n4   ...  Human immunodeficiency virus     HIV protease         12721   \n5   ...  Human immunodeficiency virus     HIV protease         12721   \n6   ...  Human immunodeficiency virus     HIV protease         12721   \n7   ...  Human immunodeficiency virus     HIV protease         12721   \n8   ...  Human immunodeficiency virus     HIV protease         12721   \n9   ...  Human immunodeficiency virus     HIV protease         12721   \n10  ...  Human immunodeficiency virus     HIV protease         12721   \n11  ...  Human immunodeficiency virus     HIV protease         12721   \n12  ...  Human immunodeficiency virus     HIV protease         12721   \n13  ...  Human immunodeficiency virus     HIV protease         12721   \n14  ...  Human immunodeficiency virus     HIV protease         12721   \n15  ...  Human immunodeficiency virus     HIV protease         12721   \n16  ...  Human immunodeficiency virus     HIV protease         12721   \n17  ...  Human immunodeficiency virus     HIV protease         12721   \n18  ...  Human immunodeficiency virus     HIV protease         12721   \n19  ...  Human immunodeficiency virus     HIV protease         12721   \n20  ...  Human immunodeficiency virus     HIV protease         12721   \n21  ...  Human immunodeficiency virus     HIV protease         12721   \n22  ...  Human immunodeficiency virus     HIV protease         12721   \n23  ...  Human immunodeficiency virus     HIV protease         12721   \n24  ...  Human immunodeficiency virus     HIV protease         12721   \n25  ...  Human immunodeficiency virus     HIV protease         12721   \n26  ...  Human immunodeficiency virus     HIV protease         12721   \n27  ...  Human immunodeficiency virus     HIV protease         12721   \n28  ...  Human immunodeficiency virus     HIV protease         12721   \n29  ...  Human immunodeficiency virus     HIV protease         12721   \n30  ...  Human immunodeficiency virus     HIV protease         12721   \n31  ...  Human immunodeficiency virus     HIV protease         12721   \n32  ...  Human immunodeficiency virus     HIV protease         12721   \n33  ...  Human immunodeficiency virus     HIV protease         12721   \n34  ...  Human immunodeficiency virus     HIV protease         12721   \n35  ...  Human immunodeficiency virus     HIV protease         12721   \n36  ...  Human immunodeficiency virus     HIV protease         12721   \n37  ...  Human immunodeficiency virus     HIV protease         12721   \n38  ...  Human immunodeficiency virus     HIV protease         12721   \n39  ...  Human immunodeficiency virus     HIV protease         12721   \n40  ...  Human immunodeficiency virus     HIV protease         12721   \n41  ...  Human immunodeficiency virus     HIV protease         12721   \n42  ...  Human immunodeficiency virus     HIV protease         12721   \n43  ...  Human immunodeficiency virus     HIV protease         12721   \n\n   text_value  toid  type units    uo_units upper_value  value  \n0        None  None  IC50    nM  UO_0000065        None  0.995  \n1        None  None  IC50    nM  UO_0000065        None  2.024  \n2        None  None  IC50    nM  UO_0000065        None  0.599  \n3        None  None  IC50    nM  UO_0000065        None    0.6  \n4        None  None  IC50    nM  UO_0000065        None   0.29  \n5        None  None  IC50    nM  UO_0000065        None  1.417  \n6        None  None  IC50    nM  UO_0000065        None  1.286  \n7        None  None  IC50    nM  UO_0000065        None  1.353  \n8        None  None  IC50    nM  UO_0000065        None  4.122  \n9        None  None  IC50    nM  UO_0000065        None  5.212  \n10       None  None  IC50    nM  UO_0000065        None  2.876  \n11       None  None  IC50    nM  UO_0000065        None  3.314  \n12       None  None  IC50    nM  UO_0000065        None   2.55  \n13       None  None  IC50    nM  UO_0000065        None   3.81  \n14       None  None  IC50    nM  UO_0000065        None   2.15  \n15       None  None  IC50    nM  UO_0000065        None  3.659  \n16       None  None  IC50    nM  UO_0000065        None  0.899  \n17       None  None  IC50    nM  UO_0000065        None  0.963  \n18       None  None  IC50    nM  UO_0000065        None  3.011  \n19       None  None  IC50    nM  UO_0000065        None  0.503  \n20       None  None  IC50    nM  UO_0000065        None  0.683  \n21       None  None  IC50    nM  UO_0000065        None   0.92  \n22       None  None  IC50    nM  UO_0000065        None   4.95  \n23       None  None  IC50    nM  UO_0000065        None  0.878  \n24       None  None  IC50    nM  UO_0000065        None  5.898  \n25       None  None  IC50    nM  UO_0000065        None  0.601  \n26       None  None  IC50    nM  UO_0000065        None  0.436  \n27       None  None  IC50    nM  UO_0000065        None  0.465  \n28       None  None  IC50    nM  UO_0000065        None   0.51  \n29       None  None  IC50    nM  UO_0000065        None  0.938  \n30       None  None  IC50    nM  UO_0000065        None   1.08  \n31       None  None  IC50    nM  UO_0000065        None  1.007  \n32       None  None  IC50    nM  UO_0000065        None   0.58  \n33       None  None  IC50    nM  UO_0000065        None  0.567  \n34       None  None  IC50    nM  UO_0000065        None  0.336  \n35       None  None  IC50    nM  UO_0000065        None  0.618  \n36       None  None  IC50    nM  UO_0000065        None  0.836  \n37       None  None  IC50    nM  UO_0000065        None  0.471  \n38       None  None  IC50    nM  UO_0000065        None  0.615  \n39       None  None  IC50    nM  UO_0000065        None  0.372  \n40       None  None  IC50    nM  UO_0000065        None  0.652  \n41       None  None  IC50    nM  UO_0000065        None  0.507  \n42       None  None  IC50    nM  UO_0000065        None  1.073  \n43       None  None  IC50    nM  UO_0000065        None   0.58  \n\n[44 rows x 46 columns]",
            "text/html": "<div>\n<style scoped>\n    .dataframe tbody tr th:only-of-type {\n        vertical-align: middle;\n    }\n\n    .dataframe tbody tr th {\n        vertical-align: top;\n    }\n\n    .dataframe thead th {\n        text-align: right;\n    }\n</style>\n<table border=\"1\" class=\"dataframe\">\n  <thead>\n    <tr style=\"text-align: right;\">\n      <th></th>\n      <th>action_type</th>\n      <th>activity_comment</th>\n      <th>activity_id</th>\n      <th>activity_properties</th>\n      <th>assay_chembl_id</th>\n      <th>assay_description</th>\n      <th>assay_type</th>\n      <th>assay_variant_accession</th>\n      <th>assay_variant_mutation</th>\n      <th>bao_endpoint</th>\n      <th>...</th>\n      <th>target_organism</th>\n      <th>target_pref_name</th>\n      <th>target_tax_id</th>\n      <th>text_value</th>\n      <th>toid</th>\n      <th>type</th>\n      <th>units</th>\n      <th>uo_units</th>\n      <th>upper_value</th>\n      <th>value</th>\n    </tr>\n  </thead>\n  <tbody>\n    <tr>\n      <th>0</th>\n      <td>None</td>\n      <td>251760</td>\n      <td>17634991</td>\n      <td>[]</td>\n      <td>CHEMBL3705170</td>\n      <td>Enzymatic Assay : This is a fluorometric assay...</td>\n      <td>B</td>\n      <td>None</td>\n      <td>None</td>\n      <td>BAO_0000190</td>\n      <td>...</td>\n      <td>Human immunodeficiency virus</td>\n      <td>HIV protease</td>\n      <td>12721</td>\n      <td>None</td>\n      <td>None</td>\n      <td>IC50</td>\n      <td>nM</td>\n      <td>UO_0000065</td>\n      <td>None</td>\n      <td>0.995</td>\n    </tr>\n    <tr>\n      <th>1</th>\n      <td>None</td>\n      <td>251761</td>\n      <td>17634992</td>\n      <td>[]</td>\n      <td>CHEMBL3705170</td>\n      <td>Enzymatic Assay : This is a fluorometric assay...</td>\n      <td>B</td>\n      <td>None</td>\n      <td>None</td>\n      <td>BAO_0000190</td>\n      <td>...</td>\n      <td>Human immunodeficiency virus</td>\n      <td>HIV protease</td>\n      <td>12721</td>\n      <td>None</td>\n      <td>None</td>\n      <td>IC50</td>\n      <td>nM</td>\n      <td>UO_0000065</td>\n      <td>None</td>\n      <td>2.024</td>\n    </tr>\n    <tr>\n      <th>2</th>\n      <td>None</td>\n      <td>251762</td>\n      <td>17634993</td>\n      <td>[]</td>\n      <td>CHEMBL3705170</td>\n      <td>Enzymatic Assay : This is a fluorometric assay...</td>\n      <td>B</td>\n      <td>None</td>\n      <td>None</td>\n      <td>BAO_0000190</td>\n      <td>...</td>\n      <td>Human immunodeficiency virus</td>\n      <td>HIV protease</td>\n      <td>12721</td>\n      <td>None</td>\n      <td>None</td>\n      <td>IC50</td>\n      <td>nM</td>\n      <td>UO_0000065</td>\n      <td>None</td>\n      <td>0.599</td>\n    </tr>\n    <tr>\n      <th>3</th>\n      <td>None</td>\n      <td>251763</td>\n      <td>17634994</td>\n      <td>[]</td>\n      <td>CHEMBL3705170</td>\n      <td>Enzymatic Assay : This is a fluorometric assay...</td>\n      <td>B</td>\n      <td>None</td>\n      <td>None</td>\n      <td>BAO_0000190</td>\n      <td>...</td>\n      <td>Human immunodeficiency virus</td>\n      <td>HIV protease</td>\n      <td>12721</td>\n      <td>None</td>\n      <td>None</td>\n      <td>IC50</td>\n      <td>nM</td>\n      <td>UO_0000065</td>\n      <td>None</td>\n      <td>0.6</td>\n    </tr>\n    <tr>\n      <th>4</th>\n      <td>None</td>\n      <td>251764</td>\n      <td>17634995</td>\n      <td>[]</td>\n      <td>CHEMBL3705170</td>\n      <td>Enzymatic Assay : This is a fluorometric assay...</td>\n      <td>B</td>\n      <td>None</td>\n      <td>None</td>\n      <td>BAO_0000190</td>\n      <td>...</td>\n      <td>Human immunodeficiency virus</td>\n      <td>HIV protease</td>\n      <td>12721</td>\n      <td>None</td>\n      <td>None</td>\n      <td>IC50</td>\n      <td>nM</td>\n      <td>UO_0000065</td>\n      <td>None</td>\n      <td>0.29</td>\n    </tr>\n    <tr>\n      <th>5</th>\n      <td>None</td>\n      <td>251765</td>\n      <td>17634996</td>\n      <td>[]</td>\n      <td>CHEMBL3705170</td>\n      <td>Enzymatic Assay : This is a fluorometric assay...</td>\n      <td>B</td>\n      <td>None</td>\n      <td>None</td>\n      <td>BAO_0000190</td>\n      <td>...</td>\n      <td>Human immunodeficiency virus</td>\n      <td>HIV protease</td>\n      <td>12721</td>\n      <td>None</td>\n      <td>None</td>\n      <td>IC50</td>\n      <td>nM</td>\n      <td>UO_0000065</td>\n      <td>None</td>\n      <td>1.417</td>\n    </tr>\n    <tr>\n      <th>6</th>\n      <td>None</td>\n      <td>251766</td>\n      <td>17634997</td>\n      <td>[]</td>\n      <td>CHEMBL3705170</td>\n      <td>Enzymatic Assay : This is a fluorometric assay...</td>\n      <td>B</td>\n      <td>None</td>\n      <td>None</td>\n      <td>BAO_0000190</td>\n      <td>...</td>\n      <td>Human immunodeficiency virus</td>\n      <td>HIV protease</td>\n      <td>12721</td>\n      <td>None</td>\n      <td>None</td>\n      <td>IC50</td>\n      <td>nM</td>\n      <td>UO_0000065</td>\n      <td>None</td>\n      <td>1.286</td>\n    </tr>\n    <tr>\n      <th>7</th>\n      <td>None</td>\n      <td>251767</td>\n      <td>17634998</td>\n      <td>[]</td>\n      <td>CHEMBL3705170</td>\n      <td>Enzymatic Assay : This is a fluorometric assay...</td>\n      <td>B</td>\n      <td>None</td>\n      <td>None</td>\n      <td>BAO_0000190</td>\n      <td>...</td>\n      <td>Human immunodeficiency virus</td>\n      <td>HIV protease</td>\n      <td>12721</td>\n      <td>None</td>\n      <td>None</td>\n      <td>IC50</td>\n      <td>nM</td>\n      <td>UO_0000065</td>\n      <td>None</td>\n      <td>1.353</td>\n    </tr>\n    <tr>\n      <th>8</th>\n      <td>None</td>\n      <td>251768</td>\n      <td>17634999</td>\n      <td>[]</td>\n      <td>CHEMBL3705170</td>\n      <td>Enzymatic Assay : This is a fluorometric assay...</td>\n      <td>B</td>\n      <td>None</td>\n      <td>None</td>\n      <td>BAO_0000190</td>\n      <td>...</td>\n      <td>Human immunodeficiency virus</td>\n      <td>HIV protease</td>\n      <td>12721</td>\n      <td>None</td>\n      <td>None</td>\n      <td>IC50</td>\n      <td>nM</td>\n      <td>UO_0000065</td>\n      <td>None</td>\n      <td>4.122</td>\n    </tr>\n    <tr>\n      <th>9</th>\n      <td>None</td>\n      <td>251769</td>\n      <td>17635000</td>\n      <td>[]</td>\n      <td>CHEMBL3705170</td>\n      <td>Enzymatic Assay : This is a fluorometric assay...</td>\n      <td>B</td>\n      <td>None</td>\n      <td>None</td>\n      <td>BAO_0000190</td>\n      <td>...</td>\n      <td>Human immunodeficiency virus</td>\n      <td>HIV protease</td>\n      <td>12721</td>\n      <td>None</td>\n      <td>None</td>\n      <td>IC50</td>\n      <td>nM</td>\n      <td>UO_0000065</td>\n      <td>None</td>\n      <td>5.212</td>\n    </tr>\n    <tr>\n      <th>10</th>\n      <td>None</td>\n      <td>251770</td>\n      <td>17635001</td>\n      <td>[]</td>\n      <td>CHEMBL3705170</td>\n      <td>Enzymatic Assay : This is a fluorometric assay...</td>\n      <td>B</td>\n      <td>None</td>\n      <td>None</td>\n      <td>BAO_0000190</td>\n      <td>...</td>\n      <td>Human immunodeficiency virus</td>\n      <td>HIV protease</td>\n      <td>12721</td>\n      <td>None</td>\n      <td>None</td>\n      <td>IC50</td>\n      <td>nM</td>\n      <td>UO_0000065</td>\n      <td>None</td>\n      <td>2.876</td>\n    </tr>\n    <tr>\n      <th>11</th>\n      <td>None</td>\n      <td>251771</td>\n      <td>17635002</td>\n      <td>[]</td>\n      <td>CHEMBL3705170</td>\n      <td>Enzymatic Assay : This is a fluorometric assay...</td>\n      <td>B</td>\n      <td>None</td>\n      <td>None</td>\n      <td>BAO_0000190</td>\n      <td>...</td>\n      <td>Human immunodeficiency virus</td>\n      <td>HIV protease</td>\n      <td>12721</td>\n      <td>None</td>\n      <td>None</td>\n      <td>IC50</td>\n      <td>nM</td>\n      <td>UO_0000065</td>\n      <td>None</td>\n      <td>3.314</td>\n    </tr>\n    <tr>\n      <th>12</th>\n      <td>None</td>\n      <td>251772</td>\n      <td>17635003</td>\n      <td>[]</td>\n      <td>CHEMBL3705170</td>\n      <td>Enzymatic Assay : This is a fluorometric assay...</td>\n      <td>B</td>\n      <td>None</td>\n      <td>None</td>\n      <td>BAO_0000190</td>\n      <td>...</td>\n      <td>Human immunodeficiency virus</td>\n      <td>HIV protease</td>\n      <td>12721</td>\n      <td>None</td>\n      <td>None</td>\n      <td>IC50</td>\n      <td>nM</td>\n      <td>UO_0000065</td>\n      <td>None</td>\n      <td>2.55</td>\n    </tr>\n    <tr>\n      <th>13</th>\n      <td>None</td>\n      <td>251773</td>\n      <td>17635004</td>\n      <td>[]</td>\n      <td>CHEMBL3705170</td>\n      <td>Enzymatic Assay : This is a fluorometric assay...</td>\n      <td>B</td>\n      <td>None</td>\n      <td>None</td>\n      <td>BAO_0000190</td>\n      <td>...</td>\n      <td>Human immunodeficiency virus</td>\n      <td>HIV protease</td>\n      <td>12721</td>\n      <td>None</td>\n      <td>None</td>\n      <td>IC50</td>\n      <td>nM</td>\n      <td>UO_0000065</td>\n      <td>None</td>\n      <td>3.81</td>\n    </tr>\n    <tr>\n      <th>14</th>\n      <td>None</td>\n      <td>251774</td>\n      <td>17635005</td>\n      <td>[]</td>\n      <td>CHEMBL3705170</td>\n      <td>Enzymatic Assay : This is a fluorometric assay...</td>\n      <td>B</td>\n      <td>None</td>\n      <td>None</td>\n      <td>BAO_0000190</td>\n      <td>...</td>\n      <td>Human immunodeficiency virus</td>\n      <td>HIV protease</td>\n      <td>12721</td>\n      <td>None</td>\n      <td>None</td>\n      <td>IC50</td>\n      <td>nM</td>\n      <td>UO_0000065</td>\n      <td>None</td>\n      <td>2.15</td>\n    </tr>\n    <tr>\n      <th>15</th>\n      <td>None</td>\n      <td>251775</td>\n      <td>17635006</td>\n      <td>[]</td>\n      <td>CHEMBL3705170</td>\n      <td>Enzymatic Assay : This is a fluorometric assay...</td>\n      <td>B</td>\n      <td>None</td>\n      <td>None</td>\n      <td>BAO_0000190</td>\n      <td>...</td>\n      <td>Human immunodeficiency virus</td>\n      <td>HIV protease</td>\n      <td>12721</td>\n      <td>None</td>\n      <td>None</td>\n      <td>IC50</td>\n      <td>nM</td>\n      <td>UO_0000065</td>\n      <td>None</td>\n      <td>3.659</td>\n    </tr>\n    <tr>\n      <th>16</th>\n      <td>None</td>\n      <td>251776</td>\n      <td>17635007</td>\n      <td>[]</td>\n      <td>CHEMBL3705170</td>\n      <td>Enzymatic Assay : This is a fluorometric assay...</td>\n      <td>B</td>\n      <td>None</td>\n      <td>None</td>\n      <td>BAO_0000190</td>\n      <td>...</td>\n      <td>Human immunodeficiency virus</td>\n      <td>HIV protease</td>\n      <td>12721</td>\n      <td>None</td>\n      <td>None</td>\n      <td>IC50</td>\n      <td>nM</td>\n      <td>UO_0000065</td>\n      <td>None</td>\n      <td>0.899</td>\n    </tr>\n    <tr>\n      <th>17</th>\n      <td>None</td>\n      <td>251777</td>\n      <td>17635008</td>\n      <td>[]</td>\n      <td>CHEMBL3705170</td>\n      <td>Enzymatic Assay : This is a fluorometric assay...</td>\n      <td>B</td>\n      <td>None</td>\n      <td>None</td>\n      <td>BAO_0000190</td>\n      <td>...</td>\n      <td>Human immunodeficiency virus</td>\n      <td>HIV protease</td>\n      <td>12721</td>\n      <td>None</td>\n      <td>None</td>\n      <td>IC50</td>\n      <td>nM</td>\n      <td>UO_0000065</td>\n      <td>None</td>\n      <td>0.963</td>\n    </tr>\n    <tr>\n      <th>18</th>\n      <td>None</td>\n      <td>251778</td>\n      <td>17635009</td>\n      <td>[]</td>\n      <td>CHEMBL3705170</td>\n      <td>Enzymatic Assay : This is a fluorometric assay...</td>\n      <td>B</td>\n      <td>None</td>\n      <td>None</td>\n      <td>BAO_0000190</td>\n      <td>...</td>\n      <td>Human immunodeficiency virus</td>\n      <td>HIV protease</td>\n      <td>12721</td>\n      <td>None</td>\n      <td>None</td>\n      <td>IC50</td>\n      <td>nM</td>\n      <td>UO_0000065</td>\n      <td>None</td>\n      <td>3.011</td>\n    </tr>\n    <tr>\n      <th>19</th>\n      <td>None</td>\n      <td>251779</td>\n      <td>17635010</td>\n      <td>[]</td>\n      <td>CHEMBL3705170</td>\n      <td>Enzymatic Assay : This is a fluorometric assay...</td>\n      <td>B</td>\n      <td>None</td>\n      <td>None</td>\n      <td>BAO_0000190</td>\n      <td>...</td>\n      <td>Human immunodeficiency virus</td>\n      <td>HIV protease</td>\n      <td>12721</td>\n      <td>None</td>\n      <td>None</td>\n      <td>IC50</td>\n      <td>nM</td>\n      <td>UO_0000065</td>\n      <td>None</td>\n      <td>0.503</td>\n    </tr>\n    <tr>\n      <th>20</th>\n      <td>None</td>\n      <td>251780</td>\n      <td>17635011</td>\n      <td>[]</td>\n      <td>CHEMBL3705170</td>\n      <td>Enzymatic Assay : This is a fluorometric assay...</td>\n      <td>B</td>\n      <td>None</td>\n      <td>None</td>\n      <td>BAO_0000190</td>\n      <td>...</td>\n      <td>Human immunodeficiency virus</td>\n      <td>HIV protease</td>\n      <td>12721</td>\n      <td>None</td>\n      <td>None</td>\n      <td>IC50</td>\n      <td>nM</td>\n      <td>UO_0000065</td>\n      <td>None</td>\n      <td>0.683</td>\n    </tr>\n    <tr>\n      <th>21</th>\n      <td>None</td>\n      <td>251781</td>\n      <td>17635012</td>\n      <td>[]</td>\n      <td>CHEMBL3705170</td>\n      <td>Enzymatic Assay : This is a fluorometric assay...</td>\n      <td>B</td>\n      <td>None</td>\n      <td>None</td>\n      <td>BAO_0000190</td>\n      <td>...</td>\n      <td>Human immunodeficiency virus</td>\n      <td>HIV protease</td>\n      <td>12721</td>\n      <td>None</td>\n      <td>None</td>\n      <td>IC50</td>\n      <td>nM</td>\n      <td>UO_0000065</td>\n      <td>None</td>\n      <td>0.92</td>\n    </tr>\n    <tr>\n      <th>22</th>\n      <td>None</td>\n      <td>251782</td>\n      <td>17635013</td>\n      <td>[]</td>\n      <td>CHEMBL3705170</td>\n      <td>Enzymatic Assay : This is a fluorometric assay...</td>\n      <td>B</td>\n      <td>None</td>\n      <td>None</td>\n      <td>BAO_0000190</td>\n      <td>...</td>\n      <td>Human immunodeficiency virus</td>\n      <td>HIV protease</td>\n      <td>12721</td>\n      <td>None</td>\n      <td>None</td>\n      <td>IC50</td>\n      <td>nM</td>\n      <td>UO_0000065</td>\n      <td>None</td>\n      <td>4.95</td>\n    </tr>\n    <tr>\n      <th>23</th>\n      <td>None</td>\n      <td>251783</td>\n      <td>17635014</td>\n      <td>[]</td>\n      <td>CHEMBL3705170</td>\n      <td>Enzymatic Assay : This is a fluorometric assay...</td>\n      <td>B</td>\n      <td>None</td>\n      <td>None</td>\n      <td>BAO_0000190</td>\n      <td>...</td>\n      <td>Human immunodeficiency virus</td>\n      <td>HIV protease</td>\n      <td>12721</td>\n      <td>None</td>\n      <td>None</td>\n      <td>IC50</td>\n      <td>nM</td>\n      <td>UO_0000065</td>\n      <td>None</td>\n      <td>0.878</td>\n    </tr>\n    <tr>\n      <th>24</th>\n      <td>None</td>\n      <td>251784</td>\n      <td>17635015</td>\n      <td>[]</td>\n      <td>CHEMBL3705170</td>\n      <td>Enzymatic Assay : This is a fluorometric assay...</td>\n      <td>B</td>\n      <td>None</td>\n      <td>None</td>\n      <td>BAO_0000190</td>\n      <td>...</td>\n      <td>Human immunodeficiency virus</td>\n      <td>HIV protease</td>\n      <td>12721</td>\n      <td>None</td>\n      <td>None</td>\n      <td>IC50</td>\n      <td>nM</td>\n      <td>UO_0000065</td>\n      <td>None</td>\n      <td>5.898</td>\n    </tr>\n    <tr>\n      <th>25</th>\n      <td>None</td>\n      <td>251785</td>\n      <td>17635016</td>\n      <td>[]</td>\n      <td>CHEMBL3705170</td>\n      <td>Enzymatic Assay : This is a fluorometric assay...</td>\n      <td>B</td>\n      <td>None</td>\n      <td>None</td>\n      <td>BAO_0000190</td>\n      <td>...</td>\n      <td>Human immunodeficiency virus</td>\n      <td>HIV protease</td>\n      <td>12721</td>\n      <td>None</td>\n      <td>None</td>\n      <td>IC50</td>\n      <td>nM</td>\n      <td>UO_0000065</td>\n      <td>None</td>\n      <td>0.601</td>\n    </tr>\n    <tr>\n      <th>26</th>\n      <td>None</td>\n      <td>251786</td>\n      <td>17635017</td>\n      <td>[]</td>\n      <td>CHEMBL3705170</td>\n      <td>Enzymatic Assay : This is a fluorometric assay...</td>\n      <td>B</td>\n      <td>None</td>\n      <td>None</td>\n      <td>BAO_0000190</td>\n      <td>...</td>\n      <td>Human immunodeficiency virus</td>\n      <td>HIV protease</td>\n      <td>12721</td>\n      <td>None</td>\n      <td>None</td>\n      <td>IC50</td>\n      <td>nM</td>\n      <td>UO_0000065</td>\n      <td>None</td>\n      <td>0.436</td>\n    </tr>\n    <tr>\n      <th>27</th>\n      <td>None</td>\n      <td>251787</td>\n      <td>17635018</td>\n      <td>[]</td>\n      <td>CHEMBL3705170</td>\n      <td>Enzymatic Assay : This is a fluorometric assay...</td>\n      <td>B</td>\n      <td>None</td>\n      <td>None</td>\n      <td>BAO_0000190</td>\n      <td>...</td>\n      <td>Human immunodeficiency virus</td>\n      <td>HIV protease</td>\n      <td>12721</td>\n      <td>None</td>\n      <td>None</td>\n      <td>IC50</td>\n      <td>nM</td>\n      <td>UO_0000065</td>\n      <td>None</td>\n      <td>0.465</td>\n    </tr>\n    <tr>\n      <th>28</th>\n      <td>None</td>\n      <td>251788</td>\n      <td>17635019</td>\n      <td>[]</td>\n      <td>CHEMBL3705170</td>\n      <td>Enzymatic Assay : This is a fluorometric assay...</td>\n      <td>B</td>\n      <td>None</td>\n      <td>None</td>\n      <td>BAO_0000190</td>\n      <td>...</td>\n      <td>Human immunodeficiency virus</td>\n      <td>HIV protease</td>\n      <td>12721</td>\n      <td>None</td>\n      <td>None</td>\n      <td>IC50</td>\n      <td>nM</td>\n      <td>UO_0000065</td>\n      <td>None</td>\n      <td>0.51</td>\n    </tr>\n    <tr>\n      <th>29</th>\n      <td>None</td>\n      <td>251789</td>\n      <td>17635020</td>\n      <td>[]</td>\n      <td>CHEMBL3705170</td>\n      <td>Enzymatic Assay : This is a fluorometric assay...</td>\n      <td>B</td>\n      <td>None</td>\n      <td>None</td>\n      <td>BAO_0000190</td>\n      <td>...</td>\n      <td>Human immunodeficiency virus</td>\n      <td>HIV protease</td>\n      <td>12721</td>\n      <td>None</td>\n      <td>None</td>\n      <td>IC50</td>\n      <td>nM</td>\n      <td>UO_0000065</td>\n      <td>None</td>\n      <td>0.938</td>\n    </tr>\n    <tr>\n      <th>30</th>\n      <td>None</td>\n      <td>251790</td>\n      <td>17635021</td>\n      <td>[]</td>\n      <td>CHEMBL3705170</td>\n      <td>Enzymatic Assay : This is a fluorometric assay...</td>\n      <td>B</td>\n      <td>None</td>\n      <td>None</td>\n      <td>BAO_0000190</td>\n      <td>...</td>\n      <td>Human immunodeficiency virus</td>\n      <td>HIV protease</td>\n      <td>12721</td>\n      <td>None</td>\n      <td>None</td>\n      <td>IC50</td>\n      <td>nM</td>\n      <td>UO_0000065</td>\n      <td>None</td>\n      <td>1.08</td>\n    </tr>\n    <tr>\n      <th>31</th>\n      <td>None</td>\n      <td>251791</td>\n      <td>17635022</td>\n      <td>[]</td>\n      <td>CHEMBL3705170</td>\n      <td>Enzymatic Assay : This is a fluorometric assay...</td>\n      <td>B</td>\n      <td>None</td>\n      <td>None</td>\n      <td>BAO_0000190</td>\n      <td>...</td>\n      <td>Human immunodeficiency virus</td>\n      <td>HIV protease</td>\n      <td>12721</td>\n      <td>None</td>\n      <td>None</td>\n      <td>IC50</td>\n      <td>nM</td>\n      <td>UO_0000065</td>\n      <td>None</td>\n      <td>1.007</td>\n    </tr>\n    <tr>\n      <th>32</th>\n      <td>None</td>\n      <td>251792</td>\n      <td>17635023</td>\n      <td>[]</td>\n      <td>CHEMBL3705170</td>\n      <td>Enzymatic Assay : This is a fluorometric assay...</td>\n      <td>B</td>\n      <td>None</td>\n      <td>None</td>\n      <td>BAO_0000190</td>\n      <td>...</td>\n      <td>Human immunodeficiency virus</td>\n      <td>HIV protease</td>\n      <td>12721</td>\n      <td>None</td>\n      <td>None</td>\n      <td>IC50</td>\n      <td>nM</td>\n      <td>UO_0000065</td>\n      <td>None</td>\n      <td>0.58</td>\n    </tr>\n    <tr>\n      <th>33</th>\n      <td>None</td>\n      <td>251793</td>\n      <td>17635024</td>\n      <td>[]</td>\n      <td>CHEMBL3705170</td>\n      <td>Enzymatic Assay : This is a fluorometric assay...</td>\n      <td>B</td>\n      <td>None</td>\n      <td>None</td>\n      <td>BAO_0000190</td>\n      <td>...</td>\n      <td>Human immunodeficiency virus</td>\n      <td>HIV protease</td>\n      <td>12721</td>\n      <td>None</td>\n      <td>None</td>\n      <td>IC50</td>\n      <td>nM</td>\n      <td>UO_0000065</td>\n      <td>None</td>\n      <td>0.567</td>\n    </tr>\n    <tr>\n      <th>34</th>\n      <td>None</td>\n      <td>251794</td>\n      <td>17635025</td>\n      <td>[]</td>\n      <td>CHEMBL3705170</td>\n      <td>Enzymatic Assay : This is a fluorometric assay...</td>\n      <td>B</td>\n      <td>None</td>\n      <td>None</td>\n      <td>BAO_0000190</td>\n      <td>...</td>\n      <td>Human immunodeficiency virus</td>\n      <td>HIV protease</td>\n      <td>12721</td>\n      <td>None</td>\n      <td>None</td>\n      <td>IC50</td>\n      <td>nM</td>\n      <td>UO_0000065</td>\n      <td>None</td>\n      <td>0.336</td>\n    </tr>\n    <tr>\n      <th>35</th>\n      <td>None</td>\n      <td>251795</td>\n      <td>17635026</td>\n      <td>[]</td>\n      <td>CHEMBL3705170</td>\n      <td>Enzymatic Assay : This is a fluorometric assay...</td>\n      <td>B</td>\n      <td>None</td>\n      <td>None</td>\n      <td>BAO_0000190</td>\n      <td>...</td>\n      <td>Human immunodeficiency virus</td>\n      <td>HIV protease</td>\n      <td>12721</td>\n      <td>None</td>\n      <td>None</td>\n      <td>IC50</td>\n      <td>nM</td>\n      <td>UO_0000065</td>\n      <td>None</td>\n      <td>0.618</td>\n    </tr>\n    <tr>\n      <th>36</th>\n      <td>None</td>\n      <td>251796</td>\n      <td>17635027</td>\n      <td>[]</td>\n      <td>CHEMBL3705170</td>\n      <td>Enzymatic Assay : This is a fluorometric assay...</td>\n      <td>B</td>\n      <td>None</td>\n      <td>None</td>\n      <td>BAO_0000190</td>\n      <td>...</td>\n      <td>Human immunodeficiency virus</td>\n      <td>HIV protease</td>\n      <td>12721</td>\n      <td>None</td>\n      <td>None</td>\n      <td>IC50</td>\n      <td>nM</td>\n      <td>UO_0000065</td>\n      <td>None</td>\n      <td>0.836</td>\n    </tr>\n    <tr>\n      <th>37</th>\n      <td>None</td>\n      <td>251797</td>\n      <td>17635028</td>\n      <td>[]</td>\n      <td>CHEMBL3705170</td>\n      <td>Enzymatic Assay : This is a fluorometric assay...</td>\n      <td>B</td>\n      <td>None</td>\n      <td>None</td>\n      <td>BAO_0000190</td>\n      <td>...</td>\n      <td>Human immunodeficiency virus</td>\n      <td>HIV protease</td>\n      <td>12721</td>\n      <td>None</td>\n      <td>None</td>\n      <td>IC50</td>\n      <td>nM</td>\n      <td>UO_0000065</td>\n      <td>None</td>\n      <td>0.471</td>\n    </tr>\n    <tr>\n      <th>38</th>\n      <td>None</td>\n      <td>251798</td>\n      <td>17635029</td>\n      <td>[]</td>\n      <td>CHEMBL3705170</td>\n      <td>Enzymatic Assay : This is a fluorometric assay...</td>\n      <td>B</td>\n      <td>None</td>\n      <td>None</td>\n      <td>BAO_0000190</td>\n      <td>...</td>\n      <td>Human immunodeficiency virus</td>\n      <td>HIV protease</td>\n      <td>12721</td>\n      <td>None</td>\n      <td>None</td>\n      <td>IC50</td>\n      <td>nM</td>\n      <td>UO_0000065</td>\n      <td>None</td>\n      <td>0.615</td>\n    </tr>\n    <tr>\n      <th>39</th>\n      <td>None</td>\n      <td>251799</td>\n      <td>17635030</td>\n      <td>[]</td>\n      <td>CHEMBL3705170</td>\n      <td>Enzymatic Assay : This is a fluorometric assay...</td>\n      <td>B</td>\n      <td>None</td>\n      <td>None</td>\n      <td>BAO_0000190</td>\n      <td>...</td>\n      <td>Human immunodeficiency virus</td>\n      <td>HIV protease</td>\n      <td>12721</td>\n      <td>None</td>\n      <td>None</td>\n      <td>IC50</td>\n      <td>nM</td>\n      <td>UO_0000065</td>\n      <td>None</td>\n      <td>0.372</td>\n    </tr>\n    <tr>\n      <th>40</th>\n      <td>None</td>\n      <td>251800</td>\n      <td>17635031</td>\n      <td>[]</td>\n      <td>CHEMBL3705170</td>\n      <td>Enzymatic Assay : This is a fluorometric assay...</td>\n      <td>B</td>\n      <td>None</td>\n      <td>None</td>\n      <td>BAO_0000190</td>\n      <td>...</td>\n      <td>Human immunodeficiency virus</td>\n      <td>HIV protease</td>\n      <td>12721</td>\n      <td>None</td>\n      <td>None</td>\n      <td>IC50</td>\n      <td>nM</td>\n      <td>UO_0000065</td>\n      <td>None</td>\n      <td>0.652</td>\n    </tr>\n    <tr>\n      <th>41</th>\n      <td>None</td>\n      <td>251801</td>\n      <td>17635032</td>\n      <td>[]</td>\n      <td>CHEMBL3705170</td>\n      <td>Enzymatic Assay : This is a fluorometric assay...</td>\n      <td>B</td>\n      <td>None</td>\n      <td>None</td>\n      <td>BAO_0000190</td>\n      <td>...</td>\n      <td>Human immunodeficiency virus</td>\n      <td>HIV protease</td>\n      <td>12721</td>\n      <td>None</td>\n      <td>None</td>\n      <td>IC50</td>\n      <td>nM</td>\n      <td>UO_0000065</td>\n      <td>None</td>\n      <td>0.507</td>\n    </tr>\n    <tr>\n      <th>42</th>\n      <td>None</td>\n      <td>251802</td>\n      <td>17635033</td>\n      <td>[]</td>\n      <td>CHEMBL3705170</td>\n      <td>Enzymatic Assay : This is a fluorometric assay...</td>\n      <td>B</td>\n      <td>None</td>\n      <td>None</td>\n      <td>BAO_0000190</td>\n      <td>...</td>\n      <td>Human immunodeficiency virus</td>\n      <td>HIV protease</td>\n      <td>12721</td>\n      <td>None</td>\n      <td>None</td>\n      <td>IC50</td>\n      <td>nM</td>\n      <td>UO_0000065</td>\n      <td>None</td>\n      <td>1.073</td>\n    </tr>\n    <tr>\n      <th>43</th>\n      <td>None</td>\n      <td>251803</td>\n      <td>17635034</td>\n      <td>[]</td>\n      <td>CHEMBL3705170</td>\n      <td>Enzymatic Assay : This is a fluorometric assay...</td>\n      <td>B</td>\n      <td>None</td>\n      <td>None</td>\n      <td>BAO_0000190</td>\n      <td>...</td>\n      <td>Human immunodeficiency virus</td>\n      <td>HIV protease</td>\n      <td>12721</td>\n      <td>None</td>\n      <td>None</td>\n      <td>IC50</td>\n      <td>nM</td>\n      <td>UO_0000065</td>\n      <td>None</td>\n      <td>0.58</td>\n    </tr>\n  </tbody>\n</table>\n<p>44 rows × 46 columns</p>\n</div>"
          },
          "metadata": {}
        }
      ],
      "execution_count": 6
    },
    {
      "cell_type": "code",
      "source": "# Target Id 4: C-C chemokine receptor type 5 (CCR5)\nselected_target = targets.target_chembl_id[4]\nselected_target\nactivity = new_client.activity\nres = activity.filter(target_chembl_id=selected_target).filter(standard_type=\"IC50\")\ndf_ccr5 = pd.DataFrame.from_dict(res)\ndf_ccr5",
      "metadata": {
        "source_hash": "714f1e86",
        "execution_start": 1690090431115,
        "execution_millis": 28480,
        "deepnote_to_be_reexecuted": false,
        "cell_id": "c23cb6255f6446c9b4c520b2272b9dbc",
        "deepnote_cell_type": "code"
      },
      "outputs": [
        {
          "output_type": "error",
          "ename": "KeyboardInterrupt",
          "evalue": "",
          "traceback": [
            "\u001b[0;31m---------------------------------------------------------------------------\u001b[0m",
            "\u001b[0;31mKeyboardInterrupt\u001b[0m                         Traceback (most recent call last)",
            "Cell \u001b[0;32mIn [7], line 6\u001b[0m\n\u001b[1;32m      4\u001b[0m activity \u001b[38;5;241m=\u001b[39m new_client\u001b[38;5;241m.\u001b[39mactivity\n\u001b[1;32m      5\u001b[0m res \u001b[38;5;241m=\u001b[39m activity\u001b[38;5;241m.\u001b[39mfilter(target_chembl_id\u001b[38;5;241m=\u001b[39mselected_target)\u001b[38;5;241m.\u001b[39mfilter(standard_type\u001b[38;5;241m=\u001b[39m\u001b[38;5;124m\"\u001b[39m\u001b[38;5;124mIC50\u001b[39m\u001b[38;5;124m\"\u001b[39m)\n\u001b[0;32m----> 6\u001b[0m df_ccr5 \u001b[38;5;241m=\u001b[39m \u001b[43mpd\u001b[49m\u001b[38;5;241;43m.\u001b[39;49m\u001b[43mDataFrame\u001b[49m\u001b[38;5;241;43m.\u001b[39;49m\u001b[43mfrom_dict\u001b[49m\u001b[43m(\u001b[49m\u001b[43mres\u001b[49m\u001b[43m)\u001b[49m\n\u001b[1;32m      7\u001b[0m df_ccr5\n",
            "File \u001b[0;32m/shared-libs/python3.9/py/lib/python3.9/site-packages/pandas/core/frame.py:1373\u001b[0m, in \u001b[0;36mDataFrame.from_dict\u001b[0;34m(cls, data, orient, dtype, columns)\u001b[0m\n\u001b[1;32m   1370\u001b[0m \u001b[38;5;28;01melse\u001b[39;00m:  \u001b[38;5;66;03m# pragma: no cover\u001b[39;00m\n\u001b[1;32m   1371\u001b[0m     \u001b[38;5;28;01mraise\u001b[39;00m \u001b[38;5;167;01mValueError\u001b[39;00m(\u001b[38;5;124m\"\u001b[39m\u001b[38;5;124monly recognize index or columns for orient\u001b[39m\u001b[38;5;124m\"\u001b[39m)\n\u001b[0;32m-> 1373\u001b[0m \u001b[38;5;28;01mreturn\u001b[39;00m \u001b[38;5;28;43mcls\u001b[39;49m\u001b[43m(\u001b[49m\u001b[43mdata\u001b[49m\u001b[43m,\u001b[49m\u001b[43m \u001b[49m\u001b[43mindex\u001b[49m\u001b[38;5;241;43m=\u001b[39;49m\u001b[43mindex\u001b[49m\u001b[43m,\u001b[49m\u001b[43m \u001b[49m\u001b[43mcolumns\u001b[49m\u001b[38;5;241;43m=\u001b[39;49m\u001b[43mcolumns\u001b[49m\u001b[43m,\u001b[49m\u001b[43m \u001b[49m\u001b[43mdtype\u001b[49m\u001b[38;5;241;43m=\u001b[39;49m\u001b[43mdtype\u001b[49m\u001b[43m)\u001b[49m\n",
            "File \u001b[0;32m/shared-libs/python3.9/py/lib/python3.9/site-packages/pandas/core/frame.py:563\u001b[0m, in \u001b[0;36mDataFrame.__init__\u001b[0;34m(self, data, index, columns, dtype, copy)\u001b[0m\n\u001b[1;32m    561\u001b[0m \u001b[38;5;28;01melif\u001b[39;00m \u001b[38;5;28misinstance\u001b[39m(data, abc\u001b[38;5;241m.\u001b[39mIterable) \u001b[38;5;129;01mand\u001b[39;00m \u001b[38;5;129;01mnot\u001b[39;00m \u001b[38;5;28misinstance\u001b[39m(data, (\u001b[38;5;28mstr\u001b[39m, \u001b[38;5;28mbytes\u001b[39m)):\n\u001b[1;32m    562\u001b[0m     \u001b[38;5;28;01mif\u001b[39;00m \u001b[38;5;129;01mnot\u001b[39;00m \u001b[38;5;28misinstance\u001b[39m(data, (abc\u001b[38;5;241m.\u001b[39mSequence, ExtensionArray)):\n\u001b[0;32m--> 563\u001b[0m         data \u001b[38;5;241m=\u001b[39m \u001b[38;5;28;43mlist\u001b[39;49m\u001b[43m(\u001b[49m\u001b[43mdata\u001b[49m\u001b[43m)\u001b[49m\n\u001b[1;32m    564\u001b[0m     \u001b[38;5;28;01mif\u001b[39;00m \u001b[38;5;28mlen\u001b[39m(data) \u001b[38;5;241m>\u001b[39m \u001b[38;5;241m0\u001b[39m:\n\u001b[1;32m    565\u001b[0m         \u001b[38;5;28;01mif\u001b[39;00m is_dataclass(data[\u001b[38;5;241m0\u001b[39m]):\n",
            "File \u001b[0;32m~/venv/lib/python3.9/site-packages/chembl_webresource_client/query_set.py:127\u001b[0m, in \u001b[0;36mQuerySet.__next__\u001b[0;34m(self)\u001b[0m\n\u001b[1;32m    126\u001b[0m \u001b[38;5;28;01mdef\u001b[39;00m \u001b[38;5;21m__next__\u001b[39m(\u001b[38;5;28mself\u001b[39m):\n\u001b[0;32m--> 127\u001b[0m     \u001b[38;5;28;01mreturn\u001b[39;00m \u001b[38;5;28;43mself\u001b[39;49m\u001b[38;5;241;43m.\u001b[39;49m\u001b[43mnext\u001b[49m\u001b[43m(\u001b[49m\u001b[43m)\u001b[49m\n",
            "File \u001b[0;32m~/venv/lib/python3.9/site-packages/chembl_webresource_client/query_set.py:115\u001b[0m, in \u001b[0;36mQuerySet.next\u001b[0;34m(self)\u001b[0m\n\u001b[1;32m    113\u001b[0m     \u001b[38;5;28mself\u001b[39m\u001b[38;5;241m.\u001b[39mchunk \u001b[38;5;241m=\u001b[39m \u001b[38;5;28mself\u001b[39m\u001b[38;5;241m.\u001b[39mquery\u001b[38;5;241m.\u001b[39mget_page()\n\u001b[1;32m    114\u001b[0m \u001b[38;5;28;01mif\u001b[39;00m \u001b[38;5;129;01mnot\u001b[39;00m \u001b[38;5;28mself\u001b[39m\u001b[38;5;241m.\u001b[39mchunk \u001b[38;5;129;01mor\u001b[39;00m \u001b[38;5;28mself\u001b[39m\u001b[38;5;241m.\u001b[39mcurrent_index \u001b[38;5;241m>\u001b[39m\u001b[38;5;241m=\u001b[39m \u001b[38;5;28mlen\u001b[39m(\u001b[38;5;28mself\u001b[39m\u001b[38;5;241m.\u001b[39mchunk):\n\u001b[0;32m--> 115\u001b[0m     \u001b[38;5;28mself\u001b[39m\u001b[38;5;241m.\u001b[39mchunk \u001b[38;5;241m=\u001b[39m \u001b[38;5;28;43mself\u001b[39;49m\u001b[38;5;241;43m.\u001b[39;49m\u001b[43mquery\u001b[49m\u001b[38;5;241;43m.\u001b[39;49m\u001b[43mnext_page\u001b[49m\u001b[43m(\u001b[49m\u001b[43m)\u001b[49m\n\u001b[1;32m    116\u001b[0m     \u001b[38;5;28;01mif\u001b[39;00m \u001b[38;5;129;01mnot\u001b[39;00m \u001b[38;5;28mself\u001b[39m\u001b[38;5;241m.\u001b[39mchunk:\n\u001b[1;32m    117\u001b[0m         \u001b[38;5;28;01mraise\u001b[39;00m \u001b[38;5;167;01mStopIteration\u001b[39;00m\n",
            "File \u001b[0;32m~/venv/lib/python3.9/site-packages/chembl_webresource_client/url_query.py:434\u001b[0m, in \u001b[0;36mUrlQuery.next_page\u001b[0;34m(self)\u001b[0m\n\u001b[1;32m    432\u001b[0m start \u001b[38;5;241m=\u001b[39m \u001b[38;5;28mself\u001b[39m\u001b[38;5;241m.\u001b[39mstart\n\u001b[1;32m    433\u001b[0m \u001b[38;5;28mself\u001b[39m\u001b[38;5;241m.\u001b[39mcurrent_index \u001b[38;5;241m=\u001b[39m \u001b[38;5;28mint\u001b[39m(start \u001b[38;5;241m+\u001b[39m \u001b[38;5;28mself\u001b[39m\u001b[38;5;241m.\u001b[39mlimit \u001b[38;5;241m*\u001b[39m (\u001b[38;5;28mself\u001b[39m\u001b[38;5;241m.\u001b[39mcurrent_page \u001b[38;5;241m+\u001b[39m \u001b[38;5;241m1\u001b[39m))\n\u001b[0;32m--> 434\u001b[0m \u001b[38;5;28;01mreturn\u001b[39;00m \u001b[38;5;28;43mself\u001b[39;49m\u001b[38;5;241;43m.\u001b[39;49m\u001b[43mget_page\u001b[49m\u001b[43m(\u001b[49m\u001b[43m)\u001b[49m\n",
            "File \u001b[0;32m~/venv/lib/python3.9/site-packages/chembl_webresource_client/url_query.py:389\u001b[0m, in \u001b[0;36mUrlQuery.get_page\u001b[0;34m(self)\u001b[0m\n\u001b[1;32m    387\u001b[0m data \u001b[38;5;241m=\u001b[39m \u001b[38;5;28mself\u001b[39m\u001b[38;5;241m.\u001b[39m_prepare_url_params()\n\u001b[1;32m    388\u001b[0m \u001b[38;5;28;01mwith\u001b[39;00m \u001b[38;5;28mself\u001b[39m\u001b[38;5;241m.\u001b[39m_get_session() \u001b[38;5;28;01mas\u001b[39;00m session:\n\u001b[0;32m--> 389\u001b[0m     res \u001b[38;5;241m=\u001b[39m \u001b[43msession\u001b[49m\u001b[38;5;241;43m.\u001b[39;49m\u001b[43mpost\u001b[49m\u001b[43m(\u001b[49m\u001b[38;5;28;43mself\u001b[39;49m\u001b[38;5;241;43m.\u001b[39;49m\u001b[43mbase_url\u001b[49m\u001b[43m \u001b[49m\u001b[38;5;241;43m+\u001b[39;49m\u001b[43m \u001b[49m\u001b[38;5;124;43m'\u001b[39;49m\u001b[38;5;124;43m.\u001b[39;49m\u001b[38;5;124;43m'\u001b[39;49m\u001b[43m \u001b[49m\u001b[38;5;241;43m+\u001b[39;49m\u001b[43m \u001b[49m\u001b[38;5;28;43mself\u001b[39;49m\u001b[38;5;241;43m.\u001b[39;49m\u001b[43mfrmt\u001b[49m\u001b[43m,\u001b[49m\u001b[43m \u001b[49m\u001b[43mjson\u001b[49m\u001b[38;5;241;43m=\u001b[39;49m\u001b[43mdata\u001b[49m\u001b[43m,\u001b[49m\u001b[43m \u001b[49m\u001b[43mtimeout\u001b[49m\u001b[38;5;241;43m=\u001b[39;49m\u001b[38;5;28;43mself\u001b[39;49m\u001b[38;5;241;43m.\u001b[39;49m\u001b[43mtimeout\u001b[49m\u001b[43m)\u001b[49m\n\u001b[1;32m    390\u001b[0m \u001b[38;5;28mself\u001b[39m\u001b[38;5;241m.\u001b[39mlogger\u001b[38;5;241m.\u001b[39minfo(res\u001b[38;5;241m.\u001b[39murl)\n\u001b[1;32m    391\u001b[0m \u001b[38;5;28mself\u001b[39m\u001b[38;5;241m.\u001b[39mlogger\u001b[38;5;241m.\u001b[39minfo(data)\n",
            "File \u001b[0;32m/shared-libs/python3.9/py/lib/python3.9/site-packages/requests/sessions.py:635\u001b[0m, in \u001b[0;36mSession.post\u001b[0;34m(self, url, data, json, **kwargs)\u001b[0m\n\u001b[1;32m    624\u001b[0m \u001b[38;5;28;01mdef\u001b[39;00m \u001b[38;5;21mpost\u001b[39m(\u001b[38;5;28mself\u001b[39m, url, data\u001b[38;5;241m=\u001b[39m\u001b[38;5;28;01mNone\u001b[39;00m, json\u001b[38;5;241m=\u001b[39m\u001b[38;5;28;01mNone\u001b[39;00m, \u001b[38;5;241m*\u001b[39m\u001b[38;5;241m*\u001b[39mkwargs):\n\u001b[1;32m    625\u001b[0m     \u001b[38;5;124mr\u001b[39m\u001b[38;5;124;03m\"\"\"Sends a POST request. Returns :class:`Response` object.\u001b[39;00m\n\u001b[1;32m    626\u001b[0m \n\u001b[1;32m    627\u001b[0m \u001b[38;5;124;03m    :param url: URL for the new :class:`Request` object.\u001b[39;00m\n\u001b[0;32m   (...)\u001b[0m\n\u001b[1;32m    632\u001b[0m \u001b[38;5;124;03m    :rtype: requests.Response\u001b[39;00m\n\u001b[1;32m    633\u001b[0m \u001b[38;5;124;03m    \"\"\"\u001b[39;00m\n\u001b[0;32m--> 635\u001b[0m     \u001b[38;5;28;01mreturn\u001b[39;00m \u001b[38;5;28;43mself\u001b[39;49m\u001b[38;5;241;43m.\u001b[39;49m\u001b[43mrequest\u001b[49m\u001b[43m(\u001b[49m\u001b[38;5;124;43m\"\u001b[39;49m\u001b[38;5;124;43mPOST\u001b[39;49m\u001b[38;5;124;43m\"\u001b[39;49m\u001b[43m,\u001b[49m\u001b[43m \u001b[49m\u001b[43murl\u001b[49m\u001b[43m,\u001b[49m\u001b[43m \u001b[49m\u001b[43mdata\u001b[49m\u001b[38;5;241;43m=\u001b[39;49m\u001b[43mdata\u001b[49m\u001b[43m,\u001b[49m\u001b[43m \u001b[49m\u001b[43mjson\u001b[49m\u001b[38;5;241;43m=\u001b[39;49m\u001b[43mjson\u001b[49m\u001b[43m,\u001b[49m\u001b[43m \u001b[49m\u001b[38;5;241;43m*\u001b[39;49m\u001b[38;5;241;43m*\u001b[39;49m\u001b[43mkwargs\u001b[49m\u001b[43m)\u001b[49m\n",
            "File \u001b[0;32m~/venv/lib/python3.9/site-packages/requests_cache/session.py:101\u001b[0m, in \u001b[0;36mCacheMixin.request\u001b[0;34m(self, method, url, params, data, json, expire_after, **kwargs)\u001b[0m\n\u001b[1;32m     73\u001b[0m \u001b[38;5;124;03m\"\"\"This method prepares and sends a request while automatically performing any necessary\u001b[39;00m\n\u001b[1;32m     74\u001b[0m \u001b[38;5;124;03mcaching operations. This will be called by any other method-specific ``requests`` functions\u001b[39;00m\n\u001b[1;32m     75\u001b[0m \u001b[38;5;124;03m(get, post, etc.). This does not include prepared requests, which will still be cached via\u001b[39;00m\n\u001b[0;32m   (...)\u001b[0m\n\u001b[1;32m     98\u001b[0m \n\u001b[1;32m     99\u001b[0m \u001b[38;5;124;03m\"\"\"\u001b[39;00m\n\u001b[1;32m    100\u001b[0m \u001b[38;5;28;01mwith\u001b[39;00m \u001b[38;5;28mself\u001b[39m\u001b[38;5;241m.\u001b[39mrequest_expire_after(expire_after), patch_form_boundary(\u001b[38;5;241m*\u001b[39m\u001b[38;5;241m*\u001b[39mkwargs):\n\u001b[0;32m--> 101\u001b[0m     \u001b[38;5;28;01mreturn\u001b[39;00m \u001b[38;5;28;43msuper\u001b[39;49m\u001b[43m(\u001b[49m\u001b[43m)\u001b[49m\u001b[38;5;241;43m.\u001b[39;49m\u001b[43mrequest\u001b[49m\u001b[43m(\u001b[49m\n\u001b[1;32m    102\u001b[0m \u001b[43m        \u001b[49m\u001b[43mmethod\u001b[49m\u001b[43m,\u001b[49m\n\u001b[1;32m    103\u001b[0m \u001b[43m        \u001b[49m\u001b[43murl\u001b[49m\u001b[43m,\u001b[49m\n\u001b[1;32m    104\u001b[0m \u001b[43m        \u001b[49m\u001b[43mparams\u001b[49m\u001b[38;5;241;43m=\u001b[39;49m\u001b[43mnormalize_dict\u001b[49m\u001b[43m(\u001b[49m\u001b[43mparams\u001b[49m\u001b[43m)\u001b[49m\u001b[43m,\u001b[49m\n\u001b[1;32m    105\u001b[0m \u001b[43m        \u001b[49m\u001b[43mdata\u001b[49m\u001b[38;5;241;43m=\u001b[39;49m\u001b[43mnormalize_dict\u001b[49m\u001b[43m(\u001b[49m\u001b[43mdata\u001b[49m\u001b[43m)\u001b[49m\u001b[43m,\u001b[49m\n\u001b[1;32m    106\u001b[0m \u001b[43m        \u001b[49m\u001b[43mjson\u001b[49m\u001b[38;5;241;43m=\u001b[39;49m\u001b[43mnormalize_dict\u001b[49m\u001b[43m(\u001b[49m\u001b[43mjson\u001b[49m\u001b[43m)\u001b[49m\u001b[43m,\u001b[49m\n\u001b[1;32m    107\u001b[0m \u001b[43m        \u001b[49m\u001b[38;5;241;43m*\u001b[39;49m\u001b[38;5;241;43m*\u001b[39;49m\u001b[43mkwargs\u001b[49m\u001b[43m,\u001b[49m\n\u001b[1;32m    108\u001b[0m \u001b[43m    \u001b[49m\u001b[43m)\u001b[49m\n",
            "File \u001b[0;32m/shared-libs/python3.9/py/lib/python3.9/site-packages/requests/sessions.py:587\u001b[0m, in \u001b[0;36mSession.request\u001b[0;34m(self, method, url, params, data, headers, cookies, files, auth, timeout, allow_redirects, proxies, hooks, stream, verify, cert, json)\u001b[0m\n\u001b[1;32m    582\u001b[0m send_kwargs \u001b[38;5;241m=\u001b[39m {\n\u001b[1;32m    583\u001b[0m     \u001b[38;5;124m\"\u001b[39m\u001b[38;5;124mtimeout\u001b[39m\u001b[38;5;124m\"\u001b[39m: timeout,\n\u001b[1;32m    584\u001b[0m     \u001b[38;5;124m\"\u001b[39m\u001b[38;5;124mallow_redirects\u001b[39m\u001b[38;5;124m\"\u001b[39m: allow_redirects,\n\u001b[1;32m    585\u001b[0m }\n\u001b[1;32m    586\u001b[0m send_kwargs\u001b[38;5;241m.\u001b[39mupdate(settings)\n\u001b[0;32m--> 587\u001b[0m resp \u001b[38;5;241m=\u001b[39m \u001b[38;5;28;43mself\u001b[39;49m\u001b[38;5;241;43m.\u001b[39;49m\u001b[43msend\u001b[49m\u001b[43m(\u001b[49m\u001b[43mprep\u001b[49m\u001b[43m,\u001b[49m\u001b[43m \u001b[49m\u001b[38;5;241;43m*\u001b[39;49m\u001b[38;5;241;43m*\u001b[39;49m\u001b[43msend_kwargs\u001b[49m\u001b[43m)\u001b[49m\n\u001b[1;32m    589\u001b[0m \u001b[38;5;28;01mreturn\u001b[39;00m resp\n",
            "File \u001b[0;32m~/venv/lib/python3.9/site-packages/requests_cache/session.py:132\u001b[0m, in \u001b[0;36mCacheMixin.send\u001b[0;34m(self, request, **kwargs)\u001b[0m\n\u001b[1;32m    130\u001b[0m \u001b[38;5;66;03m# If the cache is disabled, doesn't have the response, or it's expired, then fetch a new one\u001b[39;00m\n\u001b[1;32m    131\u001b[0m \u001b[38;5;28;01mif\u001b[39;00m response \u001b[38;5;129;01mis\u001b[39;00m \u001b[38;5;28;01mNone\u001b[39;00m:\n\u001b[0;32m--> 132\u001b[0m     response \u001b[38;5;241m=\u001b[39m \u001b[38;5;28;43mself\u001b[39;49m\u001b[38;5;241;43m.\u001b[39;49m\u001b[43m_send_and_cache\u001b[49m\u001b[43m(\u001b[49m\u001b[43mrequest\u001b[49m\u001b[43m,\u001b[49m\u001b[43m \u001b[49m\u001b[43mactions\u001b[49m\u001b[43m,\u001b[49m\u001b[43m \u001b[49m\u001b[38;5;241;43m*\u001b[39;49m\u001b[38;5;241;43m*\u001b[39;49m\u001b[43mkwargs\u001b[49m\u001b[43m)\u001b[49m\n\u001b[1;32m    133\u001b[0m \u001b[38;5;28;01melif\u001b[39;00m is_expired \u001b[38;5;129;01mand\u001b[39;00m \u001b[38;5;28mself\u001b[39m\u001b[38;5;241m.\u001b[39mold_data_on_error:\n\u001b[1;32m    134\u001b[0m     response \u001b[38;5;241m=\u001b[39m \u001b[38;5;28mself\u001b[39m\u001b[38;5;241m.\u001b[39m_resend_and_ignore(request, actions, \u001b[38;5;241m*\u001b[39m\u001b[38;5;241m*\u001b[39mkwargs) \u001b[38;5;129;01mor\u001b[39;00m response\n",
            "File \u001b[0;32m~/venv/lib/python3.9/site-packages/requests_cache/session.py:156\u001b[0m, in \u001b[0;36mCacheMixin._send_and_cache\u001b[0;34m(self, request, actions, **kwargs)\u001b[0m\n\u001b[1;32m    154\u001b[0m \u001b[38;5;28;01mdef\u001b[39;00m \u001b[38;5;21m_send_and_cache\u001b[39m(\u001b[38;5;28mself\u001b[39m, request: PreparedRequest, actions: CacheActions, \u001b[38;5;241m*\u001b[39m\u001b[38;5;241m*\u001b[39mkwargs):\n\u001b[1;32m    155\u001b[0m     \u001b[38;5;124;03m\"\"\"Send the request and cache the response, unless disabled by settings or headers\"\"\"\u001b[39;00m\n\u001b[0;32m--> 156\u001b[0m     response \u001b[38;5;241m=\u001b[39m \u001b[38;5;28;43msuper\u001b[39;49m\u001b[43m(\u001b[49m\u001b[43m)\u001b[49m\u001b[38;5;241;43m.\u001b[39;49m\u001b[43msend\u001b[49m\u001b[43m(\u001b[49m\u001b[43mrequest\u001b[49m\u001b[43m,\u001b[49m\u001b[43m \u001b[49m\u001b[38;5;241;43m*\u001b[39;49m\u001b[38;5;241;43m*\u001b[39;49m\u001b[43mkwargs\u001b[49m\u001b[43m)\u001b[49m\n\u001b[1;32m    157\u001b[0m     actions\u001b[38;5;241m.\u001b[39mupdate_from_response(response)\n\u001b[1;32m    159\u001b[0m     \u001b[38;5;28;01mif\u001b[39;00m \u001b[38;5;28mself\u001b[39m\u001b[38;5;241m.\u001b[39m_is_cacheable(response, actions):\n",
            "File \u001b[0;32m/shared-libs/python3.9/py/lib/python3.9/site-packages/requests/sessions.py:745\u001b[0m, in \u001b[0;36mSession.send\u001b[0;34m(self, request, **kwargs)\u001b[0m\n\u001b[1;32m    742\u001b[0m         \u001b[38;5;28;01mpass\u001b[39;00m\n\u001b[1;32m    744\u001b[0m \u001b[38;5;28;01mif\u001b[39;00m \u001b[38;5;129;01mnot\u001b[39;00m stream:\n\u001b[0;32m--> 745\u001b[0m     \u001b[43mr\u001b[49m\u001b[38;5;241;43m.\u001b[39;49m\u001b[43mcontent\u001b[49m\n\u001b[1;32m    747\u001b[0m \u001b[38;5;28;01mreturn\u001b[39;00m r\n",
            "File \u001b[0;32m/shared-libs/python3.9/py/lib/python3.9/site-packages/requests/models.py:899\u001b[0m, in \u001b[0;36mResponse.content\u001b[0;34m(self)\u001b[0m\n\u001b[1;32m    897\u001b[0m         \u001b[38;5;28mself\u001b[39m\u001b[38;5;241m.\u001b[39m_content \u001b[38;5;241m=\u001b[39m \u001b[38;5;28;01mNone\u001b[39;00m\n\u001b[1;32m    898\u001b[0m     \u001b[38;5;28;01melse\u001b[39;00m:\n\u001b[0;32m--> 899\u001b[0m         \u001b[38;5;28mself\u001b[39m\u001b[38;5;241m.\u001b[39m_content \u001b[38;5;241m=\u001b[39m \u001b[38;5;124;43mb\u001b[39;49m\u001b[38;5;124;43m\"\u001b[39;49m\u001b[38;5;124;43m\"\u001b[39;49m\u001b[38;5;241;43m.\u001b[39;49m\u001b[43mjoin\u001b[49m\u001b[43m(\u001b[49m\u001b[38;5;28;43mself\u001b[39;49m\u001b[38;5;241;43m.\u001b[39;49m\u001b[43miter_content\u001b[49m\u001b[43m(\u001b[49m\u001b[43mCONTENT_CHUNK_SIZE\u001b[49m\u001b[43m)\u001b[49m\u001b[43m)\u001b[49m \u001b[38;5;129;01mor\u001b[39;00m \u001b[38;5;124mb\u001b[39m\u001b[38;5;124m\"\u001b[39m\u001b[38;5;124m\"\u001b[39m\n\u001b[1;32m    901\u001b[0m \u001b[38;5;28mself\u001b[39m\u001b[38;5;241m.\u001b[39m_content_consumed \u001b[38;5;241m=\u001b[39m \u001b[38;5;28;01mTrue\u001b[39;00m\n\u001b[1;32m    902\u001b[0m \u001b[38;5;66;03m# don't need to release the connection; that's been handled by urllib3\u001b[39;00m\n\u001b[1;32m    903\u001b[0m \u001b[38;5;66;03m# since we exhausted the data.\u001b[39;00m\n",
            "File \u001b[0;32m/shared-libs/python3.9/py/lib/python3.9/site-packages/requests/models.py:816\u001b[0m, in \u001b[0;36mResponse.iter_content.<locals>.generate\u001b[0;34m()\u001b[0m\n\u001b[1;32m    814\u001b[0m \u001b[38;5;28;01mif\u001b[39;00m \u001b[38;5;28mhasattr\u001b[39m(\u001b[38;5;28mself\u001b[39m\u001b[38;5;241m.\u001b[39mraw, \u001b[38;5;124m\"\u001b[39m\u001b[38;5;124mstream\u001b[39m\u001b[38;5;124m\"\u001b[39m):\n\u001b[1;32m    815\u001b[0m     \u001b[38;5;28;01mtry\u001b[39;00m:\n\u001b[0;32m--> 816\u001b[0m         \u001b[38;5;28;01myield from\u001b[39;00m \u001b[38;5;28mself\u001b[39m\u001b[38;5;241m.\u001b[39mraw\u001b[38;5;241m.\u001b[39mstream(chunk_size, decode_content\u001b[38;5;241m=\u001b[39m\u001b[38;5;28;01mTrue\u001b[39;00m)\n\u001b[1;32m    817\u001b[0m     \u001b[38;5;28;01mexcept\u001b[39;00m ProtocolError \u001b[38;5;28;01mas\u001b[39;00m e:\n\u001b[1;32m    818\u001b[0m         \u001b[38;5;28;01mraise\u001b[39;00m ChunkedEncodingError(e)\n",
            "File \u001b[0;32m/shared-libs/python3.9/py/lib/python3.9/site-packages/urllib3/response.py:627\u001b[0m, in \u001b[0;36mHTTPResponse.stream\u001b[0;34m(self, amt, decode_content)\u001b[0m\n\u001b[1;32m    625\u001b[0m \u001b[38;5;28;01melse\u001b[39;00m:\n\u001b[1;32m    626\u001b[0m     \u001b[38;5;28;01mwhile\u001b[39;00m \u001b[38;5;129;01mnot\u001b[39;00m is_fp_closed(\u001b[38;5;28mself\u001b[39m\u001b[38;5;241m.\u001b[39m_fp):\n\u001b[0;32m--> 627\u001b[0m         data \u001b[38;5;241m=\u001b[39m \u001b[38;5;28;43mself\u001b[39;49m\u001b[38;5;241;43m.\u001b[39;49m\u001b[43mread\u001b[49m\u001b[43m(\u001b[49m\u001b[43mamt\u001b[49m\u001b[38;5;241;43m=\u001b[39;49m\u001b[43mamt\u001b[49m\u001b[43m,\u001b[49m\u001b[43m \u001b[49m\u001b[43mdecode_content\u001b[49m\u001b[38;5;241;43m=\u001b[39;49m\u001b[43mdecode_content\u001b[49m\u001b[43m)\u001b[49m\n\u001b[1;32m    629\u001b[0m         \u001b[38;5;28;01mif\u001b[39;00m data:\n\u001b[1;32m    630\u001b[0m             \u001b[38;5;28;01myield\u001b[39;00m data\n",
            "File \u001b[0;32m/shared-libs/python3.9/py/lib/python3.9/site-packages/urllib3/response.py:566\u001b[0m, in \u001b[0;36mHTTPResponse.read\u001b[0;34m(self, amt, decode_content, cache_content)\u001b[0m\n\u001b[1;32m    563\u001b[0m fp_closed \u001b[38;5;241m=\u001b[39m \u001b[38;5;28mgetattr\u001b[39m(\u001b[38;5;28mself\u001b[39m\u001b[38;5;241m.\u001b[39m_fp, \u001b[38;5;124m\"\u001b[39m\u001b[38;5;124mclosed\u001b[39m\u001b[38;5;124m\"\u001b[39m, \u001b[38;5;28;01mFalse\u001b[39;00m)\n\u001b[1;32m    565\u001b[0m \u001b[38;5;28;01mwith\u001b[39;00m \u001b[38;5;28mself\u001b[39m\u001b[38;5;241m.\u001b[39m_error_catcher():\n\u001b[0;32m--> 566\u001b[0m     data \u001b[38;5;241m=\u001b[39m \u001b[38;5;28;43mself\u001b[39;49m\u001b[38;5;241;43m.\u001b[39;49m\u001b[43m_fp_read\u001b[49m\u001b[43m(\u001b[49m\u001b[43mamt\u001b[49m\u001b[43m)\u001b[49m \u001b[38;5;28;01mif\u001b[39;00m \u001b[38;5;129;01mnot\u001b[39;00m fp_closed \u001b[38;5;28;01melse\u001b[39;00m \u001b[38;5;124mb\u001b[39m\u001b[38;5;124m\"\u001b[39m\u001b[38;5;124m\"\u001b[39m\n\u001b[1;32m    567\u001b[0m     \u001b[38;5;28;01mif\u001b[39;00m amt \u001b[38;5;129;01mis\u001b[39;00m \u001b[38;5;28;01mNone\u001b[39;00m:\n\u001b[1;32m    568\u001b[0m         flush_decoder \u001b[38;5;241m=\u001b[39m \u001b[38;5;28;01mTrue\u001b[39;00m\n",
            "File \u001b[0;32m/shared-libs/python3.9/py/lib/python3.9/site-packages/urllib3/response.py:532\u001b[0m, in \u001b[0;36mHTTPResponse._fp_read\u001b[0;34m(self, amt)\u001b[0m\n\u001b[1;32m    529\u001b[0m     \u001b[38;5;28;01mreturn\u001b[39;00m buffer\u001b[38;5;241m.\u001b[39mgetvalue()\n\u001b[1;32m    530\u001b[0m \u001b[38;5;28;01melse\u001b[39;00m:\n\u001b[1;32m    531\u001b[0m     \u001b[38;5;66;03m# StringIO doesn't like amt=None\u001b[39;00m\n\u001b[0;32m--> 532\u001b[0m     \u001b[38;5;28;01mreturn\u001b[39;00m \u001b[38;5;28;43mself\u001b[39;49m\u001b[38;5;241;43m.\u001b[39;49m\u001b[43m_fp\u001b[49m\u001b[38;5;241;43m.\u001b[39;49m\u001b[43mread\u001b[49m\u001b[43m(\u001b[49m\u001b[43mamt\u001b[49m\u001b[43m)\u001b[49m \u001b[38;5;28;01mif\u001b[39;00m amt \u001b[38;5;129;01mis\u001b[39;00m \u001b[38;5;129;01mnot\u001b[39;00m \u001b[38;5;28;01mNone\u001b[39;00m \u001b[38;5;28;01melse\u001b[39;00m \u001b[38;5;28mself\u001b[39m\u001b[38;5;241m.\u001b[39m_fp\u001b[38;5;241m.\u001b[39mread()\n",
            "File \u001b[0;32m/usr/local/lib/python3.9/http/client.py:463\u001b[0m, in \u001b[0;36mHTTPResponse.read\u001b[0;34m(self, amt)\u001b[0m\n\u001b[1;32m    460\u001b[0m \u001b[38;5;28;01mif\u001b[39;00m amt \u001b[38;5;129;01mis\u001b[39;00m \u001b[38;5;129;01mnot\u001b[39;00m \u001b[38;5;28;01mNone\u001b[39;00m:\n\u001b[1;32m    461\u001b[0m     \u001b[38;5;66;03m# Amount is given, implement using readinto\u001b[39;00m\n\u001b[1;32m    462\u001b[0m     b \u001b[38;5;241m=\u001b[39m \u001b[38;5;28mbytearray\u001b[39m(amt)\n\u001b[0;32m--> 463\u001b[0m     n \u001b[38;5;241m=\u001b[39m \u001b[38;5;28;43mself\u001b[39;49m\u001b[38;5;241;43m.\u001b[39;49m\u001b[43mreadinto\u001b[49m\u001b[43m(\u001b[49m\u001b[43mb\u001b[49m\u001b[43m)\u001b[49m\n\u001b[1;32m    464\u001b[0m     \u001b[38;5;28;01mreturn\u001b[39;00m \u001b[38;5;28mmemoryview\u001b[39m(b)[:n]\u001b[38;5;241m.\u001b[39mtobytes()\n\u001b[1;32m    465\u001b[0m \u001b[38;5;28;01melse\u001b[39;00m:\n\u001b[1;32m    466\u001b[0m     \u001b[38;5;66;03m# Amount is not given (unbounded read) so we must check self.length\u001b[39;00m\n\u001b[1;32m    467\u001b[0m     \u001b[38;5;66;03m# and self.chunked\u001b[39;00m\n",
            "File \u001b[0;32m/usr/local/lib/python3.9/http/client.py:507\u001b[0m, in \u001b[0;36mHTTPResponse.readinto\u001b[0;34m(self, b)\u001b[0m\n\u001b[1;32m    502\u001b[0m         b \u001b[38;5;241m=\u001b[39m \u001b[38;5;28mmemoryview\u001b[39m(b)[\u001b[38;5;241m0\u001b[39m:\u001b[38;5;28mself\u001b[39m\u001b[38;5;241m.\u001b[39mlength]\n\u001b[1;32m    504\u001b[0m \u001b[38;5;66;03m# we do not use _safe_read() here because this may be a .will_close\u001b[39;00m\n\u001b[1;32m    505\u001b[0m \u001b[38;5;66;03m# connection, and the user is reading more bytes than will be provided\u001b[39;00m\n\u001b[1;32m    506\u001b[0m \u001b[38;5;66;03m# (for example, reading in 1k chunks)\u001b[39;00m\n\u001b[0;32m--> 507\u001b[0m n \u001b[38;5;241m=\u001b[39m \u001b[38;5;28;43mself\u001b[39;49m\u001b[38;5;241;43m.\u001b[39;49m\u001b[43mfp\u001b[49m\u001b[38;5;241;43m.\u001b[39;49m\u001b[43mreadinto\u001b[49m\u001b[43m(\u001b[49m\u001b[43mb\u001b[49m\u001b[43m)\u001b[49m\n\u001b[1;32m    508\u001b[0m \u001b[38;5;28;01mif\u001b[39;00m \u001b[38;5;129;01mnot\u001b[39;00m n \u001b[38;5;129;01mand\u001b[39;00m b:\n\u001b[1;32m    509\u001b[0m     \u001b[38;5;66;03m# Ideally, we would raise IncompleteRead if the content-length\u001b[39;00m\n\u001b[1;32m    510\u001b[0m     \u001b[38;5;66;03m# wasn't satisfied, but it might break compatibility.\u001b[39;00m\n\u001b[1;32m    511\u001b[0m     \u001b[38;5;28mself\u001b[39m\u001b[38;5;241m.\u001b[39m_close_conn()\n",
            "File \u001b[0;32m/usr/local/lib/python3.9/socket.py:704\u001b[0m, in \u001b[0;36mSocketIO.readinto\u001b[0;34m(self, b)\u001b[0m\n\u001b[1;32m    702\u001b[0m \u001b[38;5;28;01mwhile\u001b[39;00m \u001b[38;5;28;01mTrue\u001b[39;00m:\n\u001b[1;32m    703\u001b[0m     \u001b[38;5;28;01mtry\u001b[39;00m:\n\u001b[0;32m--> 704\u001b[0m         \u001b[38;5;28;01mreturn\u001b[39;00m \u001b[38;5;28;43mself\u001b[39;49m\u001b[38;5;241;43m.\u001b[39;49m\u001b[43m_sock\u001b[49m\u001b[38;5;241;43m.\u001b[39;49m\u001b[43mrecv_into\u001b[49m\u001b[43m(\u001b[49m\u001b[43mb\u001b[49m\u001b[43m)\u001b[49m\n\u001b[1;32m    705\u001b[0m     \u001b[38;5;28;01mexcept\u001b[39;00m timeout:\n\u001b[1;32m    706\u001b[0m         \u001b[38;5;28mself\u001b[39m\u001b[38;5;241m.\u001b[39m_timeout_occurred \u001b[38;5;241m=\u001b[39m \u001b[38;5;28;01mTrue\u001b[39;00m\n",
            "File \u001b[0;32m/usr/local/lib/python3.9/ssl.py:1242\u001b[0m, in \u001b[0;36mSSLSocket.recv_into\u001b[0;34m(self, buffer, nbytes, flags)\u001b[0m\n\u001b[1;32m   1238\u001b[0m     \u001b[38;5;28;01mif\u001b[39;00m flags \u001b[38;5;241m!=\u001b[39m \u001b[38;5;241m0\u001b[39m:\n\u001b[1;32m   1239\u001b[0m         \u001b[38;5;28;01mraise\u001b[39;00m \u001b[38;5;167;01mValueError\u001b[39;00m(\n\u001b[1;32m   1240\u001b[0m           \u001b[38;5;124m\"\u001b[39m\u001b[38;5;124mnon-zero flags not allowed in calls to recv_into() on \u001b[39m\u001b[38;5;132;01m%s\u001b[39;00m\u001b[38;5;124m\"\u001b[39m \u001b[38;5;241m%\u001b[39m\n\u001b[1;32m   1241\u001b[0m           \u001b[38;5;28mself\u001b[39m\u001b[38;5;241m.\u001b[39m\u001b[38;5;18m__class__\u001b[39m)\n\u001b[0;32m-> 1242\u001b[0m     \u001b[38;5;28;01mreturn\u001b[39;00m \u001b[38;5;28;43mself\u001b[39;49m\u001b[38;5;241;43m.\u001b[39;49m\u001b[43mread\u001b[49m\u001b[43m(\u001b[49m\u001b[43mnbytes\u001b[49m\u001b[43m,\u001b[49m\u001b[43m \u001b[49m\u001b[43mbuffer\u001b[49m\u001b[43m)\u001b[49m\n\u001b[1;32m   1243\u001b[0m \u001b[38;5;28;01melse\u001b[39;00m:\n\u001b[1;32m   1244\u001b[0m     \u001b[38;5;28;01mreturn\u001b[39;00m \u001b[38;5;28msuper\u001b[39m()\u001b[38;5;241m.\u001b[39mrecv_into(buffer, nbytes, flags)\n",
            "File \u001b[0;32m/usr/local/lib/python3.9/ssl.py:1100\u001b[0m, in \u001b[0;36mSSLSocket.read\u001b[0;34m(self, len, buffer)\u001b[0m\n\u001b[1;32m   1098\u001b[0m \u001b[38;5;28;01mtry\u001b[39;00m:\n\u001b[1;32m   1099\u001b[0m     \u001b[38;5;28;01mif\u001b[39;00m buffer \u001b[38;5;129;01mis\u001b[39;00m \u001b[38;5;129;01mnot\u001b[39;00m \u001b[38;5;28;01mNone\u001b[39;00m:\n\u001b[0;32m-> 1100\u001b[0m         \u001b[38;5;28;01mreturn\u001b[39;00m \u001b[38;5;28;43mself\u001b[39;49m\u001b[38;5;241;43m.\u001b[39;49m\u001b[43m_sslobj\u001b[49m\u001b[38;5;241;43m.\u001b[39;49m\u001b[43mread\u001b[49m\u001b[43m(\u001b[49m\u001b[38;5;28;43mlen\u001b[39;49m\u001b[43m,\u001b[49m\u001b[43m \u001b[49m\u001b[43mbuffer\u001b[49m\u001b[43m)\u001b[49m\n\u001b[1;32m   1101\u001b[0m     \u001b[38;5;28;01melse\u001b[39;00m:\n\u001b[1;32m   1102\u001b[0m         \u001b[38;5;28;01mreturn\u001b[39;00m \u001b[38;5;28mself\u001b[39m\u001b[38;5;241m.\u001b[39m_sslobj\u001b[38;5;241m.\u001b[39mread(\u001b[38;5;28mlen\u001b[39m)\n",
            "\u001b[0;31mKeyboardInterrupt\u001b[0m: "
          ]
        }
      ],
      "execution_count": 7
    },
    {
      "cell_type": "code",
      "source": "# Target Id 6: Histone acetyltransferase KAT5 (KAT5)\nselected_target = targets.target_chembl_id[0]\nselected_target\nactivity = new_client.activity\nres = activity.filter(target_chembl_id=selected_target).filter(standard_type=\"IC50\")\ndf_kat5 = pd.DataFrame.from_dict(res)\ndf_kat5",
      "metadata": {
        "source_hash": "674c53ea",
        "execution_start": 1690085599518,
        "execution_millis": 402,
        "deepnote_table_state": {
          "sortBy": [],
          "filters": [],
          "pageSize": 10,
          "pageIndex": 4
        },
        "deepnote_table_loading": false,
        "deepnote_to_be_reexecuted": true,
        "cell_id": "2e102a6103264a738e5b1224f2364238",
        "deepnote_cell_type": "code"
      },
      "outputs": [],
      "execution_count": 221
    },
    {
      "cell_type": "markdown",
      "source": "## Save Bioactivity Data",
      "metadata": {
        "cell_id": "0dba6f2ce5714b6eb0e9d1f431b8f49c",
        "deepnote_cell_type": "markdown"
      }
    },
    {
      "cell_type": "code",
      "source": "df_protease.to_csv('protease_bioactivity_data.csv', index=False)\ndf_ccr5.to_csv('ccr5_bioactivity_data.csv', index=False)\ndf_kat5.to_csv('kat5_bioactivity_data.csv', index=False)",
      "metadata": {
        "source_hash": "3313cd84",
        "execution_start": 1690085599651,
        "execution_millis": 259,
        "deepnote_to_be_reexecuted": true,
        "cell_id": "78ac77eabba945bcb530dcf5401c43bb",
        "deepnote_cell_type": "code"
      },
      "outputs": [],
      "execution_count": 222
    },
    {
      "cell_type": "markdown",
      "source": "## Adressing Missing Data",
      "metadata": {
        "cell_id": "0598f4ceabb447a2b5a67500d43fc806",
        "deepnote_cell_type": "markdown"
      }
    },
    {
      "cell_type": "code",
      "source": "# Import Data if necessary (The target selection code runtime varies)\ntry:\n    df_protease\nexcept NameError:\n    df_protease = pd.read_csv('protease_bioactivity_data.csv')\n\ntry:\n    df_ccr5\nexcept NameError:\n    df_ccr5 = pd.read_csv('ccr5_bioactivity_data.csv')\n\ntry:\n    df_kat5\nexcept NameError:\n    df_kat5 = pd.read_csv('kat5_bioactivity_data.csv') ",
      "metadata": {
        "source_hash": "fc1492bf",
        "execution_start": 1690090745045,
        "execution_millis": 34,
        "deepnote_to_be_reexecuted": false,
        "cell_id": "c117ee54ec7d4d9dafd3f839a6efb9fa",
        "deepnote_cell_type": "code"
      },
      "outputs": [],
      "execution_count": 8
    },
    {
      "cell_type": "code",
      "source": "# Drop compounds without standard_value column values\ndf_protease = df_protease[df_protease.standard_value.notna()]\ndf_ccr5 = df_ccr5[df_ccr5.standard_value.notna()]\ndf_kat5 = df_kat5[df_kat5.standard_value.notna()]",
      "metadata": {
        "source_hash": "a8550211",
        "execution_start": 1690090748563,
        "execution_millis": 20,
        "deepnote_to_be_reexecuted": false,
        "cell_id": "494c346943ea4282a7e2503501586fb6",
        "deepnote_cell_type": "code"
      },
      "outputs": [],
      "execution_count": 9
    },
    {
      "cell_type": "markdown",
      "source": "## Data Proprocessing",
      "metadata": {
        "cell_id": "05c363af07a947f7ac8124061d9ac051",
        "deepnote_cell_type": "markdown"
      }
    },
    {
      "cell_type": "code",
      "source": "# Compounds are labelled as active, inactive, or intermediate based on their standard_value\n# Different targets will have different thresholds for active, inactive and intermediate\ndef bioactivity_classifier(lower_bound, upper_bound, df):\n    bioactivity_class = []\n    for i in df['standard_value']:\n        if float(i) >= upper_bound:\n            bioactivity_class.append(\"inactive\")\n        elif float(i) <= lower_bound:\n            bioactivity_class.append(\"active\")\n        else:\n            bioactivity_class.append(\"intermediate\")\n        if pd.isna(bioactivity_class[-1]):\n            print('Nan appended', i)\n    bioactivity_class = pd.Series(bioactivity_class, name='bioactivity_class')\n    return bioactivity_class\n\n# Thresholds are designed to balances the classes, so there are reasonable amounts of each acitivity level\n",
      "metadata": {
        "source_hash": "4537db4a",
        "execution_start": 1690092873383,
        "execution_millis": 11,
        "deepnote_to_be_reexecuted": false,
        "cell_id": "1530124b35cb4f858e1c3b3250b434e3",
        "deepnote_cell_type": "code"
      },
      "outputs": [],
      "execution_count": 55
    },
    {
      "cell_type": "code",
      "source": "# Combine the 3 relevant columns (molecule_chembl_id,canonical_smiles,standard_value) and bioactivity_class into a DataFrame\nselected_columns = ['molecule_chembl_id','canonical_smiles','standard_value']\n\n# Preprocess for HIV protease\npreprocessed_df_protease = pd.concat([df_protease[selected_columns], bioactivity_classifier(0.60, 0.95, df_protease)], axis=1)\n\n# Preprocess for C-C chemokine receptor type 5\npreprocessed_df_ccr5 = pd.concat([df_ccr5[selected_columns].reset_index(drop=True), bioactivity_classifier(8.00, 90.00, df_ccr5).reset_index(drop=True)], axis=1)\n\n# Preprocess for Histone acetyltransferase KAT5\npreprocessed_df_kat5 = pd.concat([df_kat5[selected_columns], bioactivity_classifier(0.75, 1.05, df_kat5)], axis=1)",
      "metadata": {
        "source_hash": "c5c6c52",
        "execution_start": 1690093434016,
        "execution_millis": 9,
        "deepnote_table_state": {
          "sortBy": [],
          "filters": [],
          "pageSize": 10,
          "pageIndex": 2
        },
        "deepnote_table_loading": false,
        "deepnote_to_be_reexecuted": false,
        "cell_id": "5246a58e2353436c96119e5657a781a3",
        "deepnote_cell_type": "code"
      },
      "outputs": [],
      "execution_count": 91
    },
    {
      "cell_type": "code",
      "source": "preprocessed_df_kat5",
      "metadata": {
        "source_hash": "a21d6c48",
        "execution_start": 1690093596156,
        "execution_millis": 270,
        "deepnote_to_be_reexecuted": false,
        "cell_id": "a82073d951d84ac4b5d41c33170e90ef",
        "deepnote_cell_type": "code"
      },
      "outputs": [
        {
          "output_type": "execute_result",
          "execution_count": 92,
          "data": {
            "application/vnd.deepnote.dataframe.v3+json": {
              "column_count": 4,
              "row_count": 44,
              "columns": [
                {
                  "name": "molecule_chembl_id",
                  "dtype": "object",
                  "stats": {
                    "unique_count": 43,
                    "nan_count": 0,
                    "categories": [
                      {
                        "name": "CHEMBL3670870",
                        "count": 2
                      },
                      {
                        "name": "CHEMBL3670888",
                        "count": 1
                      },
                      {
                        "name": "41 others",
                        "count": 41
                      }
                    ]
                  }
                },
                {
                  "name": "canonical_smiles",
                  "dtype": "object",
                  "stats": {
                    "unique_count": 43,
                    "nan_count": 0,
                    "categories": [
                      {
                        "name": "COC(=O)N[C@H](C(=O)NCCCC[C@H](C(N)=O)N(CC(C)C)S(=O)(=O)c1ccc(N)cc1)C(c1ccccc1)c1ccccc1",
                        "count": 2
                      },
                      {
                        "name": "CC(C)CN(Sc1ccc2c(c1)CCO2)[C@H](CO)CCCCNC(=O)[C@@H](Cc1cccc2ccccc12)NC(=O)N1CCOCC1",
                        "count": 1
                      },
                      {
                        "name": "41 others",
                        "count": 41
                      }
                    ]
                  }
                },
                {
                  "name": "standard_value",
                  "dtype": "float64",
                  "stats": {
                    "unique_count": 43,
                    "nan_count": 0,
                    "min": "0.29",
                    "max": "5.898",
                    "histogram": [
                      {
                        "bin_start": 0.29,
                        "bin_end": 0.8508,
                        "count": 20
                      },
                      {
                        "bin_start": 0.8508,
                        "bin_end": 1.4116,
                        "count": 11
                      },
                      {
                        "bin_start": 1.4116,
                        "bin_end": 1.9724,
                        "count": 1
                      },
                      {
                        "bin_start": 1.9724,
                        "bin_end": 2.5332,
                        "count": 2
                      },
                      {
                        "bin_start": 2.5332,
                        "bin_end": 3.094,
                        "count": 3
                      },
                      {
                        "bin_start": 3.094,
                        "bin_end": 3.6548,
                        "count": 1
                      },
                      {
                        "bin_start": 3.6548,
                        "bin_end": 4.215599999999999,
                        "count": 3
                      },
                      {
                        "bin_start": 4.215599999999999,
                        "bin_end": 4.7764,
                        "count": 0
                      },
                      {
                        "bin_start": 4.7764,
                        "bin_end": 5.3372,
                        "count": 2
                      },
                      {
                        "bin_start": 5.3372,
                        "bin_end": 5.898,
                        "count": 1
                      }
                    ]
                  }
                },
                {
                  "name": "bioactivity_class",
                  "dtype": "object",
                  "stats": {
                    "unique_count": 3,
                    "nan_count": 0,
                    "categories": [
                      {
                        "name": "active",
                        "count": 19
                      },
                      {
                        "name": "inactive",
                        "count": 17
                      },
                      {
                        "name": "intermediate",
                        "count": 8
                      }
                    ]
                  }
                },
                {
                  "name": "_deepnote_index_column",
                  "dtype": "int64"
                }
              ],
              "rows": [
                {
                  "molecule_chembl_id": "CHEMBL3670884",
                  "canonical_smiles": "Cc1ccc(C(=O)N[C@@H](Cc2ccccc2Br)C(=O)NCCCC[C@@H](CO)N(CC(C)C)S(=O)(=O)c2ccc(N)cc2)cc1O",
                  "standard_value": 0.683,
                  "bioactivity_class": "active",
                  "_deepnote_index_column": 20
                },
                {
                  "molecule_chembl_id": "CHEMBL3670885",
                  "canonical_smiles": "CC(C)CN([C@H](CO)CCCCNC(=O)[C@H](Cc1ccccc1Br)NC(=O)OCc1ccncc1)S(=O)(=O)c1ccc(N)cc1",
                  "standard_value": 0.92,
                  "bioactivity_class": "intermediate",
                  "_deepnote_index_column": 21
                },
                {
                  "molecule_chembl_id": "CHEMBL3670863",
                  "canonical_smiles": "CC(C)CN([C@H](CO)CCCCNC(=O)[C@H](Cc1ccc2ccccc2c1)NS(=O)(=O)c1ccc2c(c1)OCCC2C)S(=O)(=O)c1ccc(N)cc1",
                  "standard_value": 4.95,
                  "bioactivity_class": "inactive",
                  "_deepnote_index_column": 22
                },
                {
                  "molecule_chembl_id": "CHEMBL3670864",
                  "canonical_smiles": "CCC(=O)NC(=O)N(C)CC(=O)N[C@@H](Cc1ccc2ccccc2c1)C(=O)NCCCC[C@@H](CO)N(CC(C)C)S(=O)(=O)c1ccc(N)cc1",
                  "standard_value": 0.878,
                  "bioactivity_class": "intermediate",
                  "_deepnote_index_column": 23
                },
                {
                  "molecule_chembl_id": "CHEMBL3670865",
                  "canonical_smiles": "CC(C)CN([C@H](CO)CCCCNC(=O)[C@H](Cc1ccc2ccccc2c1)NCc1ccccn1)S(=O)(=O)c1ccc(N)cc1",
                  "standard_value": 5.898,
                  "bioactivity_class": "inactive",
                  "_deepnote_index_column": 24
                },
                {
                  "molecule_chembl_id": "CHEMBL3670866",
                  "canonical_smiles": "CC(C)CN([C@H](CO)CCCCNC(=O)[C@@H](NS(=O)(=O)c1cccs1)C(c1ccccc1)c1ccccc1)S(=O)(=O)c1ccc(N)cc1",
                  "standard_value": 0.601,
                  "bioactivity_class": "active",
                  "_deepnote_index_column": 25
                },
                {
                  "molecule_chembl_id": "CHEMBL3670867",
                  "canonical_smiles": "CN[C@H](C(=O)NCCCC[C@@H](CO)N(CC(C)C)S(=O)(=O)c1ccc(N)cc1)C(c1ccccc1)C1C=CC=CC1",
                  "standard_value": 0.436,
                  "bioactivity_class": "active",
                  "_deepnote_index_column": 26
                },
                {
                  "molecule_chembl_id": "CHEMBL3670868",
                  "canonical_smiles": "CC(C)CN([C@H](CO)CCCCNC(=O)[C@@H](NC(=O)NCC1=CCCN=C1)C(c1ccccc1)c1ccccc1)S(=O)(=O)c1ccc(N)cc1",
                  "standard_value": 0.465,
                  "bioactivity_class": "active",
                  "_deepnote_index_column": 27
                },
                {
                  "molecule_chembl_id": "CHEMBL3670869",
                  "canonical_smiles": "CC(C)CN([C@H](CO)CCCCNC(=O)[C@@H](NC(=O)NCc1ccncc1)C(c1ccccc1)c1ccccc1)S(=O)(=O)c1ccc(N)cc1",
                  "standard_value": 0.51,
                  "bioactivity_class": "active",
                  "_deepnote_index_column": 28
                },
                {
                  "molecule_chembl_id": "CHEMBL3670900",
                  "canonical_smiles": "Cc1ccc(C(=O)N[C@@H](Cc2ccccc2C)C(=O)NCCCC[C@@H](CO)N(CC(C)C)S(=O)(=O)c2ccc(N)cc2)cc1O",
                  "standard_value": 0.938,
                  "bioactivity_class": "intermediate",
                  "_deepnote_index_column": 29
                }
              ]
            },
            "text/plain": "   molecule_chembl_id                                   canonical_smiles  \\\n0       CHEMBL3670888  CC(C)CN(Sc1ccc2c(c1)CCO2)[C@H](CO)CCCCNC(=O)[C...   \n1       CHEMBL3670889  CC(C)CN(Sc1ccc2c(c1)OCCO2)[C@H](CO)CCCCNC(=O)[...   \n2       CHEMBL3670890  CC(C)CN([C@H](CO)CCCCNC(=O)[C@H](Cc1ccccc1Br)N...   \n3       CHEMBL3670886  Cc1c(O)cccc1C(=O)N[C@@H](Cc1ccccc1Br)C(=O)NCCC...   \n4       CHEMBL3670887  CC(C)CN([C@H](CO)CCCCNC(=O)[C@H](Cc1ccccc1Br)N...   \n5       CHEMBL3670897  Cc1ccccc1C[C@H](NC(=O)c1cccnc1)C(=O)NCCCC[C@@H...   \n6       CHEMBL3670829             O=C(O)CNC(=O)c1c(=O)oc(O)c2cc(Br)ccc12   \n7       CHEMBL3670898  C[C@H](NC(=O)c1c(=O)oc(O)c2cccc(-c3cccc(C(F)(F...   \n8       CHEMBL3670899  Cc1ccccc1C[C@H](NC(=O)c1cccc(C)c1O)C(=O)NCCCC[...   \n9       CHEMBL3670901  COC(=O)N[C@@H](CC1CCCCC1)C(=O)NCCCC[C@@H](CO)N...   \n10      CHEMBL3670902  CC(C)CN([C@H](CO)CCCCNC(=O)[C@H](CC1CCCCC1)NC(...   \n11      CHEMBL3670903  Cc1ccc(C(=O)N[C@@H](CC2CCCCC2)C(=O)NCCCC[C@@H]...   \n12      CHEMBL3639697  COC(=O)N[C@H](C(=O)NCCCC[C@H](CO)N(CC(C)C)S(=O...   \n13      CHEMBL3670895  CC(C)CN([C@H](CO)CCCCNC(=O)[C@H](Cc1ccccc1Cl)N...   \n14      CHEMBL3670896  Cc1ncccc1C(=O)N[C@@H](Cc1ccccc1Cl)C(=O)NCCCC[C...   \n15      CHEMBL3670891  CC(C)CN([C@H](CO)CCCCNC(=O)[C@H](CC1=C(Br)CCC=...   \n16      CHEMBL3670892  COC(=O)N[C@H](C(=O)NCCCC[C@@H](CO)N(CC(C)C)S(=...   \n17      CHEMBL3670893  CC(C)CN([C@H](CO)CCCCNC(=O)[C@@H](NC(=O)N1CCOC...   \n18      CHEMBL3670894  COC(=O)N[C@H](C(=O)NCCCC[C@H](CO)N(CC(C)C)S(=O...   \n19      CHEMBL3670883  Cc1cccnc1C(=O)N[C@@H](Cc1ccccc1Br)C(=O)NCCCC[C...   \n20      CHEMBL3670884  Cc1ccc(C(=O)N[C@@H](Cc2ccccc2Br)C(=O)NCCCC[C@@...   \n21      CHEMBL3670885  CC(C)CN([C@H](CO)CCCCNC(=O)[C@H](Cc1ccccc1Br)N...   \n22      CHEMBL3670863  CC(C)CN([C@H](CO)CCCCNC(=O)[C@H](Cc1ccc2ccccc2...   \n23      CHEMBL3670864  CCC(=O)NC(=O)N(C)CC(=O)N[C@@H](Cc1ccc2ccccc2c1...   \n24      CHEMBL3670865  CC(C)CN([C@H](CO)CCCCNC(=O)[C@H](Cc1ccc2ccccc2...   \n25      CHEMBL3670866  CC(C)CN([C@H](CO)CCCCNC(=O)[C@@H](NS(=O)(=O)c1...   \n26      CHEMBL3670867  CN[C@H](C(=O)NCCCC[C@@H](CO)N(CC(C)C)S(=O)(=O)...   \n27      CHEMBL3670868  CC(C)CN([C@H](CO)CCCCNC(=O)[C@@H](NC(=O)NCC1=C...   \n28      CHEMBL3670869  CC(C)CN([C@H](CO)CCCCNC(=O)[C@@H](NC(=O)NCc1cc...   \n29      CHEMBL3670900  Cc1ccc(C(=O)N[C@@H](Cc2ccccc2C)C(=O)NCCCC[C@@H...   \n30      CHEMBL3670874  COC(=O)N[C@H](C(=O)NCCCCC(C(N)=O)N(CC(C)C)S(=O...   \n31      CHEMBL3670871  COC(=O)N[C@H](C(=O)NCCCC[C@@H](CO)N(Cc1cccnc1)...   \n32      CHEMBL3670880  Cc1ncccc1C(=O)N[C@@H](Cc1ccccc1Br)C(=O)NCCCC[C...   \n33      CHEMBL3670881  Cc1ccc(C(=O)N[C@@H](Cc2ccccc2Br)C(=O)NCCCC[C@@...   \n34      CHEMBL3670878  CC(C)CN([C@H](CO)CCCCNC(=O)[C@@H](Cc1ccccc1Br)...   \n35      CHEMBL3670879  CC(C)CN([C@H](CO)CCCCNC(=O)C(Cc1ccccc1Br)NC(=O...   \n36      CHEMBL3670882  CC(C)CN([C@H](CO)CCCCNC(=O)[C@H](Cc1ccccc1Br)N...   \n37      CHEMBL3670875  CC(C)CN([C@H](CO)CCCCNC(=O)[C@H](Cc1ccccc1Br)N...   \n38      CHEMBL3670876  CC(C)CN([C@H](CO)CCCCNC(=O)[C@@H](Cc1ccccc1Br)...   \n39      CHEMBL3670877  CC(C)CN([C@H](CO)CCCCNC(=O)[C@@H](Cc1ccccc1Br)...   \n40      CHEMBL3670870  COC(=O)N[C@H](C(=O)NCCCC[C@H](C(N)=O)N(CC(C)C)...   \n41      CHEMBL3670870  COC(=O)N[C@H](C(=O)NCCCC[C@H](C(N)=O)N(CC(C)C)...   \n42      CHEMBL3670872  CC(=O)N[C@H](C(=O)NCCCCC(C(N)=O)N(CC(C)C)S(=O)...   \n43      CHEMBL3670873  CC(C)CN(C(CCCCNC(=O)[C@H](CC1=C2C=CC=CC2CC=C1)...   \n\n    standard_value bioactivity_class  \n0            0.995      intermediate  \n1            2.024          inactive  \n2            0.599            active  \n3            0.600            active  \n4            0.290            active  \n5            1.417          inactive  \n6            1.286          inactive  \n7            1.353          inactive  \n8            4.122          inactive  \n9            5.212          inactive  \n10           2.876          inactive  \n11           3.314          inactive  \n12           2.550          inactive  \n13           3.810          inactive  \n14           2.150          inactive  \n15           3.659          inactive  \n16           0.899      intermediate  \n17           0.963      intermediate  \n18           3.011          inactive  \n19           0.503            active  \n20           0.683            active  \n21           0.920      intermediate  \n22           4.950          inactive  \n23           0.878      intermediate  \n24           5.898          inactive  \n25           0.601            active  \n26           0.436            active  \n27           0.465            active  \n28           0.510            active  \n29           0.938      intermediate  \n30           1.080          inactive  \n31           1.007      intermediate  \n32           0.580            active  \n33           0.567            active  \n34           0.336            active  \n35           0.618            active  \n36           0.836      intermediate  \n37           0.471            active  \n38           0.615            active  \n39           0.372            active  \n40           0.652            active  \n41           0.507            active  \n42           1.073          inactive  \n43           0.580            active  ",
            "text/html": "<div>\n<style scoped>\n    .dataframe tbody tr th:only-of-type {\n        vertical-align: middle;\n    }\n\n    .dataframe tbody tr th {\n        vertical-align: top;\n    }\n\n    .dataframe thead th {\n        text-align: right;\n    }\n</style>\n<table border=\"1\" class=\"dataframe\">\n  <thead>\n    <tr style=\"text-align: right;\">\n      <th></th>\n      <th>molecule_chembl_id</th>\n      <th>canonical_smiles</th>\n      <th>standard_value</th>\n      <th>bioactivity_class</th>\n    </tr>\n  </thead>\n  <tbody>\n    <tr>\n      <th>0</th>\n      <td>CHEMBL3670888</td>\n      <td>CC(C)CN(Sc1ccc2c(c1)CCO2)[C@H](CO)CCCCNC(=O)[C...</td>\n      <td>0.995</td>\n      <td>intermediate</td>\n    </tr>\n    <tr>\n      <th>1</th>\n      <td>CHEMBL3670889</td>\n      <td>CC(C)CN(Sc1ccc2c(c1)OCCO2)[C@H](CO)CCCCNC(=O)[...</td>\n      <td>2.024</td>\n      <td>inactive</td>\n    </tr>\n    <tr>\n      <th>2</th>\n      <td>CHEMBL3670890</td>\n      <td>CC(C)CN([C@H](CO)CCCCNC(=O)[C@H](Cc1ccccc1Br)N...</td>\n      <td>0.599</td>\n      <td>active</td>\n    </tr>\n    <tr>\n      <th>3</th>\n      <td>CHEMBL3670886</td>\n      <td>Cc1c(O)cccc1C(=O)N[C@@H](Cc1ccccc1Br)C(=O)NCCC...</td>\n      <td>0.600</td>\n      <td>active</td>\n    </tr>\n    <tr>\n      <th>4</th>\n      <td>CHEMBL3670887</td>\n      <td>CC(C)CN([C@H](CO)CCCCNC(=O)[C@H](Cc1ccccc1Br)N...</td>\n      <td>0.290</td>\n      <td>active</td>\n    </tr>\n    <tr>\n      <th>5</th>\n      <td>CHEMBL3670897</td>\n      <td>Cc1ccccc1C[C@H](NC(=O)c1cccnc1)C(=O)NCCCC[C@@H...</td>\n      <td>1.417</td>\n      <td>inactive</td>\n    </tr>\n    <tr>\n      <th>6</th>\n      <td>CHEMBL3670829</td>\n      <td>O=C(O)CNC(=O)c1c(=O)oc(O)c2cc(Br)ccc12</td>\n      <td>1.286</td>\n      <td>inactive</td>\n    </tr>\n    <tr>\n      <th>7</th>\n      <td>CHEMBL3670898</td>\n      <td>C[C@H](NC(=O)c1c(=O)oc(O)c2cccc(-c3cccc(C(F)(F...</td>\n      <td>1.353</td>\n      <td>inactive</td>\n    </tr>\n    <tr>\n      <th>8</th>\n      <td>CHEMBL3670899</td>\n      <td>Cc1ccccc1C[C@H](NC(=O)c1cccc(C)c1O)C(=O)NCCCC[...</td>\n      <td>4.122</td>\n      <td>inactive</td>\n    </tr>\n    <tr>\n      <th>9</th>\n      <td>CHEMBL3670901</td>\n      <td>COC(=O)N[C@@H](CC1CCCCC1)C(=O)NCCCC[C@@H](CO)N...</td>\n      <td>5.212</td>\n      <td>inactive</td>\n    </tr>\n    <tr>\n      <th>10</th>\n      <td>CHEMBL3670902</td>\n      <td>CC(C)CN([C@H](CO)CCCCNC(=O)[C@H](CC1CCCCC1)NC(...</td>\n      <td>2.876</td>\n      <td>inactive</td>\n    </tr>\n    <tr>\n      <th>11</th>\n      <td>CHEMBL3670903</td>\n      <td>Cc1ccc(C(=O)N[C@@H](CC2CCCCC2)C(=O)NCCCC[C@@H]...</td>\n      <td>3.314</td>\n      <td>inactive</td>\n    </tr>\n    <tr>\n      <th>12</th>\n      <td>CHEMBL3639697</td>\n      <td>COC(=O)N[C@H](C(=O)NCCCC[C@H](CO)N(CC(C)C)S(=O...</td>\n      <td>2.550</td>\n      <td>inactive</td>\n    </tr>\n    <tr>\n      <th>13</th>\n      <td>CHEMBL3670895</td>\n      <td>CC(C)CN([C@H](CO)CCCCNC(=O)[C@H](Cc1ccccc1Cl)N...</td>\n      <td>3.810</td>\n      <td>inactive</td>\n    </tr>\n    <tr>\n      <th>14</th>\n      <td>CHEMBL3670896</td>\n      <td>Cc1ncccc1C(=O)N[C@@H](Cc1ccccc1Cl)C(=O)NCCCC[C...</td>\n      <td>2.150</td>\n      <td>inactive</td>\n    </tr>\n    <tr>\n      <th>15</th>\n      <td>CHEMBL3670891</td>\n      <td>CC(C)CN([C@H](CO)CCCCNC(=O)[C@H](CC1=C(Br)CCC=...</td>\n      <td>3.659</td>\n      <td>inactive</td>\n    </tr>\n    <tr>\n      <th>16</th>\n      <td>CHEMBL3670892</td>\n      <td>COC(=O)N[C@H](C(=O)NCCCC[C@@H](CO)N(CC(C)C)S(=...</td>\n      <td>0.899</td>\n      <td>intermediate</td>\n    </tr>\n    <tr>\n      <th>17</th>\n      <td>CHEMBL3670893</td>\n      <td>CC(C)CN([C@H](CO)CCCCNC(=O)[C@@H](NC(=O)N1CCOC...</td>\n      <td>0.963</td>\n      <td>intermediate</td>\n    </tr>\n    <tr>\n      <th>18</th>\n      <td>CHEMBL3670894</td>\n      <td>COC(=O)N[C@H](C(=O)NCCCC[C@H](CO)N(CC(C)C)S(=O...</td>\n      <td>3.011</td>\n      <td>inactive</td>\n    </tr>\n    <tr>\n      <th>19</th>\n      <td>CHEMBL3670883</td>\n      <td>Cc1cccnc1C(=O)N[C@@H](Cc1ccccc1Br)C(=O)NCCCC[C...</td>\n      <td>0.503</td>\n      <td>active</td>\n    </tr>\n    <tr>\n      <th>20</th>\n      <td>CHEMBL3670884</td>\n      <td>Cc1ccc(C(=O)N[C@@H](Cc2ccccc2Br)C(=O)NCCCC[C@@...</td>\n      <td>0.683</td>\n      <td>active</td>\n    </tr>\n    <tr>\n      <th>21</th>\n      <td>CHEMBL3670885</td>\n      <td>CC(C)CN([C@H](CO)CCCCNC(=O)[C@H](Cc1ccccc1Br)N...</td>\n      <td>0.920</td>\n      <td>intermediate</td>\n    </tr>\n    <tr>\n      <th>22</th>\n      <td>CHEMBL3670863</td>\n      <td>CC(C)CN([C@H](CO)CCCCNC(=O)[C@H](Cc1ccc2ccccc2...</td>\n      <td>4.950</td>\n      <td>inactive</td>\n    </tr>\n    <tr>\n      <th>23</th>\n      <td>CHEMBL3670864</td>\n      <td>CCC(=O)NC(=O)N(C)CC(=O)N[C@@H](Cc1ccc2ccccc2c1...</td>\n      <td>0.878</td>\n      <td>intermediate</td>\n    </tr>\n    <tr>\n      <th>24</th>\n      <td>CHEMBL3670865</td>\n      <td>CC(C)CN([C@H](CO)CCCCNC(=O)[C@H](Cc1ccc2ccccc2...</td>\n      <td>5.898</td>\n      <td>inactive</td>\n    </tr>\n    <tr>\n      <th>25</th>\n      <td>CHEMBL3670866</td>\n      <td>CC(C)CN([C@H](CO)CCCCNC(=O)[C@@H](NS(=O)(=O)c1...</td>\n      <td>0.601</td>\n      <td>active</td>\n    </tr>\n    <tr>\n      <th>26</th>\n      <td>CHEMBL3670867</td>\n      <td>CN[C@H](C(=O)NCCCC[C@@H](CO)N(CC(C)C)S(=O)(=O)...</td>\n      <td>0.436</td>\n      <td>active</td>\n    </tr>\n    <tr>\n      <th>27</th>\n      <td>CHEMBL3670868</td>\n      <td>CC(C)CN([C@H](CO)CCCCNC(=O)[C@@H](NC(=O)NCC1=C...</td>\n      <td>0.465</td>\n      <td>active</td>\n    </tr>\n    <tr>\n      <th>28</th>\n      <td>CHEMBL3670869</td>\n      <td>CC(C)CN([C@H](CO)CCCCNC(=O)[C@@H](NC(=O)NCc1cc...</td>\n      <td>0.510</td>\n      <td>active</td>\n    </tr>\n    <tr>\n      <th>29</th>\n      <td>CHEMBL3670900</td>\n      <td>Cc1ccc(C(=O)N[C@@H](Cc2ccccc2C)C(=O)NCCCC[C@@H...</td>\n      <td>0.938</td>\n      <td>intermediate</td>\n    </tr>\n    <tr>\n      <th>30</th>\n      <td>CHEMBL3670874</td>\n      <td>COC(=O)N[C@H](C(=O)NCCCCC(C(N)=O)N(CC(C)C)S(=O...</td>\n      <td>1.080</td>\n      <td>inactive</td>\n    </tr>\n    <tr>\n      <th>31</th>\n      <td>CHEMBL3670871</td>\n      <td>COC(=O)N[C@H](C(=O)NCCCC[C@@H](CO)N(Cc1cccnc1)...</td>\n      <td>1.007</td>\n      <td>intermediate</td>\n    </tr>\n    <tr>\n      <th>32</th>\n      <td>CHEMBL3670880</td>\n      <td>Cc1ncccc1C(=O)N[C@@H](Cc1ccccc1Br)C(=O)NCCCC[C...</td>\n      <td>0.580</td>\n      <td>active</td>\n    </tr>\n    <tr>\n      <th>33</th>\n      <td>CHEMBL3670881</td>\n      <td>Cc1ccc(C(=O)N[C@@H](Cc2ccccc2Br)C(=O)NCCCC[C@@...</td>\n      <td>0.567</td>\n      <td>active</td>\n    </tr>\n    <tr>\n      <th>34</th>\n      <td>CHEMBL3670878</td>\n      <td>CC(C)CN([C@H](CO)CCCCNC(=O)[C@@H](Cc1ccccc1Br)...</td>\n      <td>0.336</td>\n      <td>active</td>\n    </tr>\n    <tr>\n      <th>35</th>\n      <td>CHEMBL3670879</td>\n      <td>CC(C)CN([C@H](CO)CCCCNC(=O)C(Cc1ccccc1Br)NC(=O...</td>\n      <td>0.618</td>\n      <td>active</td>\n    </tr>\n    <tr>\n      <th>36</th>\n      <td>CHEMBL3670882</td>\n      <td>CC(C)CN([C@H](CO)CCCCNC(=O)[C@H](Cc1ccccc1Br)N...</td>\n      <td>0.836</td>\n      <td>intermediate</td>\n    </tr>\n    <tr>\n      <th>37</th>\n      <td>CHEMBL3670875</td>\n      <td>CC(C)CN([C@H](CO)CCCCNC(=O)[C@H](Cc1ccccc1Br)N...</td>\n      <td>0.471</td>\n      <td>active</td>\n    </tr>\n    <tr>\n      <th>38</th>\n      <td>CHEMBL3670876</td>\n      <td>CC(C)CN([C@H](CO)CCCCNC(=O)[C@@H](Cc1ccccc1Br)...</td>\n      <td>0.615</td>\n      <td>active</td>\n    </tr>\n    <tr>\n      <th>39</th>\n      <td>CHEMBL3670877</td>\n      <td>CC(C)CN([C@H](CO)CCCCNC(=O)[C@@H](Cc1ccccc1Br)...</td>\n      <td>0.372</td>\n      <td>active</td>\n    </tr>\n    <tr>\n      <th>40</th>\n      <td>CHEMBL3670870</td>\n      <td>COC(=O)N[C@H](C(=O)NCCCC[C@H](C(N)=O)N(CC(C)C)...</td>\n      <td>0.652</td>\n      <td>active</td>\n    </tr>\n    <tr>\n      <th>41</th>\n      <td>CHEMBL3670870</td>\n      <td>COC(=O)N[C@H](C(=O)NCCCC[C@H](C(N)=O)N(CC(C)C)...</td>\n      <td>0.507</td>\n      <td>active</td>\n    </tr>\n    <tr>\n      <th>42</th>\n      <td>CHEMBL3670872</td>\n      <td>CC(=O)N[C@H](C(=O)NCCCCC(C(N)=O)N(CC(C)C)S(=O)...</td>\n      <td>1.073</td>\n      <td>inactive</td>\n    </tr>\n    <tr>\n      <th>43</th>\n      <td>CHEMBL3670873</td>\n      <td>CC(C)CN(C(CCCCNC(=O)[C@H](CC1=C2C=CC=CC2CC=C1)...</td>\n      <td>0.580</td>\n      <td>active</td>\n    </tr>\n  </tbody>\n</table>\n</div>"
          },
          "metadata": {}
        }
      ],
      "execution_count": 92
    },
    {
      "cell_type": "markdown",
      "source": "## Save Preprocessed Bioactivity Data",
      "metadata": {
        "cell_id": "12119e32b70f4ab09d8f0fa707b7dd59",
        "deepnote_cell_type": "markdown"
      }
    },
    {
      "cell_type": "code",
      "source": "preprocessed_df_protease.to_csv('preprocessed_protease_bioactivity_data.csv', index=False)\npreprocessed_df_ccr5.to_csv('preprocessed_ccr5_bioactivity_data.csv', index=False)\npreprocessed_df_kat5.to_csv('preprocessed_kat5_bioactivity_data.csv', index=False)",
      "metadata": {
        "source_hash": "b22eb7cf",
        "execution_start": 1690093702549,
        "execution_millis": 7,
        "deepnote_to_be_reexecuted": false,
        "cell_id": "cd743bc546064844a5fdd002ecf342a4",
        "deepnote_cell_type": "code"
      },
      "outputs": [],
      "execution_count": 94
    },
    {
      "cell_type": "markdown",
      "source": "## Exploratory Data Analysis",
      "metadata": {
        "cell_id": "dcc85a835a5e4a069669d810ab351eff",
        "deepnote_cell_type": "markdown"
      }
    },
    {
      "cell_type": "code",
      "source": "# Import Data if necessary (The target selection code runtime varies)\ntry:\n    preprocessed_df_protease\nexcept NameError:\n    preprocessed_df_protease = pd.read_csv('preprocessed_protease_bioactivity_data.csv')\n\ntry:\n    preprocessed_df_ccr5\nexcept NameError:\n    preprocessed_df_ccr5 = pd.read_csv('preprocessed_ccr5_bioactivity_data.csv')\n\ntry:\n    preprocessed_df_kat5\nexcept NameError:\n    preprocessed_df_kat5 = pd.read_csv('preprocessed_kat5_bioactivity_data.csv')",
      "metadata": {
        "source_hash": "d04ed73b",
        "execution_start": 1690098440229,
        "execution_millis": 7,
        "deepnote_to_be_reexecuted": false,
        "cell_id": "b5b7e41168564f80a4f0c10f817fc8ba",
        "deepnote_cell_type": "code"
      },
      "outputs": [],
      "execution_count": 51
    },
    {
      "cell_type": "markdown",
      "source": "### Calculate Lipinski Descriptors",
      "metadata": {
        "cell_id": "2d0579760c8d48b2aff1c410aa7fa2d3",
        "deepnote_cell_type": "markdown"
      }
    },
    {
      "cell_type": "code",
      "source": "def lipinski(smiles, verbose=False):\n\n    moldata= []\n    for elem in smiles:\n        mol=Chem.MolFromSmiles(elem) \n        moldata.append(mol)\n       \n    baseData= np.arange(1,1)\n    i=0  \n    for mol in moldata:        \n       \n        desc_MolWt = Descriptors.MolWt(mol)\n        desc_MolLogP = Descriptors.MolLogP(mol)\n        desc_NumHDonors = Lipinski.NumHDonors(mol)\n        desc_NumHAcceptors = Lipinski.NumHAcceptors(mol)\n           \n        row = np.array([desc_MolWt,\n                        desc_MolLogP,\n                        desc_NumHDonors,\n                        desc_NumHAcceptors])   \n    \n        if(i==0):\n            baseData=row\n        else:\n            baseData=np.vstack([baseData, row])\n        i=i+1      \n    \n    columnNames=[\"MW\",\"LogP\",\"NumHDonors\",\"NumHAcceptors\"]   \n    descriptors = pd.DataFrame(data=baseData,columns=columnNames)\n    \n    return descriptors",
      "metadata": {
        "source_hash": "5c33447d",
        "execution_start": 1690098442092,
        "execution_millis": 14,
        "deepnote_to_be_reexecuted": false,
        "cell_id": "bb4d10dbe44945bc990591f1497be9e9",
        "deepnote_cell_type": "code"
      },
      "outputs": [],
      "execution_count": 52
    },
    {
      "cell_type": "code",
      "source": "protease_lipinski = lipinski(preprocessed_df_protease.canonical_smiles)\nprotease_lipinski_and_standard = pd.concat([preprocessed_df_protease,protease_lipinski], axis=1)\n\nccr5_lipinski = lipinski(preprocessed_df_ccr5.canonical_smiles)\nccr5_lipinski_and_standard = pd.concat([preprocessed_df_ccr5,ccr5_lipinski], axis=1)\n\nkat5_lipinski = lipinski(preprocessed_df_kat5.canonical_smiles)\nkat5_lipinski_and_standard = pd.concat([preprocessed_df_kat5,kat5_lipinski], axis=1)",
      "metadata": {
        "source_hash": "23c81559",
        "execution_start": 1690098444381,
        "execution_millis": 3704,
        "deepnote_to_be_reexecuted": false,
        "cell_id": "3ce9dfa6821e452fb7a45c7d07926da3",
        "deepnote_cell_type": "code"
      },
      "outputs": [],
      "execution_count": 53
    },
    {
      "cell_type": "markdown",
      "source": "### Change IC50 to pIC50",
      "metadata": {
        "cell_id": "515bc732c9a446839fd3f3b963a3130c",
        "deepnote_cell_type": "markdown"
      }
    },
    {
      "cell_type": "code",
      "source": "def pIC50(input):\n    pIC50 = []\n\n    for i in input['standard_value_norm']:\n        molar = i*(10**-9) # Converts nM to M\n        pIC50.append(-np.log10(molar))\n\n    input['pIC50'] = pIC50\n    x = input.drop('standard_value_norm', 1)\n        \n    return x",
      "metadata": {
        "source_hash": "7345d465",
        "execution_start": 1690098450450,
        "execution_millis": 10,
        "deepnote_to_be_reexecuted": false,
        "cell_id": "e05d5f30aa9b45b8886b4adf456d62ec",
        "deepnote_cell_type": "code"
      },
      "outputs": [],
      "execution_count": 54
    },
    {
      "cell_type": "code",
      "source": "def norm_value(input):\n    norm = []\n\n    for i in input['standard_value']:\n        if i > 100000000:\n          i = 100000000\n        norm.append(i)\n\n    input['standard_value_norm'] = norm\n    x = input.drop('standard_value', 1)\n        \n    return x",
      "metadata": {
        "source_hash": "b62bbecd",
        "execution_start": 1690098452181,
        "execution_millis": 17,
        "deepnote_to_be_reexecuted": false,
        "cell_id": "57b879968a8847d78d803cec41540fc2",
        "deepnote_cell_type": "code"
      },
      "outputs": [],
      "execution_count": 55
    },
    {
      "cell_type": "code",
      "source": "protease_norm = norm_value(protease_lipinski_and_standard)\nccr5_norm = norm_value(ccr5_lipinski_and_standard)\nkat5_norm = norm_value(kat5_lipinski_and_standard)",
      "metadata": {
        "source_hash": "a2981ba0",
        "execution_start": 1690098453434,
        "execution_millis": 14,
        "deepnote_to_be_reexecuted": false,
        "cell_id": "7f9f8b32f49d452b89906f929004ef6b",
        "deepnote_cell_type": "code"
      },
      "outputs": [],
      "execution_count": 56
    },
    {
      "cell_type": "code",
      "source": "protease_final = pIC50(protease_norm)\nccr5_final = pIC50(ccr5_norm)\nkat5_final = pIC50(kat5_norm)",
      "metadata": {
        "source_hash": "d5b0294",
        "execution_start": 1690098458849,
        "execution_millis": 18,
        "deepnote_to_be_reexecuted": false,
        "cell_id": "ec2bc634eba54027bfc530b7efdf28e2",
        "deepnote_cell_type": "code"
      },
      "outputs": [],
      "execution_count": 57
    },
    {
      "cell_type": "markdown",
      "source": "## Save Data with Lipinski Descriptors and pIC50 Values",
      "metadata": {
        "cell_id": "61819c54ca274ef5bf23431e8d235984",
        "deepnote_cell_type": "markdown"
      }
    },
    {
      "cell_type": "code",
      "source": "protease_final.to_csv('protease_final.csv', index=False)\nccr5_final.to_csv('ccr5_final.csv', index=False)\nkat5_final.to_csv('kat5_final.csv', index=False)",
      "metadata": {
        "source_hash": "5a86c546",
        "execution_start": 1690100412649,
        "execution_millis": 76,
        "deepnote_to_be_reexecuted": false,
        "cell_id": "c170551103644a3586dc7ce7e83cefc1",
        "deepnote_cell_type": "code"
      },
      "outputs": [],
      "execution_count": 59
    },
    {
      "cell_type": "markdown",
      "source": "<a style='text-decoration:none;line-height:16px;display:flex;color:#5B5B62;padding:10px;justify-content:end;' href='https://deepnote.com?utm_source=created-in-deepnote-cell&projectId=f6035b11-f7b4-4c22-8497-513296c81550' target=\"_blank\">\n<img alt='Created in deepnote.com' style='display:inline;max-height:16px;margin:0px;margin-right:7.5px;' src='data:image/svg+xml;base64,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' > </img>\nCreated in <span style='font-weight:600;margin-left:4px;'>Deepnote</span></a>",
      "metadata": {
        "created_in_deepnote_cell": true,
        "deepnote_cell_type": "markdown"
      }
    }
  ],
  "nbformat": 4,
  "nbformat_minor": 0,
  "metadata": {
    "deepnote": {},
    "orig_nbformat": 2,
    "deepnote_notebook_id": "e4736c4adeee451faa975de0f50d7fe3",
    "deepnote_execution_queue": []
  }
}