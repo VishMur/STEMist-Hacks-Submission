{
  "cells": [
    {
      "cell_type": "code",
      "source": "! pip install lazypredict",
      "metadata": {
        "source_hash": "f58ca82b",
        "execution_start": 1690130467887,
        "execution_millis": 9738,
        "deepnote_to_be_reexecuted": false,
        "cell_id": "2b6e799020cd49dfb2e6abd47f473032",
        "deepnote_cell_type": "code"
      },
      "outputs": [
        {
          "name": "stdout",
          "text": "Collecting lazypredict\n  Downloading lazypredict-0.2.12-py2.py3-none-any.whl (12 kB)\nRequirement already satisfied: scikit-learn in /shared-libs/python3.9/py/lib/python3.9/site-packages (from lazypredict) (1.1.2)\nCollecting lightgbm\n  Downloading lightgbm-4.0.0-py3-none-manylinux_2_28_x86_64.whl (3.0 MB)\n\u001b[2K     \u001b[90m━━━━━━━━━━━━━━━━━━━━━━━━━━━━━━━━━━━━━━━━\u001b[0m \u001b[32m3.0/3.0 MB\u001b[0m \u001b[31m84.6 MB/s\u001b[0m eta \u001b[36m0:00:00\u001b[0m\n\u001b[?25hCollecting xgboost\n  Downloading xgboost-1.7.6-py3-none-manylinux2014_x86_64.whl (200.3 MB)\n\u001b[2K     \u001b[90m━━━━━━━━━━━━━━━━━━━━━━━━━━━━━━━━━━━━━━━\u001b[0m \u001b[32m200.3/200.3 MB\u001b[0m \u001b[31m9.7 MB/s\u001b[0m eta \u001b[36m0:00:00\u001b[0m\n\u001b[?25hRequirement already satisfied: pandas in /shared-libs/python3.9/py/lib/python3.9/site-packages (from lazypredict) (1.2.5)\nRequirement already satisfied: click in /shared-libs/python3.9/py/lib/python3.9/site-packages (from lazypredict) (8.1.3)\nRequirement already satisfied: tqdm in /shared-libs/python3.9/py/lib/python3.9/site-packages (from lazypredict) (4.64.1)\nRequirement already satisfied: joblib in /shared-libs/python3.9/py/lib/python3.9/site-packages (from lazypredict) (1.2.0)\nRequirement already satisfied: numpy in /shared-libs/python3.9/py/lib/python3.9/site-packages (from lightgbm->lazypredict) (1.23.4)\nRequirement already satisfied: scipy in /shared-libs/python3.9/py/lib/python3.9/site-packages (from lightgbm->lazypredict) (1.9.3)\nRequirement already satisfied: python-dateutil>=2.7.3 in /shared-libs/python3.9/py-core/lib/python3.9/site-packages (from pandas->lazypredict) (2.8.2)\nRequirement already satisfied: pytz>=2017.3 in /shared-libs/python3.9/py/lib/python3.9/site-packages (from pandas->lazypredict) (2022.5)\nRequirement already satisfied: threadpoolctl>=2.0.0 in /shared-libs/python3.9/py/lib/python3.9/site-packages (from scikit-learn->lazypredict) (3.1.0)\nRequirement already satisfied: six>=1.5 in /shared-libs/python3.9/py-core/lib/python3.9/site-packages (from python-dateutil>=2.7.3->pandas->lazypredict) (1.16.0)\nInstalling collected packages: xgboost, lightgbm, lazypredict\nSuccessfully installed lazypredict-0.2.12 lightgbm-4.0.0 xgboost-1.7.6\n\u001b[33mWARNING: You are using pip version 22.0.4; however, version 23.2.1 is available.\nYou should consider upgrading via the '/root/venv/bin/python -m pip install --upgrade pip' command.\u001b[0m\u001b[33m\n\u001b[0m",
          "output_type": "stream"
        }
      ],
      "execution_count": 2
    },
    {
      "cell_type": "code",
      "source": "import pandas as pd\nimport seaborn as sns\nimport matplotlib.pyplot as plt\nimport numpy as np\n\nfrom sklearn.model_selection import train_test_split\nfrom sklearn.ensemble import RandomForestRegressor\nfrom sklearn.utils import all_estimators\nfrom sklearn.base import RegressorMixin\nfrom sklearn.experimental import enable_halving_search_cv\nfrom sklearn.model_selection import HalvingRandomSearchCV\nfrom sklearn.tree import DecisionTreeRegressor\nfrom sklearn.feature_selection import VarianceThreshold\n\nimport lazypredict\nfrom lazypredict.Supervised import LazyRegressor\n\nfrom random import randint",
      "metadata": {
        "source_hash": "876a9728",
        "execution_start": 1690135535869,
        "execution_millis": 12,
        "deepnote_to_be_reexecuted": false,
        "cell_id": "9520181d2a2d4866a35d8caa3ee9a788",
        "deepnote_cell_type": "code"
      },
      "outputs": [],
      "execution_count": 65
    },
    {
      "cell_type": "markdown",
      "source": "## Pubchem Fingerprints\n\nThe earlier Lipinski Descriptors give an overview of how drug-like a molecule is, showing how suitable a substance could be for oral consumption.The simplicity of these descriptors makes them appropriate to conduct exploratory data analysis with. Pubchem fingerprints, on the other hand, can give a more microscopic view of chemicals, as they have hundreds of descriptors for each indiividual molecule in a protein, making them ideal for ML models to learn from.",
      "metadata": {
        "cell_id": "fa338818f82c43339db58f30456685b6",
        "deepnote_cell_type": "markdown"
      }
    },
    {
      "cell_type": "code",
      "source": "# Extract Datasets containing fingerprints\ndf_protease = pd.read_csv('protease_pubchem_fp.csv')\ndf_kat5 = pd.read_csv('kat5_pubchem_fp.csv')\ndf_ccr5 = pd.read_csv('ccr5_pubchem_fp.csv')",
      "metadata": {
        "source_hash": "be8e6219",
        "execution_start": 1690130482734,
        "execution_millis": 239,
        "deepnote_to_be_reexecuted": false,
        "cell_id": "59df10420fb14e0b92ad2ae18b54c9dd",
        "deepnote_cell_type": "code"
      },
      "outputs": [],
      "execution_count": 4
    },
    {
      "cell_type": "markdown",
      "source": "## CCR Fingerprints",
      "metadata": {
        "cell_id": "916f18597f9b473380111de4f09e2b41",
        "deepnote_cell_type": "markdown"
      }
    },
    {
      "cell_type": "code",
      "source": "X = df_ccr5.drop('pIC50', axis=1)\nX",
      "metadata": {
        "source_hash": "94c87d2",
        "execution_start": 1690130482969,
        "execution_millis": 572,
        "deepnote_table_state": {
          "sortBy": [],
          "filters": [],
          "pageSize": 10,
          "pageIndex": 300
        },
        "deepnote_table_loading": false,
        "deepnote_to_be_reexecuted": false,
        "cell_id": "c4e5688d75464367a0de9f277036bb02",
        "deepnote_cell_type": "code"
      },
      "outputs": [
        {
          "output_type": "execute_result",
          "execution_count": 5,
          "data": {
            "application/vnd.deepnote.dataframe.v3+json": {
              "column_count": 881,
              "row_count": 2961,
              "columns": [
                {
                  "name": "PubchemFP0",
                  "dtype": "int64",
                  "stats": {
                    "unique_count": 1,
                    "nan_count": 0,
                    "min": "1",
                    "max": "1",
                    "histogram": [
                      {
                        "bin_start": 0.5,
                        "bin_end": 0.6,
                        "count": 0
                      },
                      {
                        "bin_start": 0.6,
                        "bin_end": 0.7,
                        "count": 0
                      },
                      {
                        "bin_start": 0.7,
                        "bin_end": 0.8,
                        "count": 0
                      },
                      {
                        "bin_start": 0.8,
                        "bin_end": 0.9,
                        "count": 0
                      },
                      {
                        "bin_start": 0.9,
                        "bin_end": 1,
                        "count": 0
                      },
                      {
                        "bin_start": 1,
                        "bin_end": 1.1,
                        "count": 2961
                      },
                      {
                        "bin_start": 1.1,
                        "bin_end": 1.2000000000000002,
                        "count": 0
                      },
                      {
                        "bin_start": 1.2000000000000002,
                        "bin_end": 1.3,
                        "count": 0
                      },
                      {
                        "bin_start": 1.3,
                        "bin_end": 1.4,
                        "count": 0
                      },
                      {
                        "bin_start": 1.4,
                        "bin_end": 1.5,
                        "count": 0
                      }
                    ]
                  }
                },
                {
                  "name": "PubchemFP1",
                  "dtype": "int64",
                  "stats": {
                    "unique_count": 1,
                    "nan_count": 0,
                    "min": "1",
                    "max": "1",
                    "histogram": [
                      {
                        "bin_start": 0.5,
                        "bin_end": 0.6,
                        "count": 0
                      },
                      {
                        "bin_start": 0.6,
                        "bin_end": 0.7,
                        "count": 0
                      },
                      {
                        "bin_start": 0.7,
                        "bin_end": 0.8,
                        "count": 0
                      },
                      {
                        "bin_start": 0.8,
                        "bin_end": 0.9,
                        "count": 0
                      },
                      {
                        "bin_start": 0.9,
                        "bin_end": 1,
                        "count": 0
                      },
                      {
                        "bin_start": 1,
                        "bin_end": 1.1,
                        "count": 2961
                      },
                      {
                        "bin_start": 1.1,
                        "bin_end": 1.2000000000000002,
                        "count": 0
                      },
                      {
                        "bin_start": 1.2000000000000002,
                        "bin_end": 1.3,
                        "count": 0
                      },
                      {
                        "bin_start": 1.3,
                        "bin_end": 1.4,
                        "count": 0
                      },
                      {
                        "bin_start": 1.4,
                        "bin_end": 1.5,
                        "count": 0
                      }
                    ]
                  }
                },
                {
                  "name": "PubchemFP2",
                  "dtype": "int64",
                  "stats": {
                    "unique_count": 2,
                    "nan_count": 0,
                    "min": "0",
                    "max": "1",
                    "histogram": [
                      {
                        "bin_start": 0,
                        "bin_end": 0.1,
                        "count": 90
                      },
                      {
                        "bin_start": 0.1,
                        "bin_end": 0.2,
                        "count": 0
                      },
                      {
                        "bin_start": 0.2,
                        "bin_end": 0.30000000000000004,
                        "count": 0
                      },
                      {
                        "bin_start": 0.30000000000000004,
                        "bin_end": 0.4,
                        "count": 0
                      },
                      {
                        "bin_start": 0.4,
                        "bin_end": 0.5,
                        "count": 0
                      },
                      {
                        "bin_start": 0.5,
                        "bin_end": 0.6000000000000001,
                        "count": 0
                      },
                      {
                        "bin_start": 0.6000000000000001,
                        "bin_end": 0.7000000000000001,
                        "count": 0
                      },
                      {
                        "bin_start": 0.7000000000000001,
                        "bin_end": 0.8,
                        "count": 0
                      },
                      {
                        "bin_start": 0.8,
                        "bin_end": 0.9,
                        "count": 0
                      },
                      {
                        "bin_start": 0.9,
                        "bin_end": 1,
                        "count": 2871
                      }
                    ]
                  }
                },
                {
                  "name": "PubchemFP3",
                  "dtype": "int64",
                  "stats": {
                    "unique_count": 2,
                    "nan_count": 0,
                    "min": "0",
                    "max": "1",
                    "histogram": [
                      {
                        "bin_start": 0,
                        "bin_end": 0.1,
                        "count": 375
                      },
                      {
                        "bin_start": 0.1,
                        "bin_end": 0.2,
                        "count": 0
                      },
                      {
                        "bin_start": 0.2,
                        "bin_end": 0.30000000000000004,
                        "count": 0
                      },
                      {
                        "bin_start": 0.30000000000000004,
                        "bin_end": 0.4,
                        "count": 0
                      },
                      {
                        "bin_start": 0.4,
                        "bin_end": 0.5,
                        "count": 0
                      },
                      {
                        "bin_start": 0.5,
                        "bin_end": 0.6000000000000001,
                        "count": 0
                      },
                      {
                        "bin_start": 0.6000000000000001,
                        "bin_end": 0.7000000000000001,
                        "count": 0
                      },
                      {
                        "bin_start": 0.7000000000000001,
                        "bin_end": 0.8,
                        "count": 0
                      },
                      {
                        "bin_start": 0.8,
                        "bin_end": 0.9,
                        "count": 0
                      },
                      {
                        "bin_start": 0.9,
                        "bin_end": 1,
                        "count": 2586
                      }
                    ]
                  }
                },
                {
                  "name": "PubchemFP4",
                  "dtype": "int64",
                  "stats": {
                    "unique_count": 1,
                    "nan_count": 0,
                    "min": "0",
                    "max": "0",
                    "histogram": [
                      {
                        "bin_start": -0.5,
                        "bin_end": -0.4,
                        "count": 0
                      },
                      {
                        "bin_start": -0.4,
                        "bin_end": -0.3,
                        "count": 0
                      },
                      {
                        "bin_start": -0.3,
                        "bin_end": -0.19999999999999996,
                        "count": 0
                      },
                      {
                        "bin_start": -0.19999999999999996,
                        "bin_end": -0.09999999999999998,
                        "count": 0
                      },
                      {
                        "bin_start": -0.09999999999999998,
                        "bin_end": 0,
                        "count": 0
                      },
                      {
                        "bin_start": 0,
                        "bin_end": 0.10000000000000009,
                        "count": 2961
                      },
                      {
                        "bin_start": 0.10000000000000009,
                        "bin_end": 0.20000000000000007,
                        "count": 0
                      },
                      {
                        "bin_start": 0.20000000000000007,
                        "bin_end": 0.30000000000000004,
                        "count": 0
                      },
                      {
                        "bin_start": 0.30000000000000004,
                        "bin_end": 0.4,
                        "count": 0
                      },
                      {
                        "bin_start": 0.4,
                        "bin_end": 0.5,
                        "count": 0
                      }
                    ]
                  }
                },
                {
                  "name": "PubchemFP5",
                  "dtype": "int64",
                  "stats": {
                    "unique_count": 1,
                    "nan_count": 0,
                    "min": "0",
                    "max": "0",
                    "histogram": [
                      {
                        "bin_start": -0.5,
                        "bin_end": -0.4,
                        "count": 0
                      },
                      {
                        "bin_start": -0.4,
                        "bin_end": -0.3,
                        "count": 0
                      },
                      {
                        "bin_start": -0.3,
                        "bin_end": -0.19999999999999996,
                        "count": 0
                      },
                      {
                        "bin_start": -0.19999999999999996,
                        "bin_end": -0.09999999999999998,
                        "count": 0
                      },
                      {
                        "bin_start": -0.09999999999999998,
                        "bin_end": 0,
                        "count": 0
                      },
                      {
                        "bin_start": 0,
                        "bin_end": 0.10000000000000009,
                        "count": 2961
                      },
                      {
                        "bin_start": 0.10000000000000009,
                        "bin_end": 0.20000000000000007,
                        "count": 0
                      },
                      {
                        "bin_start": 0.20000000000000007,
                        "bin_end": 0.30000000000000004,
                        "count": 0
                      },
                      {
                        "bin_start": 0.30000000000000004,
                        "bin_end": 0.4,
                        "count": 0
                      },
                      {
                        "bin_start": 0.4,
                        "bin_end": 0.5,
                        "count": 0
                      }
                    ]
                  }
                },
                {
                  "name": "PubchemFP6",
                  "dtype": "int64",
                  "stats": {
                    "unique_count": 1,
                    "nan_count": 0,
                    "min": "0",
                    "max": "0",
                    "histogram": [
                      {
                        "bin_start": -0.5,
                        "bin_end": -0.4,
                        "count": 0
                      },
                      {
                        "bin_start": -0.4,
                        "bin_end": -0.3,
                        "count": 0
                      },
                      {
                        "bin_start": -0.3,
                        "bin_end": -0.19999999999999996,
                        "count": 0
                      },
                      {
                        "bin_start": -0.19999999999999996,
                        "bin_end": -0.09999999999999998,
                        "count": 0
                      },
                      {
                        "bin_start": -0.09999999999999998,
                        "bin_end": 0,
                        "count": 0
                      },
                      {
                        "bin_start": 0,
                        "bin_end": 0.10000000000000009,
                        "count": 2961
                      },
                      {
                        "bin_start": 0.10000000000000009,
                        "bin_end": 0.20000000000000007,
                        "count": 0
                      },
                      {
                        "bin_start": 0.20000000000000007,
                        "bin_end": 0.30000000000000004,
                        "count": 0
                      },
                      {
                        "bin_start": 0.30000000000000004,
                        "bin_end": 0.4,
                        "count": 0
                      },
                      {
                        "bin_start": 0.4,
                        "bin_end": 0.5,
                        "count": 0
                      }
                    ]
                  }
                },
                {
                  "name": "PubchemFP7",
                  "dtype": "int64",
                  "stats": {
                    "unique_count": 1,
                    "nan_count": 0,
                    "min": "0",
                    "max": "0",
                    "histogram": [
                      {
                        "bin_start": -0.5,
                        "bin_end": -0.4,
                        "count": 0
                      },
                      {
                        "bin_start": -0.4,
                        "bin_end": -0.3,
                        "count": 0
                      },
                      {
                        "bin_start": -0.3,
                        "bin_end": -0.19999999999999996,
                        "count": 0
                      },
                      {
                        "bin_start": -0.19999999999999996,
                        "bin_end": -0.09999999999999998,
                        "count": 0
                      },
                      {
                        "bin_start": -0.09999999999999998,
                        "bin_end": 0,
                        "count": 0
                      },
                      {
                        "bin_start": 0,
                        "bin_end": 0.10000000000000009,
                        "count": 2961
                      },
                      {
                        "bin_start": 0.10000000000000009,
                        "bin_end": 0.20000000000000007,
                        "count": 0
                      },
                      {
                        "bin_start": 0.20000000000000007,
                        "bin_end": 0.30000000000000004,
                        "count": 0
                      },
                      {
                        "bin_start": 0.30000000000000004,
                        "bin_end": 0.4,
                        "count": 0
                      },
                      {
                        "bin_start": 0.4,
                        "bin_end": 0.5,
                        "count": 0
                      }
                    ]
                  }
                },
                {
                  "name": "PubchemFP8",
                  "dtype": "int64",
                  "stats": {
                    "unique_count": 1,
                    "nan_count": 0,
                    "min": "0",
                    "max": "0",
                    "histogram": [
                      {
                        "bin_start": -0.5,
                        "bin_end": -0.4,
                        "count": 0
                      },
                      {
                        "bin_start": -0.4,
                        "bin_end": -0.3,
                        "count": 0
                      },
                      {
                        "bin_start": -0.3,
                        "bin_end": -0.19999999999999996,
                        "count": 0
                      },
                      {
                        "bin_start": -0.19999999999999996,
                        "bin_end": -0.09999999999999998,
                        "count": 0
                      },
                      {
                        "bin_start": -0.09999999999999998,
                        "bin_end": 0,
                        "count": 0
                      },
                      {
                        "bin_start": 0,
                        "bin_end": 0.10000000000000009,
                        "count": 2961
                      },
                      {
                        "bin_start": 0.10000000000000009,
                        "bin_end": 0.20000000000000007,
                        "count": 0
                      },
                      {
                        "bin_start": 0.20000000000000007,
                        "bin_end": 0.30000000000000004,
                        "count": 0
                      },
                      {
                        "bin_start": 0.30000000000000004,
                        "bin_end": 0.4,
                        "count": 0
                      },
                      {
                        "bin_start": 0.4,
                        "bin_end": 0.5,
                        "count": 0
                      }
                    ]
                  }
                },
                {
                  "name": "PubchemFP9",
                  "dtype": "int64",
                  "stats": {
                    "unique_count": 1,
                    "nan_count": 0,
                    "min": "1",
                    "max": "1",
                    "histogram": [
                      {
                        "bin_start": 0.5,
                        "bin_end": 0.6,
                        "count": 0
                      },
                      {
                        "bin_start": 0.6,
                        "bin_end": 0.7,
                        "count": 0
                      },
                      {
                        "bin_start": 0.7,
                        "bin_end": 0.8,
                        "count": 0
                      },
                      {
                        "bin_start": 0.8,
                        "bin_end": 0.9,
                        "count": 0
                      },
                      {
                        "bin_start": 0.9,
                        "bin_end": 1,
                        "count": 0
                      },
                      {
                        "bin_start": 1,
                        "bin_end": 1.1,
                        "count": 2961
                      },
                      {
                        "bin_start": 1.1,
                        "bin_end": 1.2000000000000002,
                        "count": 0
                      },
                      {
                        "bin_start": 1.2000000000000002,
                        "bin_end": 1.3,
                        "count": 0
                      },
                      {
                        "bin_start": 1.3,
                        "bin_end": 1.4,
                        "count": 0
                      },
                      {
                        "bin_start": 1.4,
                        "bin_end": 1.5,
                        "count": 0
                      }
                    ]
                  }
                },
                {
                  "name": "PubchemFP10",
                  "dtype": "int64",
                  "stats": {
                    "unique_count": 1,
                    "nan_count": 0,
                    "min": "1",
                    "max": "1",
                    "histogram": [
                      {
                        "bin_start": 0.5,
                        "bin_end": 0.6,
                        "count": 0
                      },
                      {
                        "bin_start": 0.6,
                        "bin_end": 0.7,
                        "count": 0
                      },
                      {
                        "bin_start": 0.7,
                        "bin_end": 0.8,
                        "count": 0
                      },
                      {
                        "bin_start": 0.8,
                        "bin_end": 0.9,
                        "count": 0
                      },
                      {
                        "bin_start": 0.9,
                        "bin_end": 1,
                        "count": 0
                      },
                      {
                        "bin_start": 1,
                        "bin_end": 1.1,
                        "count": 2961
                      },
                      {
                        "bin_start": 1.1,
                        "bin_end": 1.2000000000000002,
                        "count": 0
                      },
                      {
                        "bin_start": 1.2000000000000002,
                        "bin_end": 1.3,
                        "count": 0
                      },
                      {
                        "bin_start": 1.3,
                        "bin_end": 1.4,
                        "count": 0
                      },
                      {
                        "bin_start": 1.4,
                        "bin_end": 1.5,
                        "count": 0
                      }
                    ]
                  }
                },
                {
                  "name": "PubchemFP11",
                  "dtype": "int64",
                  "stats": {
                    "unique_count": 2,
                    "nan_count": 0,
                    "min": "0",
                    "max": "1",
                    "histogram": [
                      {
                        "bin_start": 0,
                        "bin_end": 0.1,
                        "count": 1
                      },
                      {
                        "bin_start": 0.1,
                        "bin_end": 0.2,
                        "count": 0
                      },
                      {
                        "bin_start": 0.2,
                        "bin_end": 0.30000000000000004,
                        "count": 0
                      },
                      {
                        "bin_start": 0.30000000000000004,
                        "bin_end": 0.4,
                        "count": 0
                      },
                      {
                        "bin_start": 0.4,
                        "bin_end": 0.5,
                        "count": 0
                      },
                      {
                        "bin_start": 0.5,
                        "bin_end": 0.6000000000000001,
                        "count": 0
                      },
                      {
                        "bin_start": 0.6000000000000001,
                        "bin_end": 0.7000000000000001,
                        "count": 0
                      },
                      {
                        "bin_start": 0.7000000000000001,
                        "bin_end": 0.8,
                        "count": 0
                      },
                      {
                        "bin_start": 0.8,
                        "bin_end": 0.9,
                        "count": 0
                      },
                      {
                        "bin_start": 0.9,
                        "bin_end": 1,
                        "count": 2960
                      }
                    ]
                  }
                },
                {
                  "name": "PubchemFP12",
                  "dtype": "int64",
                  "stats": {
                    "unique_count": 2,
                    "nan_count": 0,
                    "min": "0",
                    "max": "1",
                    "histogram": [
                      {
                        "bin_start": 0,
                        "bin_end": 0.1,
                        "count": 84
                      },
                      {
                        "bin_start": 0.1,
                        "bin_end": 0.2,
                        "count": 0
                      },
                      {
                        "bin_start": 0.2,
                        "bin_end": 0.30000000000000004,
                        "count": 0
                      },
                      {
                        "bin_start": 0.30000000000000004,
                        "bin_end": 0.4,
                        "count": 0
                      },
                      {
                        "bin_start": 0.4,
                        "bin_end": 0.5,
                        "count": 0
                      },
                      {
                        "bin_start": 0.5,
                        "bin_end": 0.6000000000000001,
                        "count": 0
                      },
                      {
                        "bin_start": 0.6000000000000001,
                        "bin_end": 0.7000000000000001,
                        "count": 0
                      },
                      {
                        "bin_start": 0.7000000000000001,
                        "bin_end": 0.8,
                        "count": 0
                      },
                      {
                        "bin_start": 0.8,
                        "bin_end": 0.9,
                        "count": 0
                      },
                      {
                        "bin_start": 0.9,
                        "bin_end": 1,
                        "count": 2877
                      }
                    ]
                  }
                },
                {
                  "name": "PubchemFP13",
                  "dtype": "int64",
                  "stats": {
                    "unique_count": 2,
                    "nan_count": 0,
                    "min": "0",
                    "max": "1",
                    "histogram": [
                      {
                        "bin_start": 0,
                        "bin_end": 0.1,
                        "count": 1712
                      },
                      {
                        "bin_start": 0.1,
                        "bin_end": 0.2,
                        "count": 0
                      },
                      {
                        "bin_start": 0.2,
                        "bin_end": 0.30000000000000004,
                        "count": 0
                      },
                      {
                        "bin_start": 0.30000000000000004,
                        "bin_end": 0.4,
                        "count": 0
                      },
                      {
                        "bin_start": 0.4,
                        "bin_end": 0.5,
                        "count": 0
                      },
                      {
                        "bin_start": 0.5,
                        "bin_end": 0.6000000000000001,
                        "count": 0
                      },
                      {
                        "bin_start": 0.6000000000000001,
                        "bin_end": 0.7000000000000001,
                        "count": 0
                      },
                      {
                        "bin_start": 0.7000000000000001,
                        "bin_end": 0.8,
                        "count": 0
                      },
                      {
                        "bin_start": 0.8,
                        "bin_end": 0.9,
                        "count": 0
                      },
                      {
                        "bin_start": 0.9,
                        "bin_end": 1,
                        "count": 1249
                      }
                    ]
                  }
                },
                {
                  "name": "PubchemFP14",
                  "dtype": "int64",
                  "stats": {
                    "unique_count": 2,
                    "nan_count": 0,
                    "min": "0",
                    "max": "1",
                    "histogram": [
                      {
                        "bin_start": 0,
                        "bin_end": 0.1,
                        "count": 16
                      },
                      {
                        "bin_start": 0.1,
                        "bin_end": 0.2,
                        "count": 0
                      },
                      {
                        "bin_start": 0.2,
                        "bin_end": 0.30000000000000004,
                        "count": 0
                      },
                      {
                        "bin_start": 0.30000000000000004,
                        "bin_end": 0.4,
                        "count": 0
                      },
                      {
                        "bin_start": 0.4,
                        "bin_end": 0.5,
                        "count": 0
                      },
                      {
                        "bin_start": 0.5,
                        "bin_end": 0.6000000000000001,
                        "count": 0
                      },
                      {
                        "bin_start": 0.6000000000000001,
                        "bin_end": 0.7000000000000001,
                        "count": 0
                      },
                      {
                        "bin_start": 0.7000000000000001,
                        "bin_end": 0.8,
                        "count": 0
                      },
                      {
                        "bin_start": 0.8,
                        "bin_end": 0.9,
                        "count": 0
                      },
                      {
                        "bin_start": 0.9,
                        "bin_end": 1,
                        "count": 2945
                      }
                    ]
                  }
                },
                {
                  "name": "PubchemFP15",
                  "dtype": "int64",
                  "stats": {
                    "unique_count": 2,
                    "nan_count": 0,
                    "min": "0",
                    "max": "1",
                    "histogram": [
                      {
                        "bin_start": 0,
                        "bin_end": 0.1,
                        "count": 110
                      },
                      {
                        "bin_start": 0.1,
                        "bin_end": 0.2,
                        "count": 0
                      },
                      {
                        "bin_start": 0.2,
                        "bin_end": 0.30000000000000004,
                        "count": 0
                      },
                      {
                        "bin_start": 0.30000000000000004,
                        "bin_end": 0.4,
                        "count": 0
                      },
                      {
                        "bin_start": 0.4,
                        "bin_end": 0.5,
                        "count": 0
                      },
                      {
                        "bin_start": 0.5,
                        "bin_end": 0.6000000000000001,
                        "count": 0
                      },
                      {
                        "bin_start": 0.6000000000000001,
                        "bin_end": 0.7000000000000001,
                        "count": 0
                      },
                      {
                        "bin_start": 0.7000000000000001,
                        "bin_end": 0.8,
                        "count": 0
                      },
                      {
                        "bin_start": 0.8,
                        "bin_end": 0.9,
                        "count": 0
                      },
                      {
                        "bin_start": 0.9,
                        "bin_end": 1,
                        "count": 2851
                      }
                    ]
                  }
                },
                {
                  "name": "PubchemFP16",
                  "dtype": "int64",
                  "stats": {
                    "unique_count": 2,
                    "nan_count": 0,
                    "min": "0",
                    "max": "1",
                    "histogram": [
                      {
                        "bin_start": 0,
                        "bin_end": 0.1,
                        "count": 1278
                      },
                      {
                        "bin_start": 0.1,
                        "bin_end": 0.2,
                        "count": 0
                      },
                      {
                        "bin_start": 0.2,
                        "bin_end": 0.30000000000000004,
                        "count": 0
                      },
                      {
                        "bin_start": 0.30000000000000004,
                        "bin_end": 0.4,
                        "count": 0
                      },
                      {
                        "bin_start": 0.4,
                        "bin_end": 0.5,
                        "count": 0
                      },
                      {
                        "bin_start": 0.5,
                        "bin_end": 0.6000000000000001,
                        "count": 0
                      },
                      {
                        "bin_start": 0.6000000000000001,
                        "bin_end": 0.7000000000000001,
                        "count": 0
                      },
                      {
                        "bin_start": 0.7000000000000001,
                        "bin_end": 0.8,
                        "count": 0
                      },
                      {
                        "bin_start": 0.8,
                        "bin_end": 0.9,
                        "count": 0
                      },
                      {
                        "bin_start": 0.9,
                        "bin_end": 1,
                        "count": 1683
                      }
                    ]
                  }
                },
                {
                  "name": "PubchemFP17",
                  "dtype": "int64",
                  "stats": {
                    "unique_count": 2,
                    "nan_count": 0,
                    "min": "0",
                    "max": "1",
                    "histogram": [
                      {
                        "bin_start": 0,
                        "bin_end": 0.1,
                        "count": 2931
                      },
                      {
                        "bin_start": 0.1,
                        "bin_end": 0.2,
                        "count": 0
                      },
                      {
                        "bin_start": 0.2,
                        "bin_end": 0.30000000000000004,
                        "count": 0
                      },
                      {
                        "bin_start": 0.30000000000000004,
                        "bin_end": 0.4,
                        "count": 0
                      },
                      {
                        "bin_start": 0.4,
                        "bin_end": 0.5,
                        "count": 0
                      },
                      {
                        "bin_start": 0.5,
                        "bin_end": 0.6000000000000001,
                        "count": 0
                      },
                      {
                        "bin_start": 0.6000000000000001,
                        "bin_end": 0.7000000000000001,
                        "count": 0
                      },
                      {
                        "bin_start": 0.7000000000000001,
                        "bin_end": 0.8,
                        "count": 0
                      },
                      {
                        "bin_start": 0.8,
                        "bin_end": 0.9,
                        "count": 0
                      },
                      {
                        "bin_start": 0.9,
                        "bin_end": 1,
                        "count": 30
                      }
                    ]
                  }
                },
                {
                  "name": "PubchemFP18",
                  "dtype": "int64",
                  "stats": {
                    "unique_count": 2,
                    "nan_count": 0,
                    "min": "0",
                    "max": "1",
                    "histogram": [
                      {
                        "bin_start": 0,
                        "bin_end": 0.1,
                        "count": 94
                      },
                      {
                        "bin_start": 0.1,
                        "bin_end": 0.2,
                        "count": 0
                      },
                      {
                        "bin_start": 0.2,
                        "bin_end": 0.30000000000000004,
                        "count": 0
                      },
                      {
                        "bin_start": 0.30000000000000004,
                        "bin_end": 0.4,
                        "count": 0
                      },
                      {
                        "bin_start": 0.4,
                        "bin_end": 0.5,
                        "count": 0
                      },
                      {
                        "bin_start": 0.5,
                        "bin_end": 0.6000000000000001,
                        "count": 0
                      },
                      {
                        "bin_start": 0.6000000000000001,
                        "bin_end": 0.7000000000000001,
                        "count": 0
                      },
                      {
                        "bin_start": 0.7000000000000001,
                        "bin_end": 0.8,
                        "count": 0
                      },
                      {
                        "bin_start": 0.8,
                        "bin_end": 0.9,
                        "count": 0
                      },
                      {
                        "bin_start": 0.9,
                        "bin_end": 1,
                        "count": 2867
                      }
                    ]
                  }
                },
                {
                  "name": "PubchemFP19",
                  "dtype": "int64",
                  "stats": {
                    "unique_count": 2,
                    "nan_count": 0,
                    "min": "0",
                    "max": "1",
                    "histogram": [
                      {
                        "bin_start": 0,
                        "bin_end": 0.1,
                        "count": 643
                      },
                      {
                        "bin_start": 0.1,
                        "bin_end": 0.2,
                        "count": 0
                      },
                      {
                        "bin_start": 0.2,
                        "bin_end": 0.30000000000000004,
                        "count": 0
                      },
                      {
                        "bin_start": 0.30000000000000004,
                        "bin_end": 0.4,
                        "count": 0
                      },
                      {
                        "bin_start": 0.4,
                        "bin_end": 0.5,
                        "count": 0
                      },
                      {
                        "bin_start": 0.5,
                        "bin_end": 0.6000000000000001,
                        "count": 0
                      },
                      {
                        "bin_start": 0.6000000000000001,
                        "bin_end": 0.7000000000000001,
                        "count": 0
                      },
                      {
                        "bin_start": 0.7000000000000001,
                        "bin_end": 0.8,
                        "count": 0
                      },
                      {
                        "bin_start": 0.8,
                        "bin_end": 0.9,
                        "count": 0
                      },
                      {
                        "bin_start": 0.9,
                        "bin_end": 1,
                        "count": 2318
                      }
                    ]
                  }
                },
                {
                  "name": "PubchemFP20",
                  "dtype": "int64",
                  "stats": {
                    "unique_count": 2,
                    "nan_count": 0,
                    "min": "0",
                    "max": "1",
                    "histogram": [
                      {
                        "bin_start": 0,
                        "bin_end": 0.1,
                        "count": 2308
                      },
                      {
                        "bin_start": 0.1,
                        "bin_end": 0.2,
                        "count": 0
                      },
                      {
                        "bin_start": 0.2,
                        "bin_end": 0.30000000000000004,
                        "count": 0
                      },
                      {
                        "bin_start": 0.30000000000000004,
                        "bin_end": 0.4,
                        "count": 0
                      },
                      {
                        "bin_start": 0.4,
                        "bin_end": 0.5,
                        "count": 0
                      },
                      {
                        "bin_start": 0.5,
                        "bin_end": 0.6000000000000001,
                        "count": 0
                      },
                      {
                        "bin_start": 0.6000000000000001,
                        "bin_end": 0.7000000000000001,
                        "count": 0
                      },
                      {
                        "bin_start": 0.7000000000000001,
                        "bin_end": 0.8,
                        "count": 0
                      },
                      {
                        "bin_start": 0.8,
                        "bin_end": 0.9,
                        "count": 0
                      },
                      {
                        "bin_start": 0.9,
                        "bin_end": 1,
                        "count": 653
                      }
                    ]
                  }
                },
                {
                  "name": "PubchemFP21",
                  "dtype": "int64",
                  "stats": {
                    "unique_count": 2,
                    "nan_count": 0,
                    "min": "0",
                    "max": "1",
                    "histogram": [
                      {
                        "bin_start": 0,
                        "bin_end": 0.1,
                        "count": 2946
                      },
                      {
                        "bin_start": 0.1,
                        "bin_end": 0.2,
                        "count": 0
                      },
                      {
                        "bin_start": 0.2,
                        "bin_end": 0.30000000000000004,
                        "count": 0
                      },
                      {
                        "bin_start": 0.30000000000000004,
                        "bin_end": 0.4,
                        "count": 0
                      },
                      {
                        "bin_start": 0.4,
                        "bin_end": 0.5,
                        "count": 0
                      },
                      {
                        "bin_start": 0.5,
                        "bin_end": 0.6000000000000001,
                        "count": 0
                      },
                      {
                        "bin_start": 0.6000000000000001,
                        "bin_end": 0.7000000000000001,
                        "count": 0
                      },
                      {
                        "bin_start": 0.7000000000000001,
                        "bin_end": 0.8,
                        "count": 0
                      },
                      {
                        "bin_start": 0.8,
                        "bin_end": 0.9,
                        "count": 0
                      },
                      {
                        "bin_start": 0.9,
                        "bin_end": 1,
                        "count": 15
                      }
                    ]
                  }
                },
                {
                  "name": "PubchemFP22",
                  "dtype": "int64",
                  "stats": {
                    "unique_count": 2,
                    "nan_count": 0,
                    "min": "0",
                    "max": "1",
                    "histogram": [
                      {
                        "bin_start": 0,
                        "bin_end": 0.1,
                        "count": 2959
                      },
                      {
                        "bin_start": 0.1,
                        "bin_end": 0.2,
                        "count": 0
                      },
                      {
                        "bin_start": 0.2,
                        "bin_end": 0.30000000000000004,
                        "count": 0
                      },
                      {
                        "bin_start": 0.30000000000000004,
                        "bin_end": 0.4,
                        "count": 0
                      },
                      {
                        "bin_start": 0.4,
                        "bin_end": 0.5,
                        "count": 0
                      },
                      {
                        "bin_start": 0.5,
                        "bin_end": 0.6000000000000001,
                        "count": 0
                      },
                      {
                        "bin_start": 0.6000000000000001,
                        "bin_end": 0.7000000000000001,
                        "count": 0
                      },
                      {
                        "bin_start": 0.7000000000000001,
                        "bin_end": 0.8,
                        "count": 0
                      },
                      {
                        "bin_start": 0.8,
                        "bin_end": 0.9,
                        "count": 0
                      },
                      {
                        "bin_start": 0.9,
                        "bin_end": 1,
                        "count": 2
                      }
                    ]
                  }
                },
                {
                  "name": "PubchemFP23",
                  "dtype": "int64",
                  "stats": {
                    "unique_count": 2,
                    "nan_count": 0,
                    "min": "0",
                    "max": "1",
                    "histogram": [
                      {
                        "bin_start": 0,
                        "bin_end": 0.1,
                        "count": 2177
                      },
                      {
                        "bin_start": 0.1,
                        "bin_end": 0.2,
                        "count": 0
                      },
                      {
                        "bin_start": 0.2,
                        "bin_end": 0.30000000000000004,
                        "count": 0
                      },
                      {
                        "bin_start": 0.30000000000000004,
                        "bin_end": 0.4,
                        "count": 0
                      },
                      {
                        "bin_start": 0.4,
                        "bin_end": 0.5,
                        "count": 0
                      },
                      {
                        "bin_start": 0.5,
                        "bin_end": 0.6000000000000001,
                        "count": 0
                      },
                      {
                        "bin_start": 0.6000000000000001,
                        "bin_end": 0.7000000000000001,
                        "count": 0
                      },
                      {
                        "bin_start": 0.7000000000000001,
                        "bin_end": 0.8,
                        "count": 0
                      },
                      {
                        "bin_start": 0.8,
                        "bin_end": 0.9,
                        "count": 0
                      },
                      {
                        "bin_start": 0.9,
                        "bin_end": 1,
                        "count": 784
                      }
                    ]
                  }
                },
                {
                  "name": "PubchemFP24",
                  "dtype": "int64",
                  "stats": {
                    "unique_count": 2,
                    "nan_count": 0,
                    "min": "0",
                    "max": "1",
                    "histogram": [
                      {
                        "bin_start": 0,
                        "bin_end": 0.1,
                        "count": 2520
                      },
                      {
                        "bin_start": 0.1,
                        "bin_end": 0.2,
                        "count": 0
                      },
                      {
                        "bin_start": 0.2,
                        "bin_end": 0.30000000000000004,
                        "count": 0
                      },
                      {
                        "bin_start": 0.30000000000000004,
                        "bin_end": 0.4,
                        "count": 0
                      },
                      {
                        "bin_start": 0.4,
                        "bin_end": 0.5,
                        "count": 0
                      },
                      {
                        "bin_start": 0.5,
                        "bin_end": 0.6000000000000001,
                        "count": 0
                      },
                      {
                        "bin_start": 0.6000000000000001,
                        "bin_end": 0.7000000000000001,
                        "count": 0
                      },
                      {
                        "bin_start": 0.7000000000000001,
                        "bin_end": 0.8,
                        "count": 0
                      },
                      {
                        "bin_start": 0.8,
                        "bin_end": 0.9,
                        "count": 0
                      },
                      {
                        "bin_start": 0.9,
                        "bin_end": 1,
                        "count": 441
                      }
                    ]
                  }
                },
                {
                  "name": "PubchemFP25",
                  "dtype": "int64",
                  "stats": {
                    "unique_count": 2,
                    "nan_count": 0,
                    "min": "0",
                    "max": "1",
                    "histogram": [
                      {
                        "bin_start": 0,
                        "bin_end": 0.1,
                        "count": 2888
                      },
                      {
                        "bin_start": 0.1,
                        "bin_end": 0.2,
                        "count": 0
                      },
                      {
                        "bin_start": 0.2,
                        "bin_end": 0.30000000000000004,
                        "count": 0
                      },
                      {
                        "bin_start": 0.30000000000000004,
                        "bin_end": 0.4,
                        "count": 0
                      },
                      {
                        "bin_start": 0.4,
                        "bin_end": 0.5,
                        "count": 0
                      },
                      {
                        "bin_start": 0.5,
                        "bin_end": 0.6000000000000001,
                        "count": 0
                      },
                      {
                        "bin_start": 0.6000000000000001,
                        "bin_end": 0.7000000000000001,
                        "count": 0
                      },
                      {
                        "bin_start": 0.7000000000000001,
                        "bin_end": 0.8,
                        "count": 0
                      },
                      {
                        "bin_start": 0.8,
                        "bin_end": 0.9,
                        "count": 0
                      },
                      {
                        "bin_start": 0.9,
                        "bin_end": 1,
                        "count": 73
                      }
                    ]
                  }
                },
                {
                  "name": "PubchemFP26",
                  "dtype": "int64",
                  "stats": {
                    "unique_count": 1,
                    "nan_count": 0,
                    "min": "0",
                    "max": "0",
                    "histogram": [
                      {
                        "bin_start": -0.5,
                        "bin_end": -0.4,
                        "count": 0
                      },
                      {
                        "bin_start": -0.4,
                        "bin_end": -0.3,
                        "count": 0
                      },
                      {
                        "bin_start": -0.3,
                        "bin_end": -0.19999999999999996,
                        "count": 0
                      },
                      {
                        "bin_start": -0.19999999999999996,
                        "bin_end": -0.09999999999999998,
                        "count": 0
                      },
                      {
                        "bin_start": -0.09999999999999998,
                        "bin_end": 0,
                        "count": 0
                      },
                      {
                        "bin_start": 0,
                        "bin_end": 0.10000000000000009,
                        "count": 2961
                      },
                      {
                        "bin_start": 0.10000000000000009,
                        "bin_end": 0.20000000000000007,
                        "count": 0
                      },
                      {
                        "bin_start": 0.20000000000000007,
                        "bin_end": 0.30000000000000004,
                        "count": 0
                      },
                      {
                        "bin_start": 0.30000000000000004,
                        "bin_end": 0.4,
                        "count": 0
                      },
                      {
                        "bin_start": 0.4,
                        "bin_end": 0.5,
                        "count": 0
                      }
                    ]
                  }
                },
                {
                  "name": "PubchemFP27",
                  "dtype": "int64",
                  "stats": {
                    "unique_count": 1,
                    "nan_count": 0,
                    "min": "0",
                    "max": "0",
                    "histogram": [
                      {
                        "bin_start": -0.5,
                        "bin_end": -0.4,
                        "count": 0
                      },
                      {
                        "bin_start": -0.4,
                        "bin_end": -0.3,
                        "count": 0
                      },
                      {
                        "bin_start": -0.3,
                        "bin_end": -0.19999999999999996,
                        "count": 0
                      },
                      {
                        "bin_start": -0.19999999999999996,
                        "bin_end": -0.09999999999999998,
                        "count": 0
                      },
                      {
                        "bin_start": -0.09999999999999998,
                        "bin_end": 0,
                        "count": 0
                      },
                      {
                        "bin_start": 0,
                        "bin_end": 0.10000000000000009,
                        "count": 2961
                      },
                      {
                        "bin_start": 0.10000000000000009,
                        "bin_end": 0.20000000000000007,
                        "count": 0
                      },
                      {
                        "bin_start": 0.20000000000000007,
                        "bin_end": 0.30000000000000004,
                        "count": 0
                      },
                      {
                        "bin_start": 0.30000000000000004,
                        "bin_end": 0.4,
                        "count": 0
                      },
                      {
                        "bin_start": 0.4,
                        "bin_end": 0.5,
                        "count": 0
                      }
                    ]
                  }
                },
                {
                  "name": "PubchemFP28",
                  "dtype": "int64",
                  "stats": {
                    "unique_count": 1,
                    "nan_count": 0,
                    "min": "0",
                    "max": "0",
                    "histogram": [
                      {
                        "bin_start": -0.5,
                        "bin_end": -0.4,
                        "count": 0
                      },
                      {
                        "bin_start": -0.4,
                        "bin_end": -0.3,
                        "count": 0
                      },
                      {
                        "bin_start": -0.3,
                        "bin_end": -0.19999999999999996,
                        "count": 0
                      },
                      {
                        "bin_start": -0.19999999999999996,
                        "bin_end": -0.09999999999999998,
                        "count": 0
                      },
                      {
                        "bin_start": -0.09999999999999998,
                        "bin_end": 0,
                        "count": 0
                      },
                      {
                        "bin_start": 0,
                        "bin_end": 0.10000000000000009,
                        "count": 2961
                      },
                      {
                        "bin_start": 0.10000000000000009,
                        "bin_end": 0.20000000000000007,
                        "count": 0
                      },
                      {
                        "bin_start": 0.20000000000000007,
                        "bin_end": 0.30000000000000004,
                        "count": 0
                      },
                      {
                        "bin_start": 0.30000000000000004,
                        "bin_end": 0.4,
                        "count": 0
                      },
                      {
                        "bin_start": 0.4,
                        "bin_end": 0.5,
                        "count": 0
                      }
                    ]
                  }
                },
                {
                  "name": "PubchemFP29",
                  "dtype": "int64",
                  "stats": {
                    "unique_count": 1,
                    "nan_count": 0,
                    "min": "0",
                    "max": "0",
                    "histogram": [
                      {
                        "bin_start": -0.5,
                        "bin_end": -0.4,
                        "count": 0
                      },
                      {
                        "bin_start": -0.4,
                        "bin_end": -0.3,
                        "count": 0
                      },
                      {
                        "bin_start": -0.3,
                        "bin_end": -0.19999999999999996,
                        "count": 0
                      },
                      {
                        "bin_start": -0.19999999999999996,
                        "bin_end": -0.09999999999999998,
                        "count": 0
                      },
                      {
                        "bin_start": -0.09999999999999998,
                        "bin_end": 0,
                        "count": 0
                      },
                      {
                        "bin_start": 0,
                        "bin_end": 0.10000000000000009,
                        "count": 2961
                      },
                      {
                        "bin_start": 0.10000000000000009,
                        "bin_end": 0.20000000000000007,
                        "count": 0
                      },
                      {
                        "bin_start": 0.20000000000000007,
                        "bin_end": 0.30000000000000004,
                        "count": 0
                      },
                      {
                        "bin_start": 0.30000000000000004,
                        "bin_end": 0.4,
                        "count": 0
                      },
                      {
                        "bin_start": 0.4,
                        "bin_end": 0.5,
                        "count": 0
                      }
                    ]
                  }
                },
                {
                  "name": "PubchemFP30",
                  "dtype": "int64",
                  "stats": {
                    "unique_count": 2,
                    "nan_count": 0,
                    "min": "0",
                    "max": "1",
                    "histogram": [
                      {
                        "bin_start": 0,
                        "bin_end": 0.1,
                        "count": 2958
                      },
                      {
                        "bin_start": 0.1,
                        "bin_end": 0.2,
                        "count": 0
                      },
                      {
                        "bin_start": 0.2,
                        "bin_end": 0.30000000000000004,
                        "count": 0
                      },
                      {
                        "bin_start": 0.30000000000000004,
                        "bin_end": 0.4,
                        "count": 0
                      },
                      {
                        "bin_start": 0.4,
                        "bin_end": 0.5,
                        "count": 0
                      },
                      {
                        "bin_start": 0.5,
                        "bin_end": 0.6000000000000001,
                        "count": 0
                      },
                      {
                        "bin_start": 0.6000000000000001,
                        "bin_end": 0.7000000000000001,
                        "count": 0
                      },
                      {
                        "bin_start": 0.7000000000000001,
                        "bin_end": 0.8,
                        "count": 0
                      },
                      {
                        "bin_start": 0.8,
                        "bin_end": 0.9,
                        "count": 0
                      },
                      {
                        "bin_start": 0.9,
                        "bin_end": 1,
                        "count": 3
                      }
                    ]
                  }
                },
                {
                  "name": "PubchemFP31",
                  "dtype": "int64",
                  "stats": {
                    "unique_count": 1,
                    "nan_count": 0,
                    "min": "0",
                    "max": "0",
                    "histogram": [
                      {
                        "bin_start": -0.5,
                        "bin_end": -0.4,
                        "count": 0
                      },
                      {
                        "bin_start": -0.4,
                        "bin_end": -0.3,
                        "count": 0
                      },
                      {
                        "bin_start": -0.3,
                        "bin_end": -0.19999999999999996,
                        "count": 0
                      },
                      {
                        "bin_start": -0.19999999999999996,
                        "bin_end": -0.09999999999999998,
                        "count": 0
                      },
                      {
                        "bin_start": -0.09999999999999998,
                        "bin_end": 0,
                        "count": 0
                      },
                      {
                        "bin_start": 0,
                        "bin_end": 0.10000000000000009,
                        "count": 2961
                      },
                      {
                        "bin_start": 0.10000000000000009,
                        "bin_end": 0.20000000000000007,
                        "count": 0
                      },
                      {
                        "bin_start": 0.20000000000000007,
                        "bin_end": 0.30000000000000004,
                        "count": 0
                      },
                      {
                        "bin_start": 0.30000000000000004,
                        "bin_end": 0.4,
                        "count": 0
                      },
                      {
                        "bin_start": 0.4,
                        "bin_end": 0.5,
                        "count": 0
                      }
                    ]
                  }
                },
                {
                  "name": "PubchemFP32",
                  "dtype": "int64",
                  "stats": {
                    "unique_count": 1,
                    "nan_count": 0,
                    "min": "0",
                    "max": "0",
                    "histogram": [
                      {
                        "bin_start": -0.5,
                        "bin_end": -0.4,
                        "count": 0
                      },
                      {
                        "bin_start": -0.4,
                        "bin_end": -0.3,
                        "count": 0
                      },
                      {
                        "bin_start": -0.3,
                        "bin_end": -0.19999999999999996,
                        "count": 0
                      },
                      {
                        "bin_start": -0.19999999999999996,
                        "bin_end": -0.09999999999999998,
                        "count": 0
                      },
                      {
                        "bin_start": -0.09999999999999998,
                        "bin_end": 0,
                        "count": 0
                      },
                      {
                        "bin_start": 0,
                        "bin_end": 0.10000000000000009,
                        "count": 2961
                      },
                      {
                        "bin_start": 0.10000000000000009,
                        "bin_end": 0.20000000000000007,
                        "count": 0
                      },
                      {
                        "bin_start": 0.20000000000000007,
                        "bin_end": 0.30000000000000004,
                        "count": 0
                      },
                      {
                        "bin_start": 0.30000000000000004,
                        "bin_end": 0.4,
                        "count": 0
                      },
                      {
                        "bin_start": 0.4,
                        "bin_end": 0.5,
                        "count": 0
                      }
                    ]
                  }
                },
                {
                  "name": "PubchemFP33",
                  "dtype": "int64"
                },
                {
                  "name": "PubchemFP34",
                  "dtype": "int64"
                },
                {
                  "name": "PubchemFP35",
                  "dtype": "int64"
                },
                {
                  "name": "PubchemFP36",
                  "dtype": "int64"
                },
                {
                  "name": "PubchemFP37",
                  "dtype": "int64"
                },
                {
                  "name": "PubchemFP38",
                  "dtype": "int64"
                },
                {
                  "name": "PubchemFP39",
                  "dtype": "int64"
                },
                {
                  "name": "PubchemFP40",
                  "dtype": "int64"
                },
                {
                  "name": "PubchemFP41",
                  "dtype": "int64"
                },
                {
                  "name": "PubchemFP42",
                  "dtype": "int64"
                },
                {
                  "name": "PubchemFP43",
                  "dtype": "int64"
                },
                {
                  "name": "PubchemFP44",
                  "dtype": "int64"
                },
                {
                  "name": "PubchemFP45",
                  "dtype": "int64"
                },
                {
                  "name": "PubchemFP46",
                  "dtype": "int64"
                },
                {
                  "name": "PubchemFP47",
                  "dtype": "int64"
                },
                {
                  "name": "PubchemFP48",
                  "dtype": "int64"
                },
                {
                  "name": "PubchemFP49",
                  "dtype": "int64"
                },
                {
                  "name": "PubchemFP50",
                  "dtype": "int64"
                },
                {
                  "name": "PubchemFP51",
                  "dtype": "int64"
                },
                {
                  "name": "PubchemFP52",
                  "dtype": "int64"
                },
                {
                  "name": "PubchemFP53",
                  "dtype": "int64"
                },
                {
                  "name": "PubchemFP54",
                  "dtype": "int64"
                },
                {
                  "name": "PubchemFP55",
                  "dtype": "int64"
                },
                {
                  "name": "PubchemFP56",
                  "dtype": "int64"
                },
                {
                  "name": "PubchemFP57",
                  "dtype": "int64"
                },
                {
                  "name": "PubchemFP58",
                  "dtype": "int64"
                },
                {
                  "name": "PubchemFP59",
                  "dtype": "int64"
                },
                {
                  "name": "PubchemFP60",
                  "dtype": "int64"
                },
                {
                  "name": "PubchemFP61",
                  "dtype": "int64"
                },
                {
                  "name": "PubchemFP62",
                  "dtype": "int64"
                },
                {
                  "name": "PubchemFP63",
                  "dtype": "int64"
                },
                {
                  "name": "PubchemFP64",
                  "dtype": "int64"
                },
                {
                  "name": "PubchemFP65",
                  "dtype": "int64"
                },
                {
                  "name": "PubchemFP66",
                  "dtype": "int64"
                },
                {
                  "name": "PubchemFP67",
                  "dtype": "int64"
                },
                {
                  "name": "PubchemFP68",
                  "dtype": "int64"
                },
                {
                  "name": "PubchemFP69",
                  "dtype": "int64"
                },
                {
                  "name": "PubchemFP70",
                  "dtype": "int64"
                },
                {
                  "name": "PubchemFP71",
                  "dtype": "int64"
                },
                {
                  "name": "PubchemFP72",
                  "dtype": "int64"
                },
                {
                  "name": "PubchemFP73",
                  "dtype": "int64"
                },
                {
                  "name": "PubchemFP74",
                  "dtype": "int64"
                },
                {
                  "name": "PubchemFP75",
                  "dtype": "int64"
                },
                {
                  "name": "PubchemFP76",
                  "dtype": "int64"
                },
                {
                  "name": "PubchemFP77",
                  "dtype": "int64"
                },
                {
                  "name": "PubchemFP78",
                  "dtype": "int64"
                },
                {
                  "name": "PubchemFP79",
                  "dtype": "int64"
                },
                {
                  "name": "PubchemFP80",
                  "dtype": "int64"
                },
                {
                  "name": "PubchemFP81",
                  "dtype": "int64"
                },
                {
                  "name": "PubchemFP82",
                  "dtype": "int64"
                },
                {
                  "name": "PubchemFP83",
                  "dtype": "int64"
                },
                {
                  "name": "PubchemFP84",
                  "dtype": "int64"
                },
                {
                  "name": "PubchemFP85",
                  "dtype": "int64"
                },
                {
                  "name": "PubchemFP86",
                  "dtype": "int64"
                },
                {
                  "name": "PubchemFP87",
                  "dtype": "int64"
                },
                {
                  "name": "PubchemFP88",
                  "dtype": "int64"
                },
                {
                  "name": "PubchemFP89",
                  "dtype": "int64"
                },
                {
                  "name": "PubchemFP90",
                  "dtype": "int64"
                },
                {
                  "name": "PubchemFP91",
                  "dtype": "int64"
                },
                {
                  "name": "PubchemFP92",
                  "dtype": "int64"
                },
                {
                  "name": "PubchemFP93",
                  "dtype": "int64"
                },
                {
                  "name": "PubchemFP94",
                  "dtype": "int64"
                },
                {
                  "name": "PubchemFP95",
                  "dtype": "int64"
                },
                {
                  "name": "PubchemFP96",
                  "dtype": "int64"
                },
                {
                  "name": "PubchemFP97",
                  "dtype": "int64"
                },
                {
                  "name": "PubchemFP98",
                  "dtype": "int64"
                },
                {
                  "name": "PubchemFP99",
                  "dtype": "int64"
                },
                {
                  "name": "PubchemFP100",
                  "dtype": "int64"
                },
                {
                  "name": "PubchemFP101",
                  "dtype": "int64"
                },
                {
                  "name": "PubchemFP102",
                  "dtype": "int64"
                },
                {
                  "name": "PubchemFP103",
                  "dtype": "int64"
                },
                {
                  "name": "PubchemFP104",
                  "dtype": "int64"
                },
                {
                  "name": "PubchemFP105",
                  "dtype": "int64"
                },
                {
                  "name": "PubchemFP106",
                  "dtype": "int64"
                },
                {
                  "name": "PubchemFP107",
                  "dtype": "int64"
                },
                {
                  "name": "PubchemFP108",
                  "dtype": "int64"
                },
                {
                  "name": "PubchemFP109",
                  "dtype": "int64"
                },
                {
                  "name": "PubchemFP110",
                  "dtype": "int64"
                },
                {
                  "name": "PubchemFP111",
                  "dtype": "int64"
                },
                {
                  "name": "PubchemFP112",
                  "dtype": "int64"
                },
                {
                  "name": "PubchemFP113",
                  "dtype": "int64"
                },
                {
                  "name": "PubchemFP114",
                  "dtype": "int64"
                },
                {
                  "name": "PubchemFP115",
                  "dtype": "int64"
                },
                {
                  "name": "PubchemFP116",
                  "dtype": "int64"
                },
                {
                  "name": "PubchemFP117",
                  "dtype": "int64"
                },
                {
                  "name": "PubchemFP118",
                  "dtype": "int64"
                },
                {
                  "name": "PubchemFP119",
                  "dtype": "int64"
                },
                {
                  "name": "PubchemFP120",
                  "dtype": "int64"
                },
                {
                  "name": "PubchemFP121",
                  "dtype": "int64"
                },
                {
                  "name": "PubchemFP122",
                  "dtype": "int64"
                },
                {
                  "name": "PubchemFP123",
                  "dtype": "int64"
                },
                {
                  "name": "PubchemFP124",
                  "dtype": "int64"
                },
                {
                  "name": "PubchemFP125",
                  "dtype": "int64"
                },
                {
                  "name": "PubchemFP126",
                  "dtype": "int64"
                },
                {
                  "name": "PubchemFP127",
                  "dtype": "int64"
                },
                {
                  "name": "PubchemFP128",
                  "dtype": "int64"
                },
                {
                  "name": "PubchemFP129",
                  "dtype": "int64"
                },
                {
                  "name": "PubchemFP130",
                  "dtype": "int64"
                },
                {
                  "name": "PubchemFP131",
                  "dtype": "int64"
                },
                {
                  "name": "PubchemFP132",
                  "dtype": "int64"
                },
                {
                  "name": "PubchemFP133",
                  "dtype": "int64"
                },
                {
                  "name": "PubchemFP134",
                  "dtype": "int64"
                },
                {
                  "name": "PubchemFP135",
                  "dtype": "int64"
                },
                {
                  "name": "PubchemFP136",
                  "dtype": "int64"
                },
                {
                  "name": "PubchemFP137",
                  "dtype": "int64"
                },
                {
                  "name": "PubchemFP138",
                  "dtype": "int64"
                },
                {
                  "name": "PubchemFP139",
                  "dtype": "int64"
                },
                {
                  "name": "PubchemFP140",
                  "dtype": "int64"
                },
                {
                  "name": "PubchemFP141",
                  "dtype": "int64"
                },
                {
                  "name": "PubchemFP142",
                  "dtype": "int64"
                },
                {
                  "name": "PubchemFP143",
                  "dtype": "int64"
                },
                {
                  "name": "PubchemFP144",
                  "dtype": "int64"
                },
                {
                  "name": "PubchemFP145",
                  "dtype": "int64"
                },
                {
                  "name": "PubchemFP146",
                  "dtype": "int64"
                },
                {
                  "name": "PubchemFP147",
                  "dtype": "int64"
                },
                {
                  "name": "PubchemFP148",
                  "dtype": "int64"
                },
                {
                  "name": "PubchemFP149",
                  "dtype": "int64"
                },
                {
                  "name": "PubchemFP150",
                  "dtype": "int64"
                },
                {
                  "name": "PubchemFP151",
                  "dtype": "int64"
                },
                {
                  "name": "PubchemFP152",
                  "dtype": "int64"
                },
                {
                  "name": "PubchemFP153",
                  "dtype": "int64"
                },
                {
                  "name": "PubchemFP154",
                  "dtype": "int64"
                },
                {
                  "name": "PubchemFP155",
                  "dtype": "int64"
                },
                {
                  "name": "PubchemFP156",
                  "dtype": "int64"
                },
                {
                  "name": "PubchemFP157",
                  "dtype": "int64"
                },
                {
                  "name": "PubchemFP158",
                  "dtype": "int64"
                },
                {
                  "name": "PubchemFP159",
                  "dtype": "int64"
                },
                {
                  "name": "PubchemFP160",
                  "dtype": "int64"
                },
                {
                  "name": "PubchemFP161",
                  "dtype": "int64"
                },
                {
                  "name": "PubchemFP162",
                  "dtype": "int64"
                },
                {
                  "name": "PubchemFP163",
                  "dtype": "int64"
                },
                {
                  "name": "PubchemFP164",
                  "dtype": "int64"
                },
                {
                  "name": "PubchemFP165",
                  "dtype": "int64"
                },
                {
                  "name": "PubchemFP166",
                  "dtype": "int64"
                },
                {
                  "name": "PubchemFP167",
                  "dtype": "int64"
                },
                {
                  "name": "PubchemFP168",
                  "dtype": "int64"
                },
                {
                  "name": "PubchemFP169",
                  "dtype": "int64"
                },
                {
                  "name": "PubchemFP170",
                  "dtype": "int64"
                },
                {
                  "name": "PubchemFP171",
                  "dtype": "int64"
                },
                {
                  "name": "PubchemFP172",
                  "dtype": "int64"
                },
                {
                  "name": "PubchemFP173",
                  "dtype": "int64"
                },
                {
                  "name": "PubchemFP174",
                  "dtype": "int64"
                },
                {
                  "name": "PubchemFP175",
                  "dtype": "int64"
                },
                {
                  "name": "PubchemFP176",
                  "dtype": "int64"
                },
                {
                  "name": "PubchemFP177",
                  "dtype": "int64"
                },
                {
                  "name": "PubchemFP178",
                  "dtype": "int64"
                },
                {
                  "name": "PubchemFP179",
                  "dtype": "int64"
                },
                {
                  "name": "PubchemFP180",
                  "dtype": "int64"
                },
                {
                  "name": "PubchemFP181",
                  "dtype": "int64"
                },
                {
                  "name": "PubchemFP182",
                  "dtype": "int64"
                },
                {
                  "name": "PubchemFP183",
                  "dtype": "int64"
                },
                {
                  "name": "PubchemFP184",
                  "dtype": "int64"
                },
                {
                  "name": "PubchemFP185",
                  "dtype": "int64"
                },
                {
                  "name": "PubchemFP186",
                  "dtype": "int64"
                },
                {
                  "name": "PubchemFP187",
                  "dtype": "int64"
                },
                {
                  "name": "PubchemFP188",
                  "dtype": "int64"
                },
                {
                  "name": "PubchemFP189",
                  "dtype": "int64"
                },
                {
                  "name": "PubchemFP190",
                  "dtype": "int64"
                },
                {
                  "name": "PubchemFP191",
                  "dtype": "int64"
                },
                {
                  "name": "PubchemFP192",
                  "dtype": "int64"
                },
                {
                  "name": "PubchemFP193",
                  "dtype": "int64"
                },
                {
                  "name": "PubchemFP194",
                  "dtype": "int64"
                },
                {
                  "name": "PubchemFP195",
                  "dtype": "int64"
                },
                {
                  "name": "PubchemFP196",
                  "dtype": "int64"
                },
                {
                  "name": "PubchemFP197",
                  "dtype": "int64"
                },
                {
                  "name": "PubchemFP198",
                  "dtype": "int64"
                },
                {
                  "name": "PubchemFP199",
                  "dtype": "int64"
                },
                {
                  "name": "PubchemFP200",
                  "dtype": "int64"
                },
                {
                  "name": "PubchemFP201",
                  "dtype": "int64"
                },
                {
                  "name": "PubchemFP202",
                  "dtype": "int64"
                },
                {
                  "name": "PubchemFP203",
                  "dtype": "int64"
                },
                {
                  "name": "PubchemFP204",
                  "dtype": "int64"
                },
                {
                  "name": "PubchemFP205",
                  "dtype": "int64"
                },
                {
                  "name": "PubchemFP206",
                  "dtype": "int64"
                },
                {
                  "name": "PubchemFP207",
                  "dtype": "int64"
                },
                {
                  "name": "PubchemFP208",
                  "dtype": "int64"
                },
                {
                  "name": "PubchemFP209",
                  "dtype": "int64"
                },
                {
                  "name": "PubchemFP210",
                  "dtype": "int64"
                },
                {
                  "name": "PubchemFP211",
                  "dtype": "int64"
                },
                {
                  "name": "PubchemFP212",
                  "dtype": "int64"
                },
                {
                  "name": "PubchemFP213",
                  "dtype": "int64"
                },
                {
                  "name": "PubchemFP214",
                  "dtype": "int64"
                },
                {
                  "name": "PubchemFP215",
                  "dtype": "int64"
                },
                {
                  "name": "PubchemFP216",
                  "dtype": "int64"
                },
                {
                  "name": "PubchemFP217",
                  "dtype": "int64"
                },
                {
                  "name": "PubchemFP218",
                  "dtype": "int64"
                },
                {
                  "name": "PubchemFP219",
                  "dtype": "int64"
                },
                {
                  "name": "PubchemFP220",
                  "dtype": "int64"
                },
                {
                  "name": "PubchemFP221",
                  "dtype": "int64"
                },
                {
                  "name": "PubchemFP222",
                  "dtype": "int64"
                },
                {
                  "name": "PubchemFP223",
                  "dtype": "int64"
                },
                {
                  "name": "PubchemFP224",
                  "dtype": "int64"
                },
                {
                  "name": "PubchemFP225",
                  "dtype": "int64"
                },
                {
                  "name": "PubchemFP226",
                  "dtype": "int64"
                },
                {
                  "name": "PubchemFP227",
                  "dtype": "int64"
                },
                {
                  "name": "PubchemFP228",
                  "dtype": "int64"
                },
                {
                  "name": "PubchemFP229",
                  "dtype": "int64"
                },
                {
                  "name": "PubchemFP230",
                  "dtype": "int64"
                },
                {
                  "name": "PubchemFP231",
                  "dtype": "int64"
                },
                {
                  "name": "PubchemFP232",
                  "dtype": "int64"
                },
                {
                  "name": "PubchemFP233",
                  "dtype": "int64"
                },
                {
                  "name": "PubchemFP234",
                  "dtype": "int64"
                },
                {
                  "name": "PubchemFP235",
                  "dtype": "int64"
                },
                {
                  "name": "PubchemFP236",
                  "dtype": "int64"
                },
                {
                  "name": "PubchemFP237",
                  "dtype": "int64"
                },
                {
                  "name": "PubchemFP238",
                  "dtype": "int64"
                },
                {
                  "name": "PubchemFP239",
                  "dtype": "int64"
                },
                {
                  "name": "PubchemFP240",
                  "dtype": "int64"
                },
                {
                  "name": "PubchemFP241",
                  "dtype": "int64"
                },
                {
                  "name": "PubchemFP242",
                  "dtype": "int64"
                },
                {
                  "name": "PubchemFP243",
                  "dtype": "int64"
                },
                {
                  "name": "PubchemFP244",
                  "dtype": "int64"
                },
                {
                  "name": "PubchemFP245",
                  "dtype": "int64"
                },
                {
                  "name": "PubchemFP246",
                  "dtype": "int64"
                },
                {
                  "name": "PubchemFP247",
                  "dtype": "int64"
                },
                {
                  "name": "PubchemFP248",
                  "dtype": "int64"
                },
                {
                  "name": "PubchemFP249",
                  "dtype": "int64"
                },
                {
                  "name": "PubchemFP250",
                  "dtype": "int64"
                },
                {
                  "name": "PubchemFP251",
                  "dtype": "int64"
                },
                {
                  "name": "PubchemFP252",
                  "dtype": "int64"
                },
                {
                  "name": "PubchemFP253",
                  "dtype": "int64"
                },
                {
                  "name": "PubchemFP254",
                  "dtype": "int64"
                },
                {
                  "name": "PubchemFP255",
                  "dtype": "int64"
                },
                {
                  "name": "PubchemFP256",
                  "dtype": "int64"
                },
                {
                  "name": "PubchemFP257",
                  "dtype": "int64"
                },
                {
                  "name": "PubchemFP258",
                  "dtype": "int64"
                },
                {
                  "name": "PubchemFP259",
                  "dtype": "int64"
                },
                {
                  "name": "PubchemFP260",
                  "dtype": "int64"
                },
                {
                  "name": "PubchemFP261",
                  "dtype": "int64"
                },
                {
                  "name": "PubchemFP262",
                  "dtype": "int64"
                },
                {
                  "name": "PubchemFP263",
                  "dtype": "int64"
                },
                {
                  "name": "PubchemFP264",
                  "dtype": "int64"
                },
                {
                  "name": "PubchemFP265",
                  "dtype": "int64"
                },
                {
                  "name": "PubchemFP266",
                  "dtype": "int64"
                },
                {
                  "name": "PubchemFP267",
                  "dtype": "int64"
                },
                {
                  "name": "PubchemFP268",
                  "dtype": "int64"
                },
                {
                  "name": "PubchemFP269",
                  "dtype": "int64"
                },
                {
                  "name": "PubchemFP270",
                  "dtype": "int64"
                },
                {
                  "name": "PubchemFP271",
                  "dtype": "int64"
                },
                {
                  "name": "PubchemFP272",
                  "dtype": "int64"
                },
                {
                  "name": "PubchemFP273",
                  "dtype": "int64"
                },
                {
                  "name": "PubchemFP274",
                  "dtype": "int64"
                },
                {
                  "name": "PubchemFP275",
                  "dtype": "int64"
                },
                {
                  "name": "PubchemFP276",
                  "dtype": "int64"
                },
                {
                  "name": "PubchemFP277",
                  "dtype": "int64"
                },
                {
                  "name": "PubchemFP278",
                  "dtype": "int64"
                },
                {
                  "name": "PubchemFP279",
                  "dtype": "int64"
                },
                {
                  "name": "PubchemFP280",
                  "dtype": "int64"
                },
                {
                  "name": "PubchemFP281",
                  "dtype": "int64"
                },
                {
                  "name": "PubchemFP282",
                  "dtype": "int64"
                },
                {
                  "name": "PubchemFP283",
                  "dtype": "int64"
                },
                {
                  "name": "PubchemFP284",
                  "dtype": "int64"
                },
                {
                  "name": "PubchemFP285",
                  "dtype": "int64"
                },
                {
                  "name": "PubchemFP286",
                  "dtype": "int64"
                },
                {
                  "name": "PubchemFP287",
                  "dtype": "int64"
                },
                {
                  "name": "PubchemFP288",
                  "dtype": "int64"
                },
                {
                  "name": "PubchemFP289",
                  "dtype": "int64"
                },
                {
                  "name": "PubchemFP290",
                  "dtype": "int64"
                },
                {
                  "name": "PubchemFP291",
                  "dtype": "int64"
                },
                {
                  "name": "PubchemFP292",
                  "dtype": "int64"
                },
                {
                  "name": "PubchemFP293",
                  "dtype": "int64"
                },
                {
                  "name": "PubchemFP294",
                  "dtype": "int64"
                },
                {
                  "name": "PubchemFP295",
                  "dtype": "int64"
                },
                {
                  "name": "PubchemFP296",
                  "dtype": "int64"
                },
                {
                  "name": "PubchemFP297",
                  "dtype": "int64"
                },
                {
                  "name": "PubchemFP298",
                  "dtype": "int64"
                },
                {
                  "name": "PubchemFP299",
                  "dtype": "int64"
                },
                {
                  "name": "PubchemFP300",
                  "dtype": "int64"
                },
                {
                  "name": "PubchemFP301",
                  "dtype": "int64"
                },
                {
                  "name": "PubchemFP302",
                  "dtype": "int64"
                },
                {
                  "name": "PubchemFP303",
                  "dtype": "int64"
                },
                {
                  "name": "PubchemFP304",
                  "dtype": "int64"
                },
                {
                  "name": "PubchemFP305",
                  "dtype": "int64"
                },
                {
                  "name": "PubchemFP306",
                  "dtype": "int64"
                },
                {
                  "name": "PubchemFP307",
                  "dtype": "int64"
                },
                {
                  "name": "PubchemFP308",
                  "dtype": "int64"
                },
                {
                  "name": "PubchemFP309",
                  "dtype": "int64"
                },
                {
                  "name": "PubchemFP310",
                  "dtype": "int64"
                },
                {
                  "name": "PubchemFP311",
                  "dtype": "int64"
                },
                {
                  "name": "PubchemFP312",
                  "dtype": "int64"
                },
                {
                  "name": "PubchemFP313",
                  "dtype": "int64"
                },
                {
                  "name": "PubchemFP314",
                  "dtype": "int64"
                },
                {
                  "name": "PubchemFP315",
                  "dtype": "int64"
                },
                {
                  "name": "PubchemFP316",
                  "dtype": "int64"
                },
                {
                  "name": "PubchemFP317",
                  "dtype": "int64"
                },
                {
                  "name": "PubchemFP318",
                  "dtype": "int64"
                },
                {
                  "name": "PubchemFP319",
                  "dtype": "int64"
                },
                {
                  "name": "PubchemFP320",
                  "dtype": "int64"
                },
                {
                  "name": "PubchemFP321",
                  "dtype": "int64"
                },
                {
                  "name": "PubchemFP322",
                  "dtype": "int64"
                },
                {
                  "name": "PubchemFP323",
                  "dtype": "int64"
                },
                {
                  "name": "PubchemFP324",
                  "dtype": "int64"
                },
                {
                  "name": "PubchemFP325",
                  "dtype": "int64"
                },
                {
                  "name": "PubchemFP326",
                  "dtype": "int64"
                },
                {
                  "name": "PubchemFP327",
                  "dtype": "int64"
                },
                {
                  "name": "PubchemFP328",
                  "dtype": "int64"
                },
                {
                  "name": "PubchemFP329",
                  "dtype": "int64"
                },
                {
                  "name": "PubchemFP330",
                  "dtype": "int64"
                },
                {
                  "name": "PubchemFP331",
                  "dtype": "int64"
                },
                {
                  "name": "PubchemFP332",
                  "dtype": "int64"
                },
                {
                  "name": "PubchemFP333",
                  "dtype": "int64"
                },
                {
                  "name": "PubchemFP334",
                  "dtype": "int64"
                },
                {
                  "name": "PubchemFP335",
                  "dtype": "int64"
                },
                {
                  "name": "PubchemFP336",
                  "dtype": "int64"
                },
                {
                  "name": "PubchemFP337",
                  "dtype": "int64"
                },
                {
                  "name": "PubchemFP338",
                  "dtype": "int64"
                },
                {
                  "name": "PubchemFP339",
                  "dtype": "int64"
                },
                {
                  "name": "PubchemFP340",
                  "dtype": "int64"
                },
                {
                  "name": "PubchemFP341",
                  "dtype": "int64"
                },
                {
                  "name": "PubchemFP342",
                  "dtype": "int64"
                },
                {
                  "name": "PubchemFP343",
                  "dtype": "int64"
                },
                {
                  "name": "PubchemFP344",
                  "dtype": "int64"
                },
                {
                  "name": "PubchemFP345",
                  "dtype": "int64"
                },
                {
                  "name": "PubchemFP346",
                  "dtype": "int64"
                },
                {
                  "name": "PubchemFP347",
                  "dtype": "int64"
                },
                {
                  "name": "PubchemFP348",
                  "dtype": "int64"
                },
                {
                  "name": "PubchemFP349",
                  "dtype": "int64"
                },
                {
                  "name": "PubchemFP350",
                  "dtype": "int64"
                },
                {
                  "name": "PubchemFP351",
                  "dtype": "int64"
                },
                {
                  "name": "PubchemFP352",
                  "dtype": "int64"
                },
                {
                  "name": "PubchemFP353",
                  "dtype": "int64"
                },
                {
                  "name": "PubchemFP354",
                  "dtype": "int64"
                },
                {
                  "name": "PubchemFP355",
                  "dtype": "int64"
                },
                {
                  "name": "PubchemFP356",
                  "dtype": "int64"
                },
                {
                  "name": "PubchemFP357",
                  "dtype": "int64"
                },
                {
                  "name": "PubchemFP358",
                  "dtype": "int64"
                },
                {
                  "name": "PubchemFP359",
                  "dtype": "int64"
                },
                {
                  "name": "PubchemFP360",
                  "dtype": "int64"
                },
                {
                  "name": "PubchemFP361",
                  "dtype": "int64"
                },
                {
                  "name": "PubchemFP362",
                  "dtype": "int64"
                },
                {
                  "name": "PubchemFP363",
                  "dtype": "int64"
                },
                {
                  "name": "PubchemFP364",
                  "dtype": "int64"
                },
                {
                  "name": "PubchemFP365",
                  "dtype": "int64"
                },
                {
                  "name": "PubchemFP366",
                  "dtype": "int64"
                },
                {
                  "name": "PubchemFP367",
                  "dtype": "int64"
                },
                {
                  "name": "PubchemFP368",
                  "dtype": "int64"
                },
                {
                  "name": "PubchemFP369",
                  "dtype": "int64"
                },
                {
                  "name": "PubchemFP370",
                  "dtype": "int64"
                },
                {
                  "name": "PubchemFP371",
                  "dtype": "int64"
                },
                {
                  "name": "PubchemFP372",
                  "dtype": "int64"
                },
                {
                  "name": "PubchemFP373",
                  "dtype": "int64"
                },
                {
                  "name": "PubchemFP374",
                  "dtype": "int64"
                },
                {
                  "name": "PubchemFP375",
                  "dtype": "int64"
                },
                {
                  "name": "PubchemFP376",
                  "dtype": "int64"
                },
                {
                  "name": "PubchemFP377",
                  "dtype": "int64"
                },
                {
                  "name": "PubchemFP378",
                  "dtype": "int64"
                },
                {
                  "name": "PubchemFP379",
                  "dtype": "int64"
                },
                {
                  "name": "PubchemFP380",
                  "dtype": "int64"
                },
                {
                  "name": "PubchemFP381",
                  "dtype": "int64"
                },
                {
                  "name": "PubchemFP382",
                  "dtype": "int64"
                },
                {
                  "name": "PubchemFP383",
                  "dtype": "int64"
                },
                {
                  "name": "PubchemFP384",
                  "dtype": "int64"
                },
                {
                  "name": "PubchemFP385",
                  "dtype": "int64"
                },
                {
                  "name": "PubchemFP386",
                  "dtype": "int64"
                },
                {
                  "name": "PubchemFP387",
                  "dtype": "int64"
                },
                {
                  "name": "PubchemFP388",
                  "dtype": "int64"
                },
                {
                  "name": "PubchemFP389",
                  "dtype": "int64"
                },
                {
                  "name": "PubchemFP390",
                  "dtype": "int64"
                },
                {
                  "name": "PubchemFP391",
                  "dtype": "int64"
                },
                {
                  "name": "PubchemFP392",
                  "dtype": "int64"
                },
                {
                  "name": "PubchemFP393",
                  "dtype": "int64"
                },
                {
                  "name": "PubchemFP394",
                  "dtype": "int64"
                },
                {
                  "name": "PubchemFP395",
                  "dtype": "int64"
                },
                {
                  "name": "PubchemFP396",
                  "dtype": "int64"
                },
                {
                  "name": "PubchemFP397",
                  "dtype": "int64"
                },
                {
                  "name": "PubchemFP398",
                  "dtype": "int64"
                },
                {
                  "name": "PubchemFP399",
                  "dtype": "int64"
                },
                {
                  "name": "PubchemFP400",
                  "dtype": "int64"
                },
                {
                  "name": "PubchemFP401",
                  "dtype": "int64"
                },
                {
                  "name": "PubchemFP402",
                  "dtype": "int64"
                },
                {
                  "name": "PubchemFP403",
                  "dtype": "int64"
                },
                {
                  "name": "PubchemFP404",
                  "dtype": "int64"
                },
                {
                  "name": "PubchemFP405",
                  "dtype": "int64"
                },
                {
                  "name": "PubchemFP406",
                  "dtype": "int64"
                },
                {
                  "name": "PubchemFP407",
                  "dtype": "int64"
                },
                {
                  "name": "PubchemFP408",
                  "dtype": "int64"
                },
                {
                  "name": "PubchemFP409",
                  "dtype": "int64"
                },
                {
                  "name": "PubchemFP410",
                  "dtype": "int64"
                },
                {
                  "name": "PubchemFP411",
                  "dtype": "int64"
                },
                {
                  "name": "PubchemFP412",
                  "dtype": "int64"
                },
                {
                  "name": "PubchemFP413",
                  "dtype": "int64"
                },
                {
                  "name": "PubchemFP414",
                  "dtype": "int64"
                },
                {
                  "name": "PubchemFP415",
                  "dtype": "int64"
                },
                {
                  "name": "PubchemFP416",
                  "dtype": "int64"
                },
                {
                  "name": "PubchemFP417",
                  "dtype": "int64"
                },
                {
                  "name": "PubchemFP418",
                  "dtype": "int64"
                },
                {
                  "name": "PubchemFP419",
                  "dtype": "int64"
                },
                {
                  "name": "PubchemFP420",
                  "dtype": "int64"
                },
                {
                  "name": "PubchemFP421",
                  "dtype": "int64"
                },
                {
                  "name": "PubchemFP422",
                  "dtype": "int64"
                },
                {
                  "name": "PubchemFP423",
                  "dtype": "int64"
                },
                {
                  "name": "PubchemFP424",
                  "dtype": "int64"
                },
                {
                  "name": "PubchemFP425",
                  "dtype": "int64"
                },
                {
                  "name": "PubchemFP426",
                  "dtype": "int64"
                },
                {
                  "name": "PubchemFP427",
                  "dtype": "int64"
                },
                {
                  "name": "PubchemFP428",
                  "dtype": "int64"
                },
                {
                  "name": "PubchemFP429",
                  "dtype": "int64"
                },
                {
                  "name": "PubchemFP430",
                  "dtype": "int64"
                },
                {
                  "name": "PubchemFP431",
                  "dtype": "int64"
                },
                {
                  "name": "PubchemFP432",
                  "dtype": "int64"
                },
                {
                  "name": "PubchemFP433",
                  "dtype": "int64"
                },
                {
                  "name": "PubchemFP434",
                  "dtype": "int64"
                },
                {
                  "name": "PubchemFP435",
                  "dtype": "int64"
                },
                {
                  "name": "PubchemFP436",
                  "dtype": "int64"
                },
                {
                  "name": "PubchemFP437",
                  "dtype": "int64"
                },
                {
                  "name": "PubchemFP438",
                  "dtype": "int64"
                },
                {
                  "name": "PubchemFP439",
                  "dtype": "int64"
                },
                {
                  "name": "PubchemFP440",
                  "dtype": "int64"
                },
                {
                  "name": "PubchemFP441",
                  "dtype": "int64"
                },
                {
                  "name": "PubchemFP442",
                  "dtype": "int64"
                },
                {
                  "name": "PubchemFP443",
                  "dtype": "int64"
                },
                {
                  "name": "PubchemFP444",
                  "dtype": "int64"
                },
                {
                  "name": "PubchemFP445",
                  "dtype": "int64"
                },
                {
                  "name": "PubchemFP446",
                  "dtype": "int64"
                },
                {
                  "name": "PubchemFP447",
                  "dtype": "int64"
                },
                {
                  "name": "PubchemFP448",
                  "dtype": "int64"
                },
                {
                  "name": "PubchemFP449",
                  "dtype": "int64"
                },
                {
                  "name": "PubchemFP450",
                  "dtype": "int64"
                },
                {
                  "name": "PubchemFP451",
                  "dtype": "int64"
                },
                {
                  "name": "PubchemFP452",
                  "dtype": "int64"
                },
                {
                  "name": "PubchemFP453",
                  "dtype": "int64"
                },
                {
                  "name": "PubchemFP454",
                  "dtype": "int64"
                },
                {
                  "name": "PubchemFP455",
                  "dtype": "int64"
                },
                {
                  "name": "PubchemFP456",
                  "dtype": "int64"
                },
                {
                  "name": "PubchemFP457",
                  "dtype": "int64"
                },
                {
                  "name": "PubchemFP458",
                  "dtype": "int64"
                },
                {
                  "name": "PubchemFP459",
                  "dtype": "int64"
                },
                {
                  "name": "PubchemFP460",
                  "dtype": "int64"
                },
                {
                  "name": "PubchemFP461",
                  "dtype": "int64"
                },
                {
                  "name": "PubchemFP462",
                  "dtype": "int64"
                },
                {
                  "name": "PubchemFP463",
                  "dtype": "int64"
                },
                {
                  "name": "PubchemFP464",
                  "dtype": "int64"
                },
                {
                  "name": "PubchemFP465",
                  "dtype": "int64"
                },
                {
                  "name": "PubchemFP466",
                  "dtype": "int64"
                },
                {
                  "name": "PubchemFP467",
                  "dtype": "int64"
                },
                {
                  "name": "PubchemFP468",
                  "dtype": "int64"
                },
                {
                  "name": "PubchemFP469",
                  "dtype": "int64"
                },
                {
                  "name": "PubchemFP470",
                  "dtype": "int64"
                },
                {
                  "name": "PubchemFP471",
                  "dtype": "int64"
                },
                {
                  "name": "PubchemFP472",
                  "dtype": "int64"
                },
                {
                  "name": "PubchemFP473",
                  "dtype": "int64"
                },
                {
                  "name": "PubchemFP474",
                  "dtype": "int64"
                },
                {
                  "name": "PubchemFP475",
                  "dtype": "int64"
                },
                {
                  "name": "PubchemFP476",
                  "dtype": "int64"
                },
                {
                  "name": "PubchemFP477",
                  "dtype": "int64"
                },
                {
                  "name": "PubchemFP478",
                  "dtype": "int64"
                },
                {
                  "name": "PubchemFP479",
                  "dtype": "int64"
                },
                {
                  "name": "PubchemFP480",
                  "dtype": "int64"
                },
                {
                  "name": "PubchemFP481",
                  "dtype": "int64"
                },
                {
                  "name": "PubchemFP482",
                  "dtype": "int64"
                },
                {
                  "name": "PubchemFP483",
                  "dtype": "int64"
                },
                {
                  "name": "PubchemFP484",
                  "dtype": "int64"
                },
                {
                  "name": "PubchemFP485",
                  "dtype": "int64"
                },
                {
                  "name": "PubchemFP486",
                  "dtype": "int64"
                },
                {
                  "name": "PubchemFP487",
                  "dtype": "int64"
                },
                {
                  "name": "PubchemFP488",
                  "dtype": "int64"
                },
                {
                  "name": "PubchemFP489",
                  "dtype": "int64"
                },
                {
                  "name": "PubchemFP490",
                  "dtype": "int64"
                },
                {
                  "name": "PubchemFP491",
                  "dtype": "int64"
                },
                {
                  "name": "PubchemFP492",
                  "dtype": "int64"
                },
                {
                  "name": "PubchemFP493",
                  "dtype": "int64"
                },
                {
                  "name": "PubchemFP494",
                  "dtype": "int64"
                },
                {
                  "name": "PubchemFP495",
                  "dtype": "int64"
                },
                {
                  "name": "PubchemFP496",
                  "dtype": "int64"
                },
                {
                  "name": "PubchemFP497",
                  "dtype": "int64"
                },
                {
                  "name": "PubchemFP498",
                  "dtype": "int64"
                },
                {
                  "name": "PubchemFP499",
                  "dtype": "int64"
                },
                {
                  "name": "_deepnote_index_column",
                  "dtype": "int64"
                }
              ],
              "rows": [
                {
                  "PubchemFP0": 1,
                  "PubchemFP1": 1,
                  "PubchemFP2": 1,
                  "PubchemFP3": 1,
                  "PubchemFP4": 0,
                  "PubchemFP5": 0,
                  "PubchemFP6": 0,
                  "PubchemFP7": 0,
                  "PubchemFP8": 0,
                  "PubchemFP9": 1,
                  "PubchemFP10": 1,
                  "PubchemFP11": 1,
                  "PubchemFP12": 1,
                  "PubchemFP13": 0,
                  "PubchemFP14": 1,
                  "PubchemFP15": 1,
                  "PubchemFP16": 1,
                  "PubchemFP17": 0,
                  "PubchemFP18": 1,
                  "PubchemFP19": 1,
                  "PubchemFP20": 0,
                  "PubchemFP21": 0,
                  "PubchemFP22": 0,
                  "PubchemFP23": 1,
                  "PubchemFP24": 0,
                  "PubchemFP25": 0,
                  "PubchemFP26": 0,
                  "PubchemFP27": 0,
                  "PubchemFP28": 0,
                  "PubchemFP29": 0,
                  "PubchemFP30": 0,
                  "PubchemFP31": 0,
                  "PubchemFP32": 0,
                  "PubchemFP33": 0,
                  "PubchemFP34": 0,
                  "PubchemFP35": 0,
                  "PubchemFP36": 0,
                  "PubchemFP37": 0,
                  "PubchemFP38": 0,
                  "PubchemFP39": 0,
                  "PubchemFP40": 0,
                  "PubchemFP41": 0,
                  "PubchemFP42": 0,
                  "PubchemFP43": 0,
                  "PubchemFP44": 0,
                  "PubchemFP45": 0,
                  "PubchemFP46": 0,
                  "PubchemFP47": 0,
                  "PubchemFP48": 0,
                  "PubchemFP49": 0,
                  "PubchemFP50": 0,
                  "PubchemFP51": 0,
                  "PubchemFP52": 0,
                  "PubchemFP53": 0,
                  "PubchemFP54": 0,
                  "PubchemFP55": 0,
                  "PubchemFP56": 0,
                  "PubchemFP57": 0,
                  "PubchemFP58": 0,
                  "PubchemFP59": 0,
                  "PubchemFP60": 0,
                  "PubchemFP61": 0,
                  "PubchemFP62": 0,
                  "PubchemFP63": 0,
                  "PubchemFP64": 0,
                  "PubchemFP65": 0,
                  "PubchemFP66": 0,
                  "PubchemFP67": 0,
                  "PubchemFP68": 0,
                  "PubchemFP69": 0,
                  "PubchemFP70": 0,
                  "PubchemFP71": 0,
                  "PubchemFP72": 0,
                  "PubchemFP73": 0,
                  "PubchemFP74": 0,
                  "PubchemFP75": 0,
                  "PubchemFP76": 0,
                  "PubchemFP77": 0,
                  "PubchemFP78": 0,
                  "PubchemFP79": 0,
                  "PubchemFP80": 0,
                  "PubchemFP81": 0,
                  "PubchemFP82": 0,
                  "PubchemFP83": 0,
                  "PubchemFP84": 0,
                  "PubchemFP85": 0,
                  "PubchemFP86": 0,
                  "PubchemFP87": 0,
                  "PubchemFP88": 0,
                  "PubchemFP89": 0,
                  "PubchemFP90": 0,
                  "PubchemFP91": 0,
                  "PubchemFP92": 0,
                  "PubchemFP93": 0,
                  "PubchemFP94": 0,
                  "PubchemFP95": 0,
                  "PubchemFP96": 0,
                  "PubchemFP97": 0,
                  "PubchemFP98": 0,
                  "PubchemFP99": 0,
                  "PubchemFP100": 0,
                  "PubchemFP101": 0,
                  "PubchemFP102": 0,
                  "PubchemFP103": 0,
                  "PubchemFP104": 0,
                  "PubchemFP105": 0,
                  "PubchemFP106": 0,
                  "PubchemFP107": 0,
                  "PubchemFP108": 0,
                  "PubchemFP109": 0,
                  "PubchemFP110": 0,
                  "PubchemFP111": 0,
                  "PubchemFP112": 0,
                  "PubchemFP113": 0,
                  "PubchemFP114": 0,
                  "PubchemFP115": 0,
                  "PubchemFP116": 0,
                  "PubchemFP117": 0,
                  "PubchemFP118": 0,
                  "PubchemFP119": 0,
                  "PubchemFP120": 0,
                  "PubchemFP121": 0,
                  "PubchemFP122": 0,
                  "PubchemFP123": 0,
                  "PubchemFP124": 0,
                  "PubchemFP125": 0,
                  "PubchemFP126": 0,
                  "PubchemFP127": 0,
                  "PubchemFP128": 0,
                  "PubchemFP129": 0,
                  "PubchemFP130": 0,
                  "PubchemFP131": 0,
                  "PubchemFP132": 0,
                  "PubchemFP133": 0,
                  "PubchemFP134": 0,
                  "PubchemFP135": 0,
                  "PubchemFP136": 0,
                  "PubchemFP137": 0,
                  "PubchemFP138": 0,
                  "PubchemFP139": 0,
                  "PubchemFP140": 0,
                  "PubchemFP141": 0,
                  "PubchemFP142": 0,
                  "PubchemFP143": 1,
                  "PubchemFP144": 0,
                  "PubchemFP145": 1,
                  "PubchemFP146": 1,
                  "PubchemFP147": 0,
                  "PubchemFP148": 0,
                  "PubchemFP149": 0,
                  "PubchemFP150": 1,
                  "PubchemFP151": 0,
                  "PubchemFP152": 1,
                  "PubchemFP153": 1,
                  "PubchemFP154": 0,
                  "PubchemFP155": 0,
                  "PubchemFP156": 0,
                  "PubchemFP157": 0,
                  "PubchemFP158": 0,
                  "PubchemFP159": 0,
                  "PubchemFP160": 0,
                  "PubchemFP161": 0,
                  "PubchemFP162": 0,
                  "PubchemFP163": 0,
                  "PubchemFP164": 0,
                  "PubchemFP165": 0,
                  "PubchemFP166": 0,
                  "PubchemFP167": 0,
                  "PubchemFP168": 0,
                  "PubchemFP169": 0,
                  "PubchemFP170": 0,
                  "PubchemFP171": 0,
                  "PubchemFP172": 0,
                  "PubchemFP173": 0,
                  "PubchemFP174": 0,
                  "PubchemFP175": 0,
                  "PubchemFP176": 0,
                  "PubchemFP177": 0,
                  "PubchemFP178": 1,
                  "PubchemFP179": 1,
                  "PubchemFP180": 1,
                  "PubchemFP181": 1,
                  "PubchemFP182": 0,
                  "PubchemFP183": 0,
                  "PubchemFP184": 0,
                  "PubchemFP185": 1,
                  "PubchemFP186": 0,
                  "PubchemFP187": 1,
                  "PubchemFP188": 1,
                  "PubchemFP189": 0,
                  "PubchemFP190": 0,
                  "PubchemFP191": 0,
                  "PubchemFP192": 1,
                  "PubchemFP193": 0,
                  "PubchemFP194": 0,
                  "PubchemFP195": 0,
                  "PubchemFP196": 0,
                  "PubchemFP197": 0,
                  "PubchemFP198": 0,
                  "PubchemFP199": 0,
                  "PubchemFP200": 0,
                  "PubchemFP201": 0,
                  "PubchemFP202": 0,
                  "PubchemFP203": 0,
                  "PubchemFP204": 0,
                  "PubchemFP205": 0,
                  "PubchemFP206": 0,
                  "PubchemFP207": 0,
                  "PubchemFP208": 0,
                  "PubchemFP209": 0,
                  "PubchemFP210": 0,
                  "PubchemFP211": 0,
                  "PubchemFP212": 0,
                  "PubchemFP213": 0,
                  "PubchemFP214": 0,
                  "PubchemFP215": 0,
                  "PubchemFP216": 0,
                  "PubchemFP217": 0,
                  "PubchemFP218": 0,
                  "PubchemFP219": 0,
                  "PubchemFP220": 0,
                  "PubchemFP221": 0,
                  "PubchemFP222": 0,
                  "PubchemFP223": 0,
                  "PubchemFP224": 0,
                  "PubchemFP225": 0,
                  "PubchemFP226": 0,
                  "PubchemFP227": 0,
                  "PubchemFP228": 0,
                  "PubchemFP229": 0,
                  "PubchemFP230": 0,
                  "PubchemFP231": 0,
                  "PubchemFP232": 0,
                  "PubchemFP233": 0,
                  "PubchemFP234": 0,
                  "PubchemFP235": 0,
                  "PubchemFP236": 0,
                  "PubchemFP237": 0,
                  "PubchemFP238": 0,
                  "PubchemFP239": 0,
                  "PubchemFP240": 0,
                  "PubchemFP241": 0,
                  "PubchemFP242": 0,
                  "PubchemFP243": 0,
                  "PubchemFP244": 0,
                  "PubchemFP245": 0,
                  "PubchemFP246": 0,
                  "PubchemFP247": 0,
                  "PubchemFP248": 0,
                  "PubchemFP249": 0,
                  "PubchemFP250": 0,
                  "PubchemFP251": 0,
                  "PubchemFP252": 0,
                  "PubchemFP253": 0,
                  "PubchemFP254": 0,
                  "PubchemFP255": 1,
                  "PubchemFP256": 1,
                  "PubchemFP257": 1,
                  "PubchemFP258": 0,
                  "PubchemFP259": 0,
                  "PubchemFP260": 0,
                  "PubchemFP261": 0,
                  "PubchemFP262": 0,
                  "PubchemFP263": 0,
                  "PubchemFP264": 0,
                  "PubchemFP265": 0,
                  "PubchemFP266": 0,
                  "PubchemFP267": 0,
                  "PubchemFP268": 0,
                  "PubchemFP269": 0,
                  "PubchemFP270": 0,
                  "PubchemFP271": 0,
                  "PubchemFP272": 0,
                  "PubchemFP273": 0,
                  "PubchemFP274": 0,
                  "PubchemFP275": 0,
                  "PubchemFP276": 0,
                  "PubchemFP277": 0,
                  "PubchemFP278": 0,
                  "PubchemFP279": 0,
                  "PubchemFP280": 0,
                  "PubchemFP281": 0,
                  "PubchemFP282": 0,
                  "PubchemFP283": 1,
                  "PubchemFP284": 1,
                  "PubchemFP285": 1,
                  "PubchemFP286": 1,
                  "PubchemFP287": 1,
                  "PubchemFP288": 0,
                  "PubchemFP289": 0,
                  "PubchemFP290": 0,
                  "PubchemFP291": 0,
                  "PubchemFP292": 0,
                  "PubchemFP293": 0,
                  "PubchemFP294": 0,
                  "PubchemFP295": 0,
                  "PubchemFP296": 0,
                  "PubchemFP297": 0,
                  "PubchemFP298": 0,
                  "PubchemFP299": 1,
                  "PubchemFP300": 0,
                  "PubchemFP301": 0,
                  "PubchemFP302": 0,
                  "PubchemFP303": 0,
                  "PubchemFP304": 0,
                  "PubchemFP305": 0,
                  "PubchemFP306": 0,
                  "PubchemFP307": 0,
                  "PubchemFP308": 0,
                  "PubchemFP309": 0,
                  "PubchemFP310": 0,
                  "PubchemFP311": 0,
                  "PubchemFP312": 0,
                  "PubchemFP313": 0,
                  "PubchemFP314": 0,
                  "PubchemFP315": 0,
                  "PubchemFP316": 0,
                  "PubchemFP317": 0,
                  "PubchemFP318": 0,
                  "PubchemFP319": 0,
                  "PubchemFP320": 0,
                  "PubchemFP321": 0,
                  "PubchemFP322": 0,
                  "PubchemFP323": 0,
                  "PubchemFP324": 0,
                  "PubchemFP325": 0,
                  "PubchemFP326": 0,
                  "PubchemFP327": 0,
                  "PubchemFP328": 0,
                  "PubchemFP329": 0,
                  "PubchemFP330": 0,
                  "PubchemFP331": 0,
                  "PubchemFP332": 1,
                  "PubchemFP333": 1,
                  "PubchemFP334": 0,
                  "PubchemFP335": 1,
                  "PubchemFP336": 0,
                  "PubchemFP337": 0,
                  "PubchemFP338": 1,
                  "PubchemFP339": 0,
                  "PubchemFP340": 1,
                  "PubchemFP341": 0,
                  "PubchemFP342": 0,
                  "PubchemFP343": 0,
                  "PubchemFP344": 1,
                  "PubchemFP345": 1,
                  "PubchemFP346": 0,
                  "PubchemFP347": 0,
                  "PubchemFP348": 0,
                  "PubchemFP349": 0,
                  "PubchemFP350": 0,
                  "PubchemFP351": 1,
                  "PubchemFP352": 1,
                  "PubchemFP353": 0,
                  "PubchemFP354": 0,
                  "PubchemFP355": 1,
                  "PubchemFP356": 1,
                  "PubchemFP357": 1,
                  "PubchemFP358": 1,
                  "PubchemFP359": 1,
                  "PubchemFP360": 0,
                  "PubchemFP361": 0,
                  "PubchemFP362": 0,
                  "PubchemFP363": 0,
                  "PubchemFP364": 1,
                  "PubchemFP365": 1,
                  "PubchemFP366": 0,
                  "PubchemFP367": 0,
                  "PubchemFP368": 0,
                  "PubchemFP369": 0,
                  "PubchemFP370": 1,
                  "PubchemFP371": 1,
                  "PubchemFP372": 0,
                  "PubchemFP373": 0,
                  "PubchemFP374": 1,
                  "PubchemFP375": 1,
                  "PubchemFP376": 1,
                  "PubchemFP377": 0,
                  "PubchemFP378": 0,
                  "PubchemFP379": 1,
                  "PubchemFP380": 0,
                  "PubchemFP381": 0,
                  "PubchemFP382": 0,
                  "PubchemFP383": 0,
                  "PubchemFP384": 1,
                  "PubchemFP385": 0,
                  "PubchemFP386": 0,
                  "PubchemFP387": 1,
                  "PubchemFP388": 0,
                  "PubchemFP389": 1,
                  "PubchemFP390": 1,
                  "PubchemFP391": 1,
                  "PubchemFP392": 1,
                  "PubchemFP393": 1,
                  "PubchemFP394": 0,
                  "PubchemFP395": 0,
                  "PubchemFP396": 1,
                  "PubchemFP397": 1,
                  "PubchemFP398": 0,
                  "PubchemFP399": 0,
                  "PubchemFP400": 0,
                  "PubchemFP401": 0,
                  "PubchemFP402": 0,
                  "PubchemFP403": 1,
                  "PubchemFP404": 0,
                  "PubchemFP405": 0,
                  "PubchemFP406": 0,
                  "PubchemFP407": 0,
                  "PubchemFP408": 0,
                  "PubchemFP409": 0,
                  "PubchemFP410": 0,
                  "PubchemFP411": 0,
                  "PubchemFP412": 0,
                  "PubchemFP413": 0,
                  "PubchemFP414": 0,
                  "PubchemFP415": 0,
                  "PubchemFP416": 1,
                  "PubchemFP417": 0,
                  "PubchemFP418": 1,
                  "PubchemFP419": 0,
                  "PubchemFP420": 1,
                  "PubchemFP421": 0,
                  "PubchemFP422": 0,
                  "PubchemFP423": 0,
                  "PubchemFP424": 0,
                  "PubchemFP425": 0,
                  "PubchemFP426": 0,
                  "PubchemFP427": 0,
                  "PubchemFP428": 0,
                  "PubchemFP429": 0,
                  "PubchemFP430": 1,
                  "PubchemFP431": 1,
                  "PubchemFP432": 0,
                  "PubchemFP433": 0,
                  "PubchemFP434": 1,
                  "PubchemFP435": 0,
                  "PubchemFP436": 0,
                  "PubchemFP437": 1,
                  "PubchemFP438": 1,
                  "PubchemFP439": 1,
                  "PubchemFP440": 0,
                  "PubchemFP441": 1,
                  "PubchemFP442": 1,
                  "PubchemFP443": 1,
                  "PubchemFP444": 0,
                  "PubchemFP445": 0,
                  "PubchemFP446": 1,
                  "PubchemFP447": 0,
                  "PubchemFP448": 0,
                  "PubchemFP449": 1,
                  "PubchemFP450": 1,
                  "PubchemFP451": 1,
                  "PubchemFP452": 0,
                  "PubchemFP453": 1,
                  "PubchemFP454": 0,
                  "PubchemFP455": 0,
                  "PubchemFP456": 0,
                  "PubchemFP457": 0,
                  "PubchemFP458": 0,
                  "PubchemFP459": 0,
                  "PubchemFP460": 0,
                  "PubchemFP461": 0,
                  "PubchemFP462": 0,
                  "PubchemFP463": 0,
                  "PubchemFP464": 1,
                  "PubchemFP465": 0,
                  "PubchemFP466": 0,
                  "PubchemFP467": 0,
                  "PubchemFP468": 0,
                  "PubchemFP469": 0,
                  "PubchemFP470": 1,
                  "PubchemFP471": 0,
                  "PubchemFP472": 1,
                  "PubchemFP473": 0,
                  "PubchemFP474": 0,
                  "PubchemFP475": 0,
                  "PubchemFP476": 0,
                  "PubchemFP477": 0,
                  "PubchemFP478": 0,
                  "PubchemFP479": 0,
                  "PubchemFP480": 0,
                  "PubchemFP481": 0,
                  "PubchemFP482": 1,
                  "PubchemFP483": 0,
                  "PubchemFP484": 1,
                  "PubchemFP485": 1,
                  "PubchemFP486": 0,
                  "PubchemFP487": 1,
                  "PubchemFP488": 0,
                  "PubchemFP489": 0,
                  "PubchemFP490": 1,
                  "PubchemFP491": 0,
                  "PubchemFP492": 0,
                  "PubchemFP493": 0,
                  "PubchemFP494": 0,
                  "PubchemFP495": 1,
                  "PubchemFP496": 0,
                  "PubchemFP497": 0,
                  "PubchemFP498": 0,
                  "PubchemFP499": 1,
                  "_deepnote_index_column": 2960
                }
              ]
            },
            "text/plain": "      PubchemFP0  PubchemFP1  PubchemFP2  PubchemFP3  PubchemFP4  PubchemFP5  \\\n0              1           1           1           1           0           0   \n1              1           1           1           1           0           0   \n2              1           1           1           1           0           0   \n3              1           1           1           1           0           0   \n4              1           1           1           1           0           0   \n...          ...         ...         ...         ...         ...         ...   \n2956           1           1           1           1           0           0   \n2957           1           1           1           1           0           0   \n2958           1           1           1           1           0           0   \n2959           1           1           1           1           0           0   \n2960           1           1           1           1           0           0   \n\n      PubchemFP6  PubchemFP7  PubchemFP8  PubchemFP9  ...  PubchemFP871  \\\n0              0           0           0           1  ...             0   \n1              0           0           0           1  ...             0   \n2              0           0           0           1  ...             0   \n3              0           0           0           1  ...             0   \n4              0           0           0           1  ...             0   \n...          ...         ...         ...         ...  ...           ...   \n2956           0           0           0           1  ...             0   \n2957           0           0           0           1  ...             0   \n2958           0           0           0           1  ...             0   \n2959           0           0           0           1  ...             0   \n2960           0           0           0           1  ...             0   \n\n      PubchemFP872  PubchemFP873  PubchemFP874  PubchemFP875  PubchemFP876  \\\n0                0             0             0             0             0   \n1                0             0             0             0             0   \n2                0             0             0             0             0   \n3                0             0             0             0             0   \n4                0             0             0             0             0   \n...            ...           ...           ...           ...           ...   \n2956             0             0             0             0             0   \n2957             0             0             0             0             0   \n2958             0             0             0             0             0   \n2959             0             0             0             0             0   \n2960             0             0             0             0             0   \n\n      PubchemFP877  PubchemFP878  PubchemFP879  PubchemFP880  \n0                0             0             0             0  \n1                0             0             0             0  \n2                0             0             0             0  \n3                0             0             0             0  \n4                0             0             0             0  \n...            ...           ...           ...           ...  \n2956             0             0             0             0  \n2957             0             0             0             0  \n2958             0             0             0             0  \n2959             0             0             0             0  \n2960             0             0             0             0  \n\n[2961 rows x 881 columns]",
            "text/html": "<div>\n<style scoped>\n    .dataframe tbody tr th:only-of-type {\n        vertical-align: middle;\n    }\n\n    .dataframe tbody tr th {\n        vertical-align: top;\n    }\n\n    .dataframe thead th {\n        text-align: right;\n    }\n</style>\n<table border=\"1\" class=\"dataframe\">\n  <thead>\n    <tr style=\"text-align: right;\">\n      <th></th>\n      <th>PubchemFP0</th>\n      <th>PubchemFP1</th>\n      <th>PubchemFP2</th>\n      <th>PubchemFP3</th>\n      <th>PubchemFP4</th>\n      <th>PubchemFP5</th>\n      <th>PubchemFP6</th>\n      <th>PubchemFP7</th>\n      <th>PubchemFP8</th>\n      <th>PubchemFP9</th>\n      <th>...</th>\n      <th>PubchemFP871</th>\n      <th>PubchemFP872</th>\n      <th>PubchemFP873</th>\n      <th>PubchemFP874</th>\n      <th>PubchemFP875</th>\n      <th>PubchemFP876</th>\n      <th>PubchemFP877</th>\n      <th>PubchemFP878</th>\n      <th>PubchemFP879</th>\n      <th>PubchemFP880</th>\n    </tr>\n  </thead>\n  <tbody>\n    <tr>\n      <th>0</th>\n      <td>1</td>\n      <td>1</td>\n      <td>1</td>\n      <td>1</td>\n      <td>0</td>\n      <td>0</td>\n      <td>0</td>\n      <td>0</td>\n      <td>0</td>\n      <td>1</td>\n      <td>...</td>\n      <td>0</td>\n      <td>0</td>\n      <td>0</td>\n      <td>0</td>\n      <td>0</td>\n      <td>0</td>\n      <td>0</td>\n      <td>0</td>\n      <td>0</td>\n      <td>0</td>\n    </tr>\n    <tr>\n      <th>1</th>\n      <td>1</td>\n      <td>1</td>\n      <td>1</td>\n      <td>1</td>\n      <td>0</td>\n      <td>0</td>\n      <td>0</td>\n      <td>0</td>\n      <td>0</td>\n      <td>1</td>\n      <td>...</td>\n      <td>0</td>\n      <td>0</td>\n      <td>0</td>\n      <td>0</td>\n      <td>0</td>\n      <td>0</td>\n      <td>0</td>\n      <td>0</td>\n      <td>0</td>\n      <td>0</td>\n    </tr>\n    <tr>\n      <th>2</th>\n      <td>1</td>\n      <td>1</td>\n      <td>1</td>\n      <td>1</td>\n      <td>0</td>\n      <td>0</td>\n      <td>0</td>\n      <td>0</td>\n      <td>0</td>\n      <td>1</td>\n      <td>...</td>\n      <td>0</td>\n      <td>0</td>\n      <td>0</td>\n      <td>0</td>\n      <td>0</td>\n      <td>0</td>\n      <td>0</td>\n      <td>0</td>\n      <td>0</td>\n      <td>0</td>\n    </tr>\n    <tr>\n      <th>3</th>\n      <td>1</td>\n      <td>1</td>\n      <td>1</td>\n      <td>1</td>\n      <td>0</td>\n      <td>0</td>\n      <td>0</td>\n      <td>0</td>\n      <td>0</td>\n      <td>1</td>\n      <td>...</td>\n      <td>0</td>\n      <td>0</td>\n      <td>0</td>\n      <td>0</td>\n      <td>0</td>\n      <td>0</td>\n      <td>0</td>\n      <td>0</td>\n      <td>0</td>\n      <td>0</td>\n    </tr>\n    <tr>\n      <th>4</th>\n      <td>1</td>\n      <td>1</td>\n      <td>1</td>\n      <td>1</td>\n      <td>0</td>\n      <td>0</td>\n      <td>0</td>\n      <td>0</td>\n      <td>0</td>\n      <td>1</td>\n      <td>...</td>\n      <td>0</td>\n      <td>0</td>\n      <td>0</td>\n      <td>0</td>\n      <td>0</td>\n      <td>0</td>\n      <td>0</td>\n      <td>0</td>\n      <td>0</td>\n      <td>0</td>\n    </tr>\n    <tr>\n      <th>...</th>\n      <td>...</td>\n      <td>...</td>\n      <td>...</td>\n      <td>...</td>\n      <td>...</td>\n      <td>...</td>\n      <td>...</td>\n      <td>...</td>\n      <td>...</td>\n      <td>...</td>\n      <td>...</td>\n      <td>...</td>\n      <td>...</td>\n      <td>...</td>\n      <td>...</td>\n      <td>...</td>\n      <td>...</td>\n      <td>...</td>\n      <td>...</td>\n      <td>...</td>\n      <td>...</td>\n    </tr>\n    <tr>\n      <th>2956</th>\n      <td>1</td>\n      <td>1</td>\n      <td>1</td>\n      <td>1</td>\n      <td>0</td>\n      <td>0</td>\n      <td>0</td>\n      <td>0</td>\n      <td>0</td>\n      <td>1</td>\n      <td>...</td>\n      <td>0</td>\n      <td>0</td>\n      <td>0</td>\n      <td>0</td>\n      <td>0</td>\n      <td>0</td>\n      <td>0</td>\n      <td>0</td>\n      <td>0</td>\n      <td>0</td>\n    </tr>\n    <tr>\n      <th>2957</th>\n      <td>1</td>\n      <td>1</td>\n      <td>1</td>\n      <td>1</td>\n      <td>0</td>\n      <td>0</td>\n      <td>0</td>\n      <td>0</td>\n      <td>0</td>\n      <td>1</td>\n      <td>...</td>\n      <td>0</td>\n      <td>0</td>\n      <td>0</td>\n      <td>0</td>\n      <td>0</td>\n      <td>0</td>\n      <td>0</td>\n      <td>0</td>\n      <td>0</td>\n      <td>0</td>\n    </tr>\n    <tr>\n      <th>2958</th>\n      <td>1</td>\n      <td>1</td>\n      <td>1</td>\n      <td>1</td>\n      <td>0</td>\n      <td>0</td>\n      <td>0</td>\n      <td>0</td>\n      <td>0</td>\n      <td>1</td>\n      <td>...</td>\n      <td>0</td>\n      <td>0</td>\n      <td>0</td>\n      <td>0</td>\n      <td>0</td>\n      <td>0</td>\n      <td>0</td>\n      <td>0</td>\n      <td>0</td>\n      <td>0</td>\n    </tr>\n    <tr>\n      <th>2959</th>\n      <td>1</td>\n      <td>1</td>\n      <td>1</td>\n      <td>1</td>\n      <td>0</td>\n      <td>0</td>\n      <td>0</td>\n      <td>0</td>\n      <td>0</td>\n      <td>1</td>\n      <td>...</td>\n      <td>0</td>\n      <td>0</td>\n      <td>0</td>\n      <td>0</td>\n      <td>0</td>\n      <td>0</td>\n      <td>0</td>\n      <td>0</td>\n      <td>0</td>\n      <td>0</td>\n    </tr>\n    <tr>\n      <th>2960</th>\n      <td>1</td>\n      <td>1</td>\n      <td>1</td>\n      <td>1</td>\n      <td>0</td>\n      <td>0</td>\n      <td>0</td>\n      <td>0</td>\n      <td>0</td>\n      <td>1</td>\n      <td>...</td>\n      <td>0</td>\n      <td>0</td>\n      <td>0</td>\n      <td>0</td>\n      <td>0</td>\n      <td>0</td>\n      <td>0</td>\n      <td>0</td>\n      <td>0</td>\n      <td>0</td>\n    </tr>\n  </tbody>\n</table>\n<p>2961 rows × 881 columns</p>\n</div>"
          },
          "metadata": {}
        }
      ],
      "execution_count": 5
    },
    {
      "cell_type": "code",
      "source": "Y = df_ccr5.pIC50\nY",
      "metadata": {
        "source_hash": "6cb604f7",
        "execution_start": 1690130483337,
        "execution_millis": 130,
        "deepnote_to_be_reexecuted": false,
        "cell_id": "85171a1512ea4c01bb1d4d299ed90283",
        "deepnote_cell_type": "code"
      },
      "outputs": [
        {
          "output_type": "execute_result",
          "execution_count": 6,
          "data": {
            "text/plain": "0      6.47\n1      7.55\n2      8.00\n3      7.46\n4      7.82\n       ... \n2956   8.60\n2957   8.08\n2958   7.80\n2959   8.10\n2960   7.72\nName: pIC50, Length: 2961, dtype: float64"
          },
          "metadata": {}
        }
      ],
      "execution_count": 6
    },
    {
      "cell_type": "code",
      "source": "X.shape",
      "metadata": {
        "source_hash": "83f8c40",
        "execution_start": 1690130483355,
        "execution_millis": 6,
        "deepnote_to_be_reexecuted": false,
        "cell_id": "806596c5080a4122b9e890198a28dd2f",
        "deepnote_cell_type": "code"
      },
      "outputs": [
        {
          "output_type": "execute_result",
          "execution_count": 7,
          "data": {
            "text/plain": "(2961, 881)"
          },
          "metadata": {}
        }
      ],
      "execution_count": 7
    },
    {
      "cell_type": "code",
      "source": "Y.shape",
      "metadata": {
        "source_hash": "9f06493e",
        "execution_start": 1690130483407,
        "execution_millis": 18,
        "deepnote_to_be_reexecuted": false,
        "cell_id": "3fb959d41ce046f294f1b3c8a547b3dd",
        "deepnote_cell_type": "code"
      },
      "outputs": [
        {
          "output_type": "execute_result",
          "execution_count": 8,
          "data": {
            "text/plain": "(2961,)"
          },
          "metadata": {}
        }
      ],
      "execution_count": 8
    },
    {
      "cell_type": "code",
      "source": "# Remove low variance features\nselection = VarianceThreshold(threshold=(.8 * (1 - .8)))    \nX = selection.fit_transform(X)",
      "metadata": {
        "source_hash": "daba0345",
        "execution_start": 1690130483408,
        "execution_millis": 50,
        "deepnote_to_be_reexecuted": false,
        "cell_id": "00fb62bafc564a6bb4b923acbc447a59",
        "deepnote_cell_type": "code"
      },
      "outputs": [],
      "execution_count": 9
    },
    {
      "cell_type": "code",
      "source": "X.shape",
      "metadata": {
        "source_hash": "83f8c40",
        "execution_start": 1690130483448,
        "execution_millis": 32,
        "deepnote_to_be_reexecuted": false,
        "cell_id": "55f17edc580a41c58319059d2f08a95b",
        "deepnote_cell_type": "code"
      },
      "outputs": [
        {
          "output_type": "execute_result",
          "execution_count": 10,
          "data": {
            "text/plain": "(2961, 154)"
          },
          "metadata": {}
        }
      ],
      "execution_count": 10
    },
    {
      "cell_type": "code",
      "source": "# Split the model into 80-20 format\nX_train, X_test, Y_train, Y_test = train_test_split(X, Y, test_size=0.2, random_state=42)",
      "metadata": {
        "source_hash": "4e0f3071",
        "execution_start": 1690130483464,
        "execution_millis": 27,
        "deepnote_to_be_reexecuted": false,
        "cell_id": "d0b0f588466a4b8ea2c501b5dabb39a7",
        "deepnote_cell_type": "code"
      },
      "outputs": [],
      "execution_count": 11
    },
    {
      "cell_type": "code",
      "source": "X_train.shape, Y_train.shape",
      "metadata": {
        "source_hash": "6b208f49",
        "execution_start": 1690130483472,
        "execution_millis": 23,
        "deepnote_to_be_reexecuted": false,
        "cell_id": "fdf72468991b4b2089ca4db30d976298",
        "deepnote_cell_type": "code"
      },
      "outputs": [
        {
          "output_type": "execute_result",
          "execution_count": 12,
          "data": {
            "text/plain": "((2368, 154), (2368,))"
          },
          "metadata": {}
        }
      ],
      "execution_count": 12
    },
    {
      "cell_type": "code",
      "source": "X_test.shape, Y_test.shape",
      "metadata": {
        "source_hash": "520ac4fc",
        "execution_start": 1690130483478,
        "execution_millis": 21,
        "deepnote_to_be_reexecuted": false,
        "cell_id": "a0c1dc0562cf441493f8e4ab17775244",
        "deepnote_cell_type": "code"
      },
      "outputs": [
        {
          "output_type": "execute_result",
          "execution_count": 13,
          "data": {
            "text/plain": "((593, 154), (593,))"
          },
          "metadata": {}
        }
      ],
      "execution_count": 13
    },
    {
      "cell_type": "code",
      "source": "# These Regressors were removed because of other regressors tend to do better on datasets like ours, with a\n# sparesely populated feature set (X data)\n\nremoved_regressors = [\n    \"TheilSenRegressor\",\n    \"ARDRegression\", \n    \"CCA\", \n    \"IsotonicRegression\", \n    \"StackingRegressor\",\n    \"MultiOutputRegressor\", \n    \"MultiTaskElasticNet\", \n    \"MultiTaskElasticNetCV\", \n    \"MultiTaskLasso\", \n    \"MultiTaskLassoCV\", \n    \"PLSCanonical\", \n    \"PLSRegression\", \n    \"QuantileRegressor\", \n    \"RadiusNeighborsRegressor\", \n    \"RegressorChain\", \n    \"VotingRegressor\", \n]\n\nREGRESSORS = [\n    est\n    for est in all_estimators()\n    if (issubclass(est[1], RegressorMixin) and (est[0] not in removed_regressors))\n]\n\n\nclf = LazyRegressor(custom_metric=None, verbose=1, ignore_warnings=False, regressors = REGRESSORS)",
      "metadata": {
        "source_hash": "e33a8442",
        "execution_start": 1690132465769,
        "execution_millis": 109,
        "deepnote_to_be_reexecuted": false,
        "cell_id": "c642790aa98d4ac8a7449a29ccaeec67",
        "deepnote_cell_type": "code"
      },
      "outputs": [],
      "execution_count": 37
    },
    {
      "cell_type": "code",
      "source": "models, predictions = clf.fit(X_train, X_test, Y_train, Y_test)",
      "metadata": {
        "source_hash": "4dfef884",
        "execution_start": 1690132470359,
        "execution_millis": 77530,
        "deepnote_to_be_reexecuted": false,
        "cell_id": "a045cdaa62a04eefbc78f9708269be2a",
        "deepnote_cell_type": "code"
      },
      "outputs": [
        {
          "name": "stdout",
          "text": "'tuple' object has no attribute '__name__'\nInvalid Regressor(s)\n  3%|▎         | 1/39 [00:01<00:54,  1.43s/it]{'Model': 'AdaBoostRegressor', 'R-Squared': 0.3689252635258544, 'Adjusted R-Squared': 0.14704053882946533, 'RMSE': 1.137687388654798, 'Time taken': 1.4252746105194092}\n  5%|▌         | 2/39 [00:01<00:31,  1.19it/s]{'Model': 'BaggingRegressor', 'R-Squared': 0.5903297336219759, 'Adjusted R-Squared': 0.44629041621965704, 'RMSE': 0.9166420343424739, 'Time taken': 0.43371033668518066}\n  8%|▊         | 3/39 [00:02<00:20,  1.74it/s]{'Model': 'BayesianRidge', 'R-Squared': 0.43467671079297476, 'Adjusted R-Squared': 0.23591007486173765, 'RMSE': 1.0767899294017755, 'Time taken': 0.257108211517334}\n 10%|█         | 4/39 [00:02<00:15,  2.31it/s]{'Model': 'DecisionTreeRegressor', 'R-Squared': 0.5178790817273122, 'Adjusted R-Squared': 0.3483662474487873, 'RMSE': 0.9943986686009023, 'Time taken': 0.21472620964050293}\n{'Model': 'DummyRegressor', 'R-Squared': -0.007532435274105964, 'Adjusted R-Squared': -0.36177899927459056, 'RMSE': 1.4375139395074146, 'Time taken': 0.025852680206298828}\n{'Model': 'ElasticNet', 'R-Squared': 0.032900296411533136, 'Adjusted R-Squared': -0.307130192978019, 'RMSE': 1.408374560222409, 'Time taken': 0.040869712829589844}\n 21%|██        | 8/39 [00:14<01:03,  2.06s/it]{'Model': 'ElasticNetCV', 'R-Squared': 0.4321761829481533, 'Adjusted R-Squared': 0.23253036599385113, 'RMSE': 1.0791687208095213, 'Time taken': 11.698293447494507}\n{'Model': 'ExtraTreeRegressor', 'R-Squared': 0.518522124005859, 'Adjusted R-Squared': 0.3492353822179647, 'RMSE': 0.9937352937901545, 'Time taken': 0.15372371673583984}\n 26%|██▌       | 10/39 [00:17<00:52,  1.80s/it]{'Model': 'ExtraTreesRegressor', 'R-Squared': 0.5354857840306784, 'Adjusted R-Squared': 0.3721634341236566, 'RMSE': 0.9760724424175624, 'Time taken': 3.388667583465576}\n{'Model': 'GammaRegressor', 'R-Squared': 0.3697348475906105, 'Adjusted R-Squared': 0.14813477117269735, 'RMSE': 1.1369574044596673, 'Time taken': 0.1457679271697998}\n 28%|██▊       | 11/39 [00:20<00:54,  1.94s/it]{'Model': 'GaussianProcessRegressor', 'R-Squared': -7.086705504024772, 'Adjusted R-Squared': -9.929976389001519, 'RMSE': 4.072568149236062, 'Time taken': 2.3186395168304443}\n 31%|███       | 12/39 [00:21<00:46,  1.71s/it]{'Model': 'GradientBoostingRegressor', 'R-Squared': 0.5576456854959482, 'Adjusted R-Squared': 0.40211471646940944, 'RMSE': 0.9525059129960664, 'Time taken': 1.1164145469665527}\n 33%|███▎      | 13/39 [00:22<00:40,  1.56s/it]{'Model': 'HistGradientBoostingRegressor', 'R-Squared': 0.6085690180134802, 'Adjusted R-Squared': 0.47094259968945273, 'RMSE': 0.896004406064344, 'Time taken': 1.1629469394683838}\n 38%|███▊      | 15/39 [00:23<00:26,  1.09s/it]{'Model': 'HuberRegressor', 'R-Squared': 0.4183299205668993, 'Adjusted R-Squared': 0.21381578304932514, 'RMSE': 1.0922471217784167, 'Time taken': 1.307699203491211}\n{'Model': 'KNeighborsRegressor', 'R-Squared': 0.5872060550497658, 'Adjusted R-Squared': 0.4420684579668067, 'RMSE': 0.9201300318482055, 'Time taken': 0.1258070468902588}\n 41%|████      | 16/39 [00:24<00:24,  1.05s/it]{'Model': 'KernelRidge', 'R-Squared': -25.82012810728288, 'Adjusted R-Squared': -35.250036163268184, 'RMSE': 7.416738563265035, 'Time taken': 0.9630007743835449}\n 44%|████▎     | 17/39 [00:25<00:18,  1.21it/s]{'Model': 'Lars', 'R-Squared': -5.658287062293099e+29, 'Adjusted R-Squared': -7.647730458624462e+29, 'RMSE': 1077271164108708.0, 'Time taken': 0.2953670024871826}\n 49%|████▊     | 19/39 [00:26<00:14,  1.35it/s]{'Model': 'LarsCV', 'R-Squared': -0.2783140385762384, 'Adjusted R-Squared': -0.7277669197194818, 'RMSE': 1.6192030970257534, 'Time taken': 1.3054423332214355}\n{'Model': 'Lasso', 'R-Squared': -0.007532435274105964, 'Adjusted R-Squared': -0.36177899927459056, 'RMSE': 1.4375139395074146, 'Time taken': 0.18971800804138184}\n 54%|█████▍    | 21/39 [00:38<00:50,  2.81s/it]{'Model': 'LassoCV', 'R-Squared': 0.43220966382700743, 'Adjusted R-Squared': 0.23257561868855803, 'RMSE': 1.079136904558824, 'Time taken': 11.499283790588379}\n{'Model': 'LassoLars', 'R-Squared': -0.007532435274105964, 'Adjusted R-Squared': -0.36177899927459056, 'RMSE': 1.4375139395074146, 'Time taken': 0.12830376625061035}\n 56%|█████▋    | 22/39 [00:39<00:37,  2.20s/it]{'Model': 'LassoLarsCV', 'R-Squared': 0.27747402485637795, 'Adjusted R-Squared': 0.023435211678026868, 'RMSE': 1.2173326742850026, 'Time taken': 0.7813949584960938}\n 59%|█████▉    | 23/39 [00:39<00:27,  1.69s/it]{'Model': 'LassoLarsIC', 'R-Squared': 0.34006943901278897, 'Adjusted R-Squared': 0.10803905912230838, 'RMSE': 1.1634069851501068, 'Time taken': 0.5009539127349854}\n 62%|██████▏   | 24/39 [00:39<00:19,  1.28s/it]{'Model': 'LinearRegression', 'R-Squared': -1.7126923323632596e+21, 'Adjusted R-Squared': -2.3148718282170082e+21, 'RMSE': 59268266269.41072, 'Time taken': 0.2915477752685547}\n 64%|██████▍   | 25/39 [00:40<00:15,  1.09s/it]{'Model': 'LinearSVR', 'R-Squared': 0.3821978976472785, 'Adjusted R-Squared': 0.1649798068657281, 'RMSE': 1.1256600096250917, 'Time taken': 0.6594433784484863}\n 67%|██████▋   | 26/39 [01:05<01:45,  8.15s/it]{'Model': 'MLPRegressor', 'R-Squared': 0.6052320821639845, 'Adjusted R-Squared': 0.46643240329013436, 'RMSE': 0.8998155045211963, 'Time taken': 24.64172339439392}\n 69%|██████▉   | 27/39 [01:06<01:12,  6.00s/it]{'Model': 'NuSVR', 'R-Squared': 0.6047965212472903, 'Adjusted R-Squared': 0.46584369995067554, 'RMSE': 0.900311766251177, 'Time taken': 0.9008922576904297}\n{'Model': 'OrthogonalMatchingPursuit', 'R-Squared': 0.31370783144627534, 'Adjusted R-Squared': 0.07240875848446349, 'RMSE': 1.1864161999951024, 'Time taken': 0.034372568130493164}\n 77%|███████▋  | 30/39 [01:06<00:23,  2.59s/it]{'Model': 'OrthogonalMatchingPursuitCV', 'R-Squared': 0.31370783144627534, 'Adjusted R-Squared': 0.07240875848446349, 'RMSE': 1.1864161999951024, 'Time taken': 0.5828821659088135}\n{'Model': 'PassiveAggressiveRegressor', 'R-Squared': 0.05420928093396549, 'Adjusted R-Squared': -0.2783290084180192, 'RMSE': 1.3927721391878505, 'Time taken': 0.1963958740234375}\n 79%|███████▉  | 31/39 [01:07<00:15,  1.99s/it]{'Model': 'PoissonRegressor', 'R-Squared': 0.409981602330846, 'Adjusted R-Squared': 0.20253221136954536, 'RMSE': 1.1000573409491534, 'Time taken': 0.30516529083251953}\n 82%|████████▏ | 32/39 [01:12<00:20,  2.92s/it]{'Model': 'RANSACRegressor', 'R-Squared': -5.940449992519793e+22, 'Adjusted R-Squared': -8.029101359752778e+22, 'RMSE': 349053678169.71497, 'Time taken': 5.399039268493652}\n 87%|████████▋ | 34/39 [01:15<00:10,  2.05s/it]{'Model': 'RandomForestRegressor', 'R-Squared': 0.6118055617902369, 'Adjusted R-Squared': 0.4753171063466216, 'RMSE': 0.8922924145531042, 'Time taken': 2.4843649864196777}\n{'Model': 'Ridge', 'R-Squared': 0.42718606799793735, 'Adjusted R-Squared': 0.2257857357415044, 'RMSE': 1.0839002907885724, 'Time taken': 0.11422276496887207}\n 90%|████████▉ | 35/39 [01:15<00:06,  1.55s/it]{'Model': 'RidgeCV', 'R-Squared': 0.43380971737225527, 'Adjusted R-Squared': 0.23473824813784283, 'RMSE': 1.0776153085609503, 'Time taken': 0.3125452995300293}\n 92%|█████████▏| 36/39 [01:15<00:03,  1.15s/it]{'Model': 'SGDRegressor', 'R-Squared': 0.4189751998359721, 'Adjusted R-Squared': 0.2146879413308116, 'RMSE': 1.0916411081397654, 'Time taken': 0.2095353603363037}\n 95%|█████████▍| 37/39 [01:16<00:02,  1.15s/it]{'Model': 'SVR', 'R-Squared': 0.6068365216182723, 'Adjusted R-Squared': 0.4686009607260667, 'RMSE': 0.897985100741183, 'Time taken': 1.144454002380371}\n 97%|█████████▋| 38/39 [01:17<00:00,  1.14it/s]{'Model': 'TransformedTargetRegressor', 'R-Squared': -1.7126923323632596e+21, 'Adjusted R-Squared': -2.3148718282170082e+21, 'RMSE': 59268266269.41072, 'Time taken': 0.22382521629333496}\n100%|██████████| 39/39 [01:17<00:00,  1.98s/it]{'Model': 'TweedieRegressor', 'R-Squared': 0.3787942560844515, 'Adjusted R-Squared': 0.16037945114610797, 'RMSE': 1.1287565357500988, 'Time taken': 0.20534324645996094}\n\n",
          "output_type": "stream"
        }
      ],
      "execution_count": 38
    },
    {
      "cell_type": "code",
      "source": "# Performance table of the test set (20% subset) based on training data (80% subset)\npredictions",
      "metadata": {
        "source_hash": "f6626f15",
        "execution_start": 1690132564451,
        "execution_millis": 122,
        "deepnote_table_state": {
          "sortBy": [],
          "filters": [],
          "pageSize": 10,
          "pageIndex": 0
        },
        "deepnote_table_loading": false,
        "deepnote_to_be_reexecuted": false,
        "cell_id": "ce7bf42371b549428d14548851a543c8",
        "deepnote_cell_type": "code"
      },
      "outputs": [
        {
          "output_type": "execute_result",
          "execution_count": 39,
          "data": {
            "application/vnd.deepnote.dataframe.v3+json": {
              "column_count": 4,
              "row_count": 39,
              "columns": [
                {
                  "name": "Adjusted R-Squared",
                  "dtype": "float64",
                  "stats": {
                    "unique_count": 35,
                    "nan_count": 0,
                    "min": "-7.647730458624462e+29",
                    "max": "0.4753171063466216",
                    "histogram": [
                      {
                        "bin_start": -7.647730458624462e+29,
                        "bin_end": -6.882957412762016e+29,
                        "count": 1
                      },
                      {
                        "bin_start": -6.882957412762016e+29,
                        "bin_end": -6.11818436689957e+29,
                        "count": 0
                      },
                      {
                        "bin_start": -6.11818436689957e+29,
                        "bin_end": -5.353411321037123e+29,
                        "count": 0
                      },
                      {
                        "bin_start": -5.353411321037123e+29,
                        "bin_end": -4.588638275174677e+29,
                        "count": 0
                      },
                      {
                        "bin_start": -4.588638275174677e+29,
                        "bin_end": -3.823865229312231e+29,
                        "count": 0
                      },
                      {
                        "bin_start": -3.823865229312231e+29,
                        "bin_end": -3.0590921834497843e+29,
                        "count": 0
                      },
                      {
                        "bin_start": -3.0590921834497843e+29,
                        "bin_end": -2.2943191375873382e+29,
                        "count": 0
                      },
                      {
                        "bin_start": -2.2943191375873382e+29,
                        "bin_end": -1.5295460917248921e+29,
                        "count": 0
                      },
                      {
                        "bin_start": -1.5295460917248921e+29,
                        "bin_end": -7.647730458624461e+28,
                        "count": 0
                      },
                      {
                        "bin_start": -7.647730458624461e+28,
                        "bin_end": 0.4753171063466216,
                        "count": 38
                      }
                    ]
                  }
                },
                {
                  "name": "R-Squared",
                  "dtype": "float64",
                  "stats": {
                    "unique_count": 35,
                    "nan_count": 0,
                    "min": "-5.658287062293099e+29",
                    "max": "0.6118055617902369",
                    "histogram": [
                      {
                        "bin_start": -5.658287062293099e+29,
                        "bin_end": -5.092458356063789e+29,
                        "count": 1
                      },
                      {
                        "bin_start": -5.092458356063789e+29,
                        "bin_end": -4.526629649834479e+29,
                        "count": 0
                      },
                      {
                        "bin_start": -4.526629649834479e+29,
                        "bin_end": -3.9608009436051696e+29,
                        "count": 0
                      },
                      {
                        "bin_start": -3.9608009436051696e+29,
                        "bin_end": -3.3949722373758596e+29,
                        "count": 0
                      },
                      {
                        "bin_start": -3.3949722373758596e+29,
                        "bin_end": -2.8291435311465495e+29,
                        "count": 0
                      },
                      {
                        "bin_start": -2.8291435311465495e+29,
                        "bin_end": -2.26331482491724e+29,
                        "count": 0
                      },
                      {
                        "bin_start": -2.26331482491724e+29,
                        "bin_end": -1.69748611868793e+29,
                        "count": 0
                      },
                      {
                        "bin_start": -1.69748611868793e+29,
                        "bin_end": -1.13165741245862e+29,
                        "count": 0
                      },
                      {
                        "bin_start": -1.13165741245862e+29,
                        "bin_end": -5.6582870622931e+28,
                        "count": 0
                      },
                      {
                        "bin_start": -5.6582870622931e+28,
                        "bin_end": 0.6118055617902369,
                        "count": 38
                      }
                    ]
                  }
                },
                {
                  "name": "RMSE",
                  "dtype": "float64",
                  "stats": {
                    "unique_count": 35,
                    "nan_count": 0,
                    "min": "0.8922924145531042",
                    "max": "1077271164108708.0",
                    "histogram": [
                      {
                        "bin_start": 0.8922924145531042,
                        "bin_end": 107727116410871.61,
                        "count": 38
                      },
                      {
                        "bin_start": 107727116410871.61,
                        "bin_end": 215454232821742.34,
                        "count": 0
                      },
                      {
                        "bin_start": 215454232821742.34,
                        "bin_end": 323181349232613,
                        "count": 0
                      },
                      {
                        "bin_start": 323181349232613,
                        "bin_end": 430908465643483.75,
                        "count": 0
                      },
                      {
                        "bin_start": 430908465643483.75,
                        "bin_end": 538635582054354.5,
                        "count": 0
                      },
                      {
                        "bin_start": 538635582054354.5,
                        "bin_end": 646362698465225.1,
                        "count": 0
                      },
                      {
                        "bin_start": 646362698465225.1,
                        "bin_end": 754089814876095.9,
                        "count": 0
                      },
                      {
                        "bin_start": 754089814876095.9,
                        "bin_end": 861816931286966.6,
                        "count": 0
                      },
                      {
                        "bin_start": 861816931286966.6,
                        "bin_end": 969544047697837.4,
                        "count": 0
                      },
                      {
                        "bin_start": 969544047697837.4,
                        "bin_end": 1077271164108708,
                        "count": 1
                      }
                    ]
                  }
                },
                {
                  "name": "Time Taken",
                  "dtype": "float64",
                  "stats": {
                    "unique_count": 39,
                    "nan_count": 0,
                    "min": "0.02584981918334961",
                    "max": "24.64172053337097",
                    "histogram": [
                      {
                        "bin_start": 0.02584981918334961,
                        "bin_end": 2.487436890602112,
                        "count": 34
                      },
                      {
                        "bin_start": 2.487436890602112,
                        "bin_end": 4.949023962020874,
                        "count": 1
                      },
                      {
                        "bin_start": 4.949023962020874,
                        "bin_end": 7.410611033439636,
                        "count": 1
                      },
                      {
                        "bin_start": 7.410611033439636,
                        "bin_end": 9.872198104858398,
                        "count": 0
                      },
                      {
                        "bin_start": 9.872198104858398,
                        "bin_end": 12.33378517627716,
                        "count": 2
                      },
                      {
                        "bin_start": 12.33378517627716,
                        "bin_end": 14.795372247695923,
                        "count": 0
                      },
                      {
                        "bin_start": 14.795372247695923,
                        "bin_end": 17.256959319114685,
                        "count": 0
                      },
                      {
                        "bin_start": 17.256959319114685,
                        "bin_end": 19.718546390533447,
                        "count": 0
                      },
                      {
                        "bin_start": 19.718546390533447,
                        "bin_end": 22.18013346195221,
                        "count": 0
                      },
                      {
                        "bin_start": 22.18013346195221,
                        "bin_end": 24.64172053337097,
                        "count": 1
                      }
                    ]
                  }
                },
                {
                  "name": "_deepnote_index_column",
                  "dtype": "object"
                }
              ],
              "rows": [
                {
                  "Adjusted R-Squared": 0.4753171063466216,
                  "R-Squared": 0.6118055617902369,
                  "RMSE": 0.8922924145531042,
                  "Time Taken": 2.4843623638153076,
                  "_deepnote_index_column": "RandomForestRegressor"
                },
                {
                  "Adjusted R-Squared": 0.47094259968945273,
                  "R-Squared": 0.6085690180134802,
                  "RMSE": 0.896004406064344,
                  "Time Taken": 1.1629436016082764,
                  "_deepnote_index_column": "HistGradientBoostingRegressor"
                },
                {
                  "Adjusted R-Squared": 0.4686009607260667,
                  "R-Squared": 0.6068365216182723,
                  "RMSE": 0.897985100741183,
                  "Time Taken": 1.1444509029388428,
                  "_deepnote_index_column": "SVR"
                },
                {
                  "Adjusted R-Squared": 0.46643240329013436,
                  "R-Squared": 0.6052320821639845,
                  "RMSE": 0.8998155045211963,
                  "Time Taken": 24.64172053337097,
                  "_deepnote_index_column": "MLPRegressor"
                },
                {
                  "Adjusted R-Squared": 0.46584369995067554,
                  "R-Squared": 0.6047965212472903,
                  "RMSE": 0.900311766251177,
                  "Time Taken": 0.9008886814117432,
                  "_deepnote_index_column": "NuSVR"
                },
                {
                  "Adjusted R-Squared": 0.44629041621965704,
                  "R-Squared": 0.5903297336219759,
                  "RMSE": 0.9166420343424739,
                  "Time Taken": 0.43370795249938965,
                  "_deepnote_index_column": "BaggingRegressor"
                },
                {
                  "Adjusted R-Squared": 0.4420684579668067,
                  "R-Squared": 0.5872060550497658,
                  "RMSE": 0.9201300318482055,
                  "Time Taken": 0.12580370903015137,
                  "_deepnote_index_column": "KNeighborsRegressor"
                },
                {
                  "Adjusted R-Squared": 0.40211471646940944,
                  "R-Squared": 0.5576456854959482,
                  "RMSE": 0.9525059129960664,
                  "Time Taken": 1.1164119243621826,
                  "_deepnote_index_column": "GradientBoostingRegressor"
                },
                {
                  "Adjusted R-Squared": 0.3721634341236566,
                  "R-Squared": 0.5354857840306784,
                  "RMSE": 0.9760724424175624,
                  "Time Taken": 3.388665199279785,
                  "_deepnote_index_column": "ExtraTreesRegressor"
                },
                {
                  "Adjusted R-Squared": 0.3492353822179647,
                  "R-Squared": 0.518522124005859,
                  "RMSE": 0.9937352937901545,
                  "Time Taken": 0.15372037887573242,
                  "_deepnote_index_column": "ExtraTreeRegressor"
                }
              ]
            },
            "text/plain": "                                              Adjusted R-Squared  \\\nModel                                                              \nRandomForestRegressor                                       0.48   \nHistGradientBoostingRegressor                               0.47   \nSVR                                                         0.47   \nMLPRegressor                                                0.47   \nNuSVR                                                       0.47   \nBaggingRegressor                                            0.45   \nKNeighborsRegressor                                         0.44   \nGradientBoostingRegressor                                   0.40   \nExtraTreesRegressor                                         0.37   \nExtraTreeRegressor                                          0.35   \nDecisionTreeRegressor                                       0.35   \nBayesianRidge                                               0.24   \nRidgeCV                                                     0.23   \nLassoCV                                                     0.23   \nElasticNetCV                                                0.23   \nRidge                                                       0.23   \nSGDRegressor                                                0.21   \nHuberRegressor                                              0.21   \nPoissonRegressor                                            0.20   \nLinearSVR                                                   0.16   \nTweedieRegressor                                            0.16   \nGammaRegressor                                              0.15   \nAdaBoostRegressor                                           0.15   \nLassoLarsIC                                                 0.11   \nOrthogonalMatchingPursuit                                   0.07   \nOrthogonalMatchingPursuitCV                                 0.07   \nLassoLarsCV                                                 0.02   \nPassiveAggressiveRegressor                                 -0.28   \nElasticNet                                                 -0.31   \nLasso                                                      -0.36   \nLassoLars                                                  -0.36   \nDummyRegressor                                             -0.36   \nLarsCV                                                     -0.73   \nGaussianProcessRegressor                                   -9.93   \nKernelRidge                                               -35.25   \nLinearRegression                      -2314871828217008226304.00   \nTransformedTargetRegressor            -2314871828217008226304.00   \nRANSACRegressor                      -80291013597527782981632.00   \nLars                          -764773045862446212599343218688.00   \n\n                                                       R-Squared  \\\nModel                                                              \nRandomForestRegressor                                       0.61   \nHistGradientBoostingRegressor                               0.61   \nSVR                                                         0.61   \nMLPRegressor                                                0.61   \nNuSVR                                                       0.60   \nBaggingRegressor                                            0.59   \nKNeighborsRegressor                                         0.59   \nGradientBoostingRegressor                                   0.56   \nExtraTreesRegressor                                         0.54   \nExtraTreeRegressor                                          0.52   \nDecisionTreeRegressor                                       0.52   \nBayesianRidge                                               0.43   \nRidgeCV                                                     0.43   \nLassoCV                                                     0.43   \nElasticNetCV                                                0.43   \nRidge                                                       0.43   \nSGDRegressor                                                0.42   \nHuberRegressor                                              0.42   \nPoissonRegressor                                            0.41   \nLinearSVR                                                   0.38   \nTweedieRegressor                                            0.38   \nGammaRegressor                                              0.37   \nAdaBoostRegressor                                           0.37   \nLassoLarsIC                                                 0.34   \nOrthogonalMatchingPursuit                                   0.31   \nOrthogonalMatchingPursuitCV                                 0.31   \nLassoLarsCV                                                 0.28   \nPassiveAggressiveRegressor                                  0.05   \nElasticNet                                                  0.03   \nLasso                                                      -0.01   \nLassoLars                                                  -0.01   \nDummyRegressor                                             -0.01   \nLarsCV                                                     -0.28   \nGaussianProcessRegressor                                   -7.09   \nKernelRidge                                               -25.82   \nLinearRegression                      -1712692332363259576320.00   \nTransformedTargetRegressor            -1712692332363259576320.00   \nRANSACRegressor                      -59404499925197928792064.00   \nLars                          -565828706229309902414080376832.00   \n\n                                             RMSE  Time Taken  \nModel                                                          \nRandomForestRegressor                        0.89        2.48  \nHistGradientBoostingRegressor                0.90        1.16  \nSVR                                          0.90        1.14  \nMLPRegressor                                 0.90       24.64  \nNuSVR                                        0.90        0.90  \nBaggingRegressor                             0.92        0.43  \nKNeighborsRegressor                          0.92        0.13  \nGradientBoostingRegressor                    0.95        1.12  \nExtraTreesRegressor                          0.98        3.39  \nExtraTreeRegressor                           0.99        0.15  \nDecisionTreeRegressor                        0.99        0.21  \nBayesianRidge                                1.08        0.26  \nRidgeCV                                      1.08        0.31  \nLassoCV                                      1.08       11.50  \nElasticNetCV                                 1.08       11.70  \nRidge                                        1.08        0.11  \nSGDRegressor                                 1.09        0.21  \nHuberRegressor                               1.09        1.31  \nPoissonRegressor                             1.10        0.31  \nLinearSVR                                    1.13        0.66  \nTweedieRegressor                             1.13        0.21  \nGammaRegressor                               1.14        0.15  \nAdaBoostRegressor                            1.14        1.43  \nLassoLarsIC                                  1.16        0.50  \nOrthogonalMatchingPursuit                    1.19        0.03  \nOrthogonalMatchingPursuitCV                  1.19        0.58  \nLassoLarsCV                                  1.22        0.78  \nPassiveAggressiveRegressor                   1.39        0.20  \nElasticNet                                   1.41        0.04  \nLasso                                        1.44        0.19  \nLassoLars                                    1.44        0.13  \nDummyRegressor                               1.44        0.03  \nLarsCV                                       1.62        1.31  \nGaussianProcessRegressor                     4.07        2.32  \nKernelRidge                                  7.42        0.96  \nLinearRegression                   59268266269.41        0.29  \nTransformedTargetRegressor         59268266269.41        0.22  \nRANSACRegressor                   349053678169.71        5.40  \nLars                          1077271164108708.00        0.30  ",
            "text/html": "<div>\n<style scoped>\n    .dataframe tbody tr th:only-of-type {\n        vertical-align: middle;\n    }\n\n    .dataframe tbody tr th {\n        vertical-align: top;\n    }\n\n    .dataframe thead th {\n        text-align: right;\n    }\n</style>\n<table border=\"1\" class=\"dataframe\">\n  <thead>\n    <tr style=\"text-align: right;\">\n      <th></th>\n      <th>Adjusted R-Squared</th>\n      <th>R-Squared</th>\n      <th>RMSE</th>\n      <th>Time Taken</th>\n    </tr>\n    <tr>\n      <th>Model</th>\n      <th></th>\n      <th></th>\n      <th></th>\n      <th></th>\n    </tr>\n  </thead>\n  <tbody>\n    <tr>\n      <th>RandomForestRegressor</th>\n      <td>0.48</td>\n      <td>0.61</td>\n      <td>0.89</td>\n      <td>2.48</td>\n    </tr>\n    <tr>\n      <th>HistGradientBoostingRegressor</th>\n      <td>0.47</td>\n      <td>0.61</td>\n      <td>0.90</td>\n      <td>1.16</td>\n    </tr>\n    <tr>\n      <th>SVR</th>\n      <td>0.47</td>\n      <td>0.61</td>\n      <td>0.90</td>\n      <td>1.14</td>\n    </tr>\n    <tr>\n      <th>MLPRegressor</th>\n      <td>0.47</td>\n      <td>0.61</td>\n      <td>0.90</td>\n      <td>24.64</td>\n    </tr>\n    <tr>\n      <th>NuSVR</th>\n      <td>0.47</td>\n      <td>0.60</td>\n      <td>0.90</td>\n      <td>0.90</td>\n    </tr>\n    <tr>\n      <th>BaggingRegressor</th>\n      <td>0.45</td>\n      <td>0.59</td>\n      <td>0.92</td>\n      <td>0.43</td>\n    </tr>\n    <tr>\n      <th>KNeighborsRegressor</th>\n      <td>0.44</td>\n      <td>0.59</td>\n      <td>0.92</td>\n      <td>0.13</td>\n    </tr>\n    <tr>\n      <th>GradientBoostingRegressor</th>\n      <td>0.40</td>\n      <td>0.56</td>\n      <td>0.95</td>\n      <td>1.12</td>\n    </tr>\n    <tr>\n      <th>ExtraTreesRegressor</th>\n      <td>0.37</td>\n      <td>0.54</td>\n      <td>0.98</td>\n      <td>3.39</td>\n    </tr>\n    <tr>\n      <th>ExtraTreeRegressor</th>\n      <td>0.35</td>\n      <td>0.52</td>\n      <td>0.99</td>\n      <td>0.15</td>\n    </tr>\n    <tr>\n      <th>DecisionTreeRegressor</th>\n      <td>0.35</td>\n      <td>0.52</td>\n      <td>0.99</td>\n      <td>0.21</td>\n    </tr>\n    <tr>\n      <th>BayesianRidge</th>\n      <td>0.24</td>\n      <td>0.43</td>\n      <td>1.08</td>\n      <td>0.26</td>\n    </tr>\n    <tr>\n      <th>RidgeCV</th>\n      <td>0.23</td>\n      <td>0.43</td>\n      <td>1.08</td>\n      <td>0.31</td>\n    </tr>\n    <tr>\n      <th>LassoCV</th>\n      <td>0.23</td>\n      <td>0.43</td>\n      <td>1.08</td>\n      <td>11.50</td>\n    </tr>\n    <tr>\n      <th>ElasticNetCV</th>\n      <td>0.23</td>\n      <td>0.43</td>\n      <td>1.08</td>\n      <td>11.70</td>\n    </tr>\n    <tr>\n      <th>Ridge</th>\n      <td>0.23</td>\n      <td>0.43</td>\n      <td>1.08</td>\n      <td>0.11</td>\n    </tr>\n    <tr>\n      <th>SGDRegressor</th>\n      <td>0.21</td>\n      <td>0.42</td>\n      <td>1.09</td>\n      <td>0.21</td>\n    </tr>\n    <tr>\n      <th>HuberRegressor</th>\n      <td>0.21</td>\n      <td>0.42</td>\n      <td>1.09</td>\n      <td>1.31</td>\n    </tr>\n    <tr>\n      <th>PoissonRegressor</th>\n      <td>0.20</td>\n      <td>0.41</td>\n      <td>1.10</td>\n      <td>0.31</td>\n    </tr>\n    <tr>\n      <th>LinearSVR</th>\n      <td>0.16</td>\n      <td>0.38</td>\n      <td>1.13</td>\n      <td>0.66</td>\n    </tr>\n    <tr>\n      <th>TweedieRegressor</th>\n      <td>0.16</td>\n      <td>0.38</td>\n      <td>1.13</td>\n      <td>0.21</td>\n    </tr>\n    <tr>\n      <th>GammaRegressor</th>\n      <td>0.15</td>\n      <td>0.37</td>\n      <td>1.14</td>\n      <td>0.15</td>\n    </tr>\n    <tr>\n      <th>AdaBoostRegressor</th>\n      <td>0.15</td>\n      <td>0.37</td>\n      <td>1.14</td>\n      <td>1.43</td>\n    </tr>\n    <tr>\n      <th>LassoLarsIC</th>\n      <td>0.11</td>\n      <td>0.34</td>\n      <td>1.16</td>\n      <td>0.50</td>\n    </tr>\n    <tr>\n      <th>OrthogonalMatchingPursuit</th>\n      <td>0.07</td>\n      <td>0.31</td>\n      <td>1.19</td>\n      <td>0.03</td>\n    </tr>\n    <tr>\n      <th>OrthogonalMatchingPursuitCV</th>\n      <td>0.07</td>\n      <td>0.31</td>\n      <td>1.19</td>\n      <td>0.58</td>\n    </tr>\n    <tr>\n      <th>LassoLarsCV</th>\n      <td>0.02</td>\n      <td>0.28</td>\n      <td>1.22</td>\n      <td>0.78</td>\n    </tr>\n    <tr>\n      <th>PassiveAggressiveRegressor</th>\n      <td>-0.28</td>\n      <td>0.05</td>\n      <td>1.39</td>\n      <td>0.20</td>\n    </tr>\n    <tr>\n      <th>ElasticNet</th>\n      <td>-0.31</td>\n      <td>0.03</td>\n      <td>1.41</td>\n      <td>0.04</td>\n    </tr>\n    <tr>\n      <th>Lasso</th>\n      <td>-0.36</td>\n      <td>-0.01</td>\n      <td>1.44</td>\n      <td>0.19</td>\n    </tr>\n    <tr>\n      <th>LassoLars</th>\n      <td>-0.36</td>\n      <td>-0.01</td>\n      <td>1.44</td>\n      <td>0.13</td>\n    </tr>\n    <tr>\n      <th>DummyRegressor</th>\n      <td>-0.36</td>\n      <td>-0.01</td>\n      <td>1.44</td>\n      <td>0.03</td>\n    </tr>\n    <tr>\n      <th>LarsCV</th>\n      <td>-0.73</td>\n      <td>-0.28</td>\n      <td>1.62</td>\n      <td>1.31</td>\n    </tr>\n    <tr>\n      <th>GaussianProcessRegressor</th>\n      <td>-9.93</td>\n      <td>-7.09</td>\n      <td>4.07</td>\n      <td>2.32</td>\n    </tr>\n    <tr>\n      <th>KernelRidge</th>\n      <td>-35.25</td>\n      <td>-25.82</td>\n      <td>7.42</td>\n      <td>0.96</td>\n    </tr>\n    <tr>\n      <th>LinearRegression</th>\n      <td>-2314871828217008226304.00</td>\n      <td>-1712692332363259576320.00</td>\n      <td>59268266269.41</td>\n      <td>0.29</td>\n    </tr>\n    <tr>\n      <th>TransformedTargetRegressor</th>\n      <td>-2314871828217008226304.00</td>\n      <td>-1712692332363259576320.00</td>\n      <td>59268266269.41</td>\n      <td>0.22</td>\n    </tr>\n    <tr>\n      <th>RANSACRegressor</th>\n      <td>-80291013597527782981632.00</td>\n      <td>-59404499925197928792064.00</td>\n      <td>349053678169.71</td>\n      <td>5.40</td>\n    </tr>\n    <tr>\n      <th>Lars</th>\n      <td>-764773045862446212599343218688.00</td>\n      <td>-565828706229309902414080376832.00</td>\n      <td>1077271164108708.00</td>\n      <td>0.30</td>\n    </tr>\n  </tbody>\n</table>\n</div>"
          },
          "metadata": {}
        }
      ],
      "execution_count": 39
    },
    {
      "cell_type": "code",
      "source": "# Bar plot of R-squared values\n#train[\"R-Squared\"] = [0 if i < 0 else i for i in train.iloc[:,0] ]\nplt.figure(figsize=(5, 10))\nsns.set_theme(style=\"whitegrid\")\nax = sns.barplot(y=predictions.index, x=\"R-Squared\", data=predictions)\nax.set(xlim=(0, 1))",
      "metadata": {
        "source_hash": "2a55b100",
        "execution_start": 1690136277362,
        "execution_millis": 512,
        "deepnote_to_be_reexecuted": false,
        "cell_id": "692f58f4bafa4c838ccbda95ec836d9b",
        "deepnote_cell_type": "code"
      },
      "outputs": [
        {
          "output_type": "execute_result",
          "execution_count": 91,
          "data": {
            "text/plain": "[(0.0, 1.0)]"
          },
          "metadata": {}
        },
        {
          "data": {
            "text/plain": "<Figure size 500x1000 with 1 Axes>",
            "image/png": "[encoded data removed]"
          },
          "metadata": {
            "image/png": {
              "width": 696,
              "height": 841
            }
          },
          "output_type": "display_data"
        }
      ],
      "execution_count": 91
    },
    {
      "cell_type": "code",
      "source": "# Bar plot of RMSE values\nplt.figure(figsize=(5, 10))\nsns.set_theme(style=\"whitegrid\")\nax = sns.barplot(y=predictions.index, x=\"RMSE\", data=predictions)\nax.set(xlim=(0, 10))",
      "metadata": {
        "source_hash": "c634a642",
        "execution_start": 1690136288709,
        "execution_millis": 466,
        "deepnote_to_be_reexecuted": false,
        "cell_id": "ed3a36a4afe94b0ca6cddafed609140e",
        "deepnote_cell_type": "code"
      },
      "outputs": [
        {
          "output_type": "execute_result",
          "execution_count": 92,
          "data": {
            "text/plain": "[(0.0, 10.0)]"
          },
          "metadata": {}
        },
        {
          "data": {
            "text/plain": "<Figure size 500x1000 with 1 Axes>",
            "image/png": "[encoded data removed]"
          },
          "metadata": {
            "image/png": {
              "width": 693,
              "height": 841
            }
          },
          "output_type": "display_data"
        }
      ],
      "execution_count": 92
    },
    {
      "cell_type": "code",
      "source": "# Bar plot of calculation time\nplt.figure(figsize=(5, 10))\nsns.set_theme(style=\"whitegrid\")\nax = sns.barplot(y=predictions.index, x=\"Time Taken\", data=predictions)\nax.set(xlim=(0, 10))",
      "metadata": {
        "source_hash": "6cb9bc28",
        "execution_start": 1690136298974,
        "execution_millis": 588,
        "deepnote_to_be_reexecuted": false,
        "cell_id": "4734ad0a822c4645986954842fdfe9ad",
        "deepnote_cell_type": "code"
      },
      "outputs": [
        {
          "output_type": "execute_result",
          "execution_count": 93,
          "data": {
            "text/plain": "[(0.0, 10.0)]"
          },
          "metadata": {}
        },
        {
          "data": {
            "text/plain": "<Figure size 500x1000 with 1 Axes>",
            "image/png": "[encoded data removed]"
          },
          "metadata": {
            "image/png": {
              "width": 693,
              "height": 841
            }
          },
          "output_type": "display_data"
        }
      ],
      "execution_count": 93
    },
    {
      "cell_type": "code",
      "source": "# Build the Regression Model based on the one with best overall performance (finetuning the 3 best models\n# from above)\nnp.random.seed(100)\nrandom_forest = RandomForestRegressor()\n\nparam_distributions = {\"max_depth\": [6, 5, 4, 3, None], \"min_samples_split\": [num for num in range(2, 11)]}\nsearch = HalvingRandomSearchCV(random_forest, param_distributions).fit(X_train, Y_train)\nsearch.best_params_",
      "metadata": {
        "source_hash": "d5df6af4",
        "execution_start": 1690136855402,
        "execution_millis": 123189,
        "deepnote_to_be_reexecuted": false,
        "cell_id": "d8ee150e50ab462eb06c4c904dc31926",
        "deepnote_cell_type": "code"
      },
      "outputs": [
        {
          "output_type": "execute_result",
          "execution_count": 99,
          "data": {
            "text/plain": "{'min_samples_split': 2, 'max_depth': 4}"
          },
          "metadata": {}
        }
      ],
      "execution_count": 99
    },
    {
      "cell_type": "code",
      "source": "Y_pred = search.predict(X_test)",
      "metadata": {
        "source_hash": "16b91354",
        "execution_start": 1690137115316,
        "execution_millis": 54,
        "deepnote_to_be_reexecuted": false,
        "cell_id": "d15fb267692e4a0698ddb74de95cce9e",
        "deepnote_cell_type": "code"
      },
      "outputs": [],
      "execution_count": 100
    },
    {
      "cell_type": "code",
      "source": "r2 = search.score(X_test, Y_test)\nr2",
      "metadata": {
        "source_hash": "40dccc75",
        "execution_start": 1690137134960,
        "execution_millis": 29,
        "deepnote_to_be_reexecuted": false,
        "cell_id": "43648693bc224e71b2bf53d4eac4624f",
        "deepnote_cell_type": "code"
      },
      "outputs": [
        {
          "output_type": "execute_result",
          "execution_count": 102,
          "data": {
            "text/plain": "0.471295228753164"
          },
          "metadata": {}
        }
      ],
      "execution_count": 102
    },
    {
      "cell_type": "code",
      "source": "param_distributions = {\"max_depth\": [5, 3, None], \"min_samples_split\": randint(2, 11)}",
      "metadata": {
        "cell_id": "aefc7d2ddab44b5eb9ac0994afef92d6",
        "deepnote_cell_type": "code"
      },
      "outputs": [],
      "execution_count": null
    },
    {
      "cell_type": "code",
      "source": "# Scatter Plot of Experimental vs Predicted pIC50 Values\nsns.set(color_codes=True)\nsns.set_style(\"darkgrid\")\n\nax = sns.regplot(x=Y_test, y=Y_pred, scatter_kws={'alpha':0.4, \"color\": \"black\"}, line_kws={\"color\": \"red\"})\nax.set_xlabel('Experimental pIC50', fontsize='large', fontweight='bold')\nax.set_ylabel('Predicted pIC50', fontsize='large', fontweight='bold')\nax.set_xlim(0, 12)\nax.set_ylim(0, 12)\nax.figure.set_size_inches(5, 5)\nplt.show",
      "metadata": {
        "source_hash": "886b5611",
        "execution_start": 1690133115999,
        "execution_millis": 573,
        "deepnote_to_be_reexecuted": false,
        "cell_id": "410bbe1fac524deea16e79a03beee858",
        "deepnote_cell_type": "code"
      },
      "outputs": [
        {
          "output_type": "execute_result",
          "execution_count": 56,
          "data": {
            "text/plain": "<function matplotlib.pyplot.show(close=None, block=None)>"
          },
          "metadata": {}
        },
        {
          "data": {
            "text/plain": "<Figure size 500x500 with 1 Axes>",
            "image/png": "[encoded data removed]"
          },
          "metadata": {
            "image/png": {
              "width": 474,
              "height": 463
            }
          },
          "output_type": "display_data"
        }
      ],
      "execution_count": 56
    },
    {
      "cell_type": "markdown",
      "source": "## KAT5 Fingerprints",
      "metadata": {
        "cell_id": "303da37b37674981af949dd27892f75d",
        "deepnote_cell_type": "markdown"
      }
    },
    {
      "cell_type": "code",
      "source": "X_kat5 = df_kat5.drop('pIC50', axis=1)\nX_kat5",
      "metadata": {
        "cell_id": "642d19a987f54af7b8c04b50d8d3de3a",
        "deepnote_cell_type": "code"
      },
      "outputs": [],
      "execution_count": null
    },
    {
      "cell_type": "code",
      "source": "Y_kat5 = df_kat5.pIC50\nY_kat5",
      "metadata": {
        "cell_id": "fc8a6045c6894f23bfa22ff0fb8e79eb",
        "deepnote_cell_type": "code"
      },
      "outputs": [],
      "execution_count": null
    },
    {
      "cell_type": "code",
      "source": "X_kat5.shape",
      "metadata": {
        "cell_id": "1a292db03b7540228b0f8656f6029569",
        "deepnote_cell_type": "code"
      },
      "outputs": [],
      "execution_count": null
    },
    {
      "cell_type": "code",
      "source": "Y_kat5.shape",
      "metadata": {
        "cell_id": "7ea21295be424c0ab3a6fc5595621b1e",
        "deepnote_cell_type": "code"
      },
      "outputs": [],
      "execution_count": null
    },
    {
      "cell_type": "code",
      "source": "# Remove low variance features\nselection = VarianceThreshold(threshold=(.8 * (1 - .8)))    \nX_kat5 = selection.fit_transform(X_kat5)",
      "metadata": {
        "cell_id": "04b9d44cdfd54c5188991302a35e3f16",
        "deepnote_cell_type": "code"
      },
      "outputs": [],
      "execution_count": null
    },
    {
      "cell_type": "code",
      "source": "X_kat5.shape",
      "metadata": {
        "cell_id": "5d96020f4c624fbba2e85c73a7e73de5",
        "deepnote_cell_type": "code"
      },
      "outputs": [],
      "execution_count": null
    },
    {
      "cell_type": "code",
      "source": "# Split the model into 80-20 format\nX_kat5_train, X_kat5_test, Y_kat5_train, Y_kat5_test = train_test_split(X_kat5, Y_kat5, \n                                                                        test_size=0.2, random_state=42)",
      "metadata": {
        "cell_id": "9b4ee19a3a204a4b8134a749809fbef2",
        "deepnote_cell_type": "code"
      },
      "outputs": [],
      "execution_count": null
    },
    {
      "cell_type": "code",
      "source": "X_kat5_train.shape, Y_kat5_train.shape",
      "metadata": {
        "cell_id": "90b94f2d854f4751ac6a5ab024ebe85a",
        "deepnote_cell_type": "code"
      },
      "outputs": [],
      "execution_count": null
    },
    {
      "cell_type": "code",
      "source": "X_test.shape, Y_test.shape",
      "metadata": {
        "cell_id": "cfb132bd0c334cb085fd90b785ca8e00",
        "deepnote_cell_type": "code"
      },
      "outputs": [],
      "execution_count": null
    },
    {
      "cell_type": "markdown",
      "source": "<a style='text-decoration:none;line-height:16px;display:flex;color:#5B5B62;padding:10px;justify-content:end;' href='https://deepnote.com?utm_source=created-in-deepnote-cell&projectId=f6035b11-f7b4-4c22-8497-513296c81550' target=\"_blank\">\n<img alt='Created in deepnote.com' style='display:inline;max-height:16px;margin:0px;margin-right:7.5px;' src='data:image/svg+xml;base64,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' > </img>\nCreated in <span style='font-weight:600;margin-left:4px;'>Deepnote</span></a>",
      "metadata": {
        "created_in_deepnote_cell": true,
        "deepnote_cell_type": "markdown"
      }
    }
  ],
  "nbformat": 4,
  "nbformat_minor": 0,
  "metadata": {
    "deepnote": {},
    "orig_nbformat": 2,
    "deepnote_notebook_id": "4ef374925c384d959a3291a9be1a5c40",
    "deepnote_execution_queue": []
  }
}